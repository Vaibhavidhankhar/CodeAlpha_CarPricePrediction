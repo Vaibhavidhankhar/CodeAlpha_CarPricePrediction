{
  "nbformat": 4,
  "nbformat_minor": 0,
  "metadata": {
    "colab": {
      "provenance": [],
      "authorship_tag": "ABX9TyPut83vPOMzLAQJi8OkAwN3",
      "include_colab_link": true
    },
    "kernelspec": {
      "name": "python3",
      "display_name": "Python 3"
    },
    "language_info": {
      "name": "python"
    }
  },
  "cells": [
    {
      "cell_type": "markdown",
      "metadata": {
        "id": "view-in-github",
        "colab_type": "text"
      },
      "source": [
        "<a href=\"https://colab.research.google.com/github/Vaibhavidhankhar/CodeAlpha_CarPricePrediction/blob/main/CodeAlpha_CarPricePrediction.ipynb\" target=\"_parent\"><img src=\"https://colab.research.google.com/assets/colab-badge.svg\" alt=\"Open In Colab\"/></a>"
      ]
    },
    {
      "cell_type": "markdown",
      "source": [
        "## 📌 Title:\n",
        "\n",
        "# **Car Price Prediction:**\n",
        "\n"
      ],
      "metadata": {
        "id": "kGiXq_UKQs6R"
      }
    },
    {
      "cell_type": "markdown",
      "source": [
        "\n",
        "<img src=\"https://media.istockphoto.com/id/1254193545/vector/automobile-stock-market-car-sales-increase-and-decrease.jpg?s=612x612&w=0&k=20&c=d7_1WRJcr4DeDmqK21KJwb9SQRpIDgpmX7QctFvIjp8=\" width=\"900\" height=\"450\">\n"
      ],
      "metadata": {
        "id": "M2HZNO6LQwYH"
      }
    },
    {
      "cell_type": "markdown",
      "source": [
        "##🚗 Introduction\n",
        "\n",
        "# **vijayaadithyanvg/car-price-predictionused-cars (official requirement ✅)**\n",
        "\n",
        "Predicting car prices is a real-world challenge that blends business insight with data science. In this project, we use machine learning to estimate the price of cars based on features such as brand, mileage, horsepower, and other specifications. The project explores how data-driven models can quantify the influence of different factors on pricing.\n",
        "We will answer questions such as:\n",
        "- Which features have the strongest impact on car prices?\n",
        "- How accurately can we predict car prices using regression models?\n",
        "- Can feature engineering improve model performance and reliability?\n",
        "##💡 Why This Project Matters\n",
        "Car price prediction is widely applicable in marketplaces, dealerships, and financial services. This project helps us:\n",
        "- 📊 Develop Regression Modeling Skills – Build and evaluate models like Linear Regression, Random Forest, or XGBoost.\n",
        "- 🔍 Perform Feature Engineering – Transform and encode features to improve predictive accuracy.\n",
        "- 🧠 Understand Model Evaluation – Use metrics like RMSE, MAE, and R² to assess performance.\n",
        "- 🚀 Apply Python for Business Insights – Use Pandas, NumPy, Matplotlib, and Seaborn for real-world data analysis.\n",
        "##📂 About the Dataset\n",
        "- Size: Rows × columns (as per CSV)\n",
        "- Features: Brand, model, mileage, horsepower, engine size, and other car attributes\n",
        "- Target: Car price\n",
        "- Source: Kaggle – Car Price Prediction Dataset\n",
        "- Use Case: Predict car prices based on specifications and provide insights for buyers, sellers, or financial analysis.\n",
        "\n",
        "This project transforms car specifications into accurate price predictions, showing how machine learning can power decision-making in the automotive industry."
      ],
      "metadata": {
        "id": "B4xDG0tPQyuW"
      }
    },
    {
      "cell_type": "code",
      "source": [
        "# IMPORTANT: RUN THIS CELL IN ORDER TO IMPORT YOUR KAGGLE DATA SOURCES,\n",
        "# THEN FEEL FREE TO DELETE THIS CELL.\n",
        "# NOTE: THIS NOTEBOOK ENVIRONMENT DIFFERS FROM KAGGLE'S PYTHON\n",
        "# ENVIRONMENT SO THERE MAY BE MISSING LIBRARIES USED BY YOUR\n",
        "# NOTEBOOK.\n"
      ],
      "metadata": {
        "id": "w-OnDJjxQ1nC"
      },
      "execution_count": null,
      "outputs": []
    },
    {
      "cell_type": "code",
      "source": [
        "import kagglehub\n",
        "avikasliwal_used_cars_price_prediction_path = kagglehub.dataset_download('avikasliwal/used-cars-price-prediction')\n",
        "hellbuoy_car_price_prediction_path = kagglehub.dataset_download('hellbuoy/car-price-prediction')\n",
        "vijayaadithyanvg_car_price_predictionused_cars_path = kagglehub.dataset_download('vijayaadithyanvg/car-price-predictionused-cars')\n",
        "taeefnajib_used_car_price_prediction_dataset_path = kagglehub.dataset_download('taeefnajib/used-car-price-prediction-dataset')\n",
        "milanvaddoriya_old_car_price_prediction_path = kagglehub.dataset_download('milanvaddoriya/old-car-price-prediction')\n",
        "print('Data source import complete.')"
      ],
      "metadata": {
        "colab": {
          "base_uri": "https://localhost:8080/"
        },
        "id": "hQWzfLmSQ1kl",
        "outputId": "865129b1-1258-40d2-a782-8256e5ba872c"
      },
      "execution_count": null,
      "outputs": [
        {
          "output_type": "stream",
          "name": "stdout",
          "text": [
            "Warning: Looks like you're using an outdated `kagglehub` version (installed: 0.3.12), please consider upgrading to the latest version (0.3.13).\n",
            "Downloading from https://www.kaggle.com/api/v1/datasets/download/avikasliwal/used-cars-price-prediction?dataset_version_number=2...\n"
          ]
        },
        {
          "output_type": "stream",
          "name": "stderr",
          "text": [
            "100%|██████████| 172k/172k [00:00<00:00, 32.8MB/s]"
          ]
        },
        {
          "output_type": "stream",
          "name": "stdout",
          "text": [
            "Extracting files...\n"
          ]
        },
        {
          "output_type": "stream",
          "name": "stderr",
          "text": [
            "\n"
          ]
        },
        {
          "output_type": "stream",
          "name": "stdout",
          "text": [
            "Warning: Looks like you're using an outdated `kagglehub` version (installed: 0.3.12), please consider upgrading to the latest version (0.3.13).\n",
            "Downloading from https://www.kaggle.com/api/v1/datasets/download/hellbuoy/car-price-prediction?dataset_version_number=1...\n"
          ]
        },
        {
          "output_type": "stream",
          "name": "stderr",
          "text": [
            "100%|██████████| 18.1k/18.1k [00:00<00:00, 24.7MB/s]"
          ]
        },
        {
          "output_type": "stream",
          "name": "stdout",
          "text": [
            "Extracting files...\n"
          ]
        },
        {
          "output_type": "stream",
          "name": "stderr",
          "text": [
            "\n"
          ]
        },
        {
          "output_type": "stream",
          "name": "stdout",
          "text": [
            "Warning: Looks like you're using an outdated `kagglehub` version (installed: 0.3.12), please consider upgrading to the latest version (0.3.13).\n",
            "Downloading from https://www.kaggle.com/api/v1/datasets/download/vijayaadithyanvg/car-price-predictionused-cars?dataset_version_number=1...\n"
          ]
        },
        {
          "output_type": "stream",
          "name": "stderr",
          "text": [
            "100%|██████████| 3.76k/3.76k [00:00<00:00, 4.70MB/s]"
          ]
        },
        {
          "output_type": "stream",
          "name": "stdout",
          "text": [
            "Extracting files...\n"
          ]
        },
        {
          "output_type": "stream",
          "name": "stderr",
          "text": [
            "\n"
          ]
        },
        {
          "output_type": "stream",
          "name": "stdout",
          "text": [
            "Warning: Looks like you're using an outdated `kagglehub` version (installed: 0.3.12), please consider upgrading to the latest version (0.3.13).\n",
            "Downloading from https://www.kaggle.com/api/v1/datasets/download/taeefnajib/used-car-price-prediction-dataset?dataset_version_number=1...\n"
          ]
        },
        {
          "output_type": "stream",
          "name": "stderr",
          "text": [
            "100%|██████████| 109k/109k [00:00<00:00, 35.9MB/s]"
          ]
        },
        {
          "output_type": "stream",
          "name": "stdout",
          "text": [
            "Extracting files...\n"
          ]
        },
        {
          "output_type": "stream",
          "name": "stderr",
          "text": [
            "\n"
          ]
        },
        {
          "output_type": "stream",
          "name": "stdout",
          "text": [
            "Warning: Looks like you're using an outdated `kagglehub` version (installed: 0.3.12), please consider upgrading to the latest version (0.3.13).\n",
            "Downloading from https://www.kaggle.com/api/v1/datasets/download/milanvaddoriya/old-car-price-prediction?dataset_version_number=1...\n"
          ]
        },
        {
          "output_type": "stream",
          "name": "stderr",
          "text": [
            "100%|██████████| 105k/105k [00:00<00:00, 41.7MB/s]"
          ]
        },
        {
          "output_type": "stream",
          "name": "stdout",
          "text": [
            "Extracting files...\n",
            "Data source import complete.\n"
          ]
        },
        {
          "output_type": "stream",
          "name": "stderr",
          "text": [
            "\n"
          ]
        }
      ]
    },
    {
      "cell_type": "code",
      "source": [
        "!pip install opendatasets"
      ],
      "metadata": {
        "colab": {
          "base_uri": "https://localhost:8080/"
        },
        "id": "a-0iDCDoQ1hf",
        "outputId": "45254a90-ee83-465c-c1f6-8d358bd9e26f"
      },
      "execution_count": null,
      "outputs": [
        {
          "output_type": "stream",
          "name": "stdout",
          "text": [
            "Collecting opendatasets\n",
            "  Downloading opendatasets-0.1.22-py3-none-any.whl.metadata (9.2 kB)\n",
            "Requirement already satisfied: tqdm in /usr/local/lib/python3.12/dist-packages (from opendatasets) (4.67.1)\n",
            "Requirement already satisfied: kaggle in /usr/local/lib/python3.12/dist-packages (from opendatasets) (1.7.4.5)\n",
            "Requirement already satisfied: click in /usr/local/lib/python3.12/dist-packages (from opendatasets) (8.2.1)\n",
            "Requirement already satisfied: bleach in /usr/local/lib/python3.12/dist-packages (from kaggle->opendatasets) (6.2.0)\n",
            "Requirement already satisfied: certifi>=14.05.14 in /usr/local/lib/python3.12/dist-packages (from kaggle->opendatasets) (2025.8.3)\n",
            "Requirement already satisfied: charset-normalizer in /usr/local/lib/python3.12/dist-packages (from kaggle->opendatasets) (3.4.3)\n",
            "Requirement already satisfied: idna in /usr/local/lib/python3.12/dist-packages (from kaggle->opendatasets) (3.10)\n",
            "Requirement already satisfied: protobuf in /usr/local/lib/python3.12/dist-packages (from kaggle->opendatasets) (5.29.5)\n",
            "Requirement already satisfied: python-dateutil>=2.5.3 in /usr/local/lib/python3.12/dist-packages (from kaggle->opendatasets) (2.9.0.post0)\n",
            "Requirement already satisfied: python-slugify in /usr/local/lib/python3.12/dist-packages (from kaggle->opendatasets) (8.0.4)\n",
            "Requirement already satisfied: requests in /usr/local/lib/python3.12/dist-packages (from kaggle->opendatasets) (2.32.4)\n",
            "Requirement already satisfied: setuptools>=21.0.0 in /usr/local/lib/python3.12/dist-packages (from kaggle->opendatasets) (75.2.0)\n",
            "Requirement already satisfied: six>=1.10 in /usr/local/lib/python3.12/dist-packages (from kaggle->opendatasets) (1.17.0)\n",
            "Requirement already satisfied: text-unidecode in /usr/local/lib/python3.12/dist-packages (from kaggle->opendatasets) (1.3)\n",
            "Requirement already satisfied: urllib3>=1.15.1 in /usr/local/lib/python3.12/dist-packages (from kaggle->opendatasets) (2.5.0)\n",
            "Requirement already satisfied: webencodings in /usr/local/lib/python3.12/dist-packages (from kaggle->opendatasets) (0.5.1)\n",
            "Downloading opendatasets-0.1.22-py3-none-any.whl (15 kB)\n",
            "Installing collected packages: opendatasets\n",
            "Successfully installed opendatasets-0.1.22\n"
          ]
        }
      ]
    },
    {
      "cell_type": "code",
      "source": [
        "import opendatasets as od\n",
        "import pandas as pd"
      ],
      "metadata": {
        "id": "yMSI8wqSQ1c2"
      },
      "execution_count": null,
      "outputs": []
    },
    {
      "cell_type": "code",
      "source": [
        "od.download(\"https://www.kaggle.com/datasets/avikasliwal/used-cars-price-prediction\")"
      ],
      "metadata": {
        "colab": {
          "base_uri": "https://localhost:8080/"
        },
        "id": "juLXv0fCQ1YG",
        "outputId": "613fb58a-4177-49ea-e8f5-b8d13d63c39c"
      },
      "execution_count": null,
      "outputs": [
        {
          "output_type": "stream",
          "name": "stdout",
          "text": [
            "Please provide your Kaggle credentials to download this dataset. Learn more: http://bit.ly/kaggle-creds\n",
            "Your Kaggle username: vaibhavidhankhar\n",
            "Your Kaggle Key: ··········\n",
            "Dataset URL: https://www.kaggle.com/datasets/avikasliwal/used-cars-price-prediction\n",
            "Downloading used-cars-price-prediction.zip to ./used-cars-price-prediction\n"
          ]
        },
        {
          "output_type": "stream",
          "name": "stderr",
          "text": [
            "100%|██████████| 172k/172k [00:00<00:00, 68.2MB/s]"
          ]
        },
        {
          "output_type": "stream",
          "name": "stdout",
          "text": [
            "\n"
          ]
        },
        {
          "output_type": "stream",
          "name": "stderr",
          "text": [
            "\n"
          ]
        }
      ]
    },
    {
      "cell_type": "code",
      "source": [
        "od.download(\"https://www.kaggle.com/datasets/hellbuoy/car-price-prediction?select=CarPrice_Assignment.csv\")"
      ],
      "metadata": {
        "colab": {
          "base_uri": "https://localhost:8080/"
        },
        "id": "WZ3BRFRuQ1Pw",
        "outputId": "4b87d46b-0772-492a-e32d-718e7c33013c"
      },
      "execution_count": null,
      "outputs": [
        {
          "output_type": "stream",
          "name": "stdout",
          "text": [
            "Please provide your Kaggle credentials to download this dataset. Learn more: http://bit.ly/kaggle-creds\n",
            "Your Kaggle username: vaibhavidhankhar\n",
            "Your Kaggle Key: ··········\n",
            "Dataset URL: https://www.kaggle.com/datasets/hellbuoy/car-price-prediction\n",
            "Downloading car-price-prediction.zip to ./car-price-prediction\n"
          ]
        },
        {
          "output_type": "stream",
          "name": "stderr",
          "text": [
            "100%|██████████| 18.1k/18.1k [00:00<00:00, 27.3MB/s]"
          ]
        },
        {
          "output_type": "stream",
          "name": "stdout",
          "text": [
            "\n"
          ]
        },
        {
          "output_type": "stream",
          "name": "stderr",
          "text": [
            "\n"
          ]
        }
      ]
    },
    {
      "cell_type": "code",
      "source": [
        "od.download(\"https://www.kaggle.com/datasets/vijayaadithyanvg/car-price-predictionused-cars\")"
      ],
      "metadata": {
        "colab": {
          "base_uri": "https://localhost:8080/"
        },
        "id": "qdd4vtlCQ05Z",
        "outputId": "edd9ab60-7087-409e-94f1-585c09ea88f2"
      },
      "execution_count": null,
      "outputs": [
        {
          "output_type": "stream",
          "name": "stdout",
          "text": [
            "Please provide your Kaggle credentials to download this dataset. Learn more: http://bit.ly/kaggle-creds\n",
            "Your Kaggle username: vaibhavidhankhar\n",
            "Your Kaggle Key: ··········\n",
            "Dataset URL: https://www.kaggle.com/datasets/vijayaadithyanvg/car-price-predictionused-cars\n",
            "Downloading car-price-predictionused-cars.zip to ./car-price-predictionused-cars\n"
          ]
        },
        {
          "output_type": "stream",
          "name": "stderr",
          "text": [
            "100%|██████████| 3.76k/3.76k [00:00<00:00, 6.41MB/s]"
          ]
        },
        {
          "output_type": "stream",
          "name": "stdout",
          "text": [
            "\n"
          ]
        },
        {
          "output_type": "stream",
          "name": "stderr",
          "text": [
            "\n"
          ]
        }
      ]
    },
    {
      "cell_type": "code",
      "execution_count": null,
      "metadata": {
        "colab": {
          "base_uri": "https://localhost:8080/"
        },
        "id": "v7cDgs4bQQyp",
        "outputId": "73392f47-a017-40bb-ba46-4884a87a8b70"
      },
      "outputs": [
        {
          "output_type": "stream",
          "name": "stdout",
          "text": [
            "Please provide your Kaggle credentials to download this dataset. Learn more: http://bit.ly/kaggle-creds\n",
            "Your Kaggle username: vaibhavidhankhar\n",
            "Your Kaggle Key: ··········\n",
            "Dataset URL: https://www.kaggle.com/datasets/taeefnajib/used-car-price-prediction-dataset\n",
            "Downloading used-car-price-prediction-dataset.zip to ./used-car-price-prediction-dataset\n"
          ]
        },
        {
          "output_type": "stream",
          "name": "stderr",
          "text": [
            "100%|██████████| 109k/109k [00:00<00:00, 112MB/s]"
          ]
        },
        {
          "output_type": "stream",
          "name": "stdout",
          "text": [
            "\n"
          ]
        },
        {
          "output_type": "stream",
          "name": "stderr",
          "text": [
            "\n"
          ]
        }
      ],
      "source": [
        "od.download(\"https://www.kaggle.com/datasets/taeefnajib/used-car-price-prediction-dataset\")"
      ]
    },
    {
      "cell_type": "code",
      "source": [
        "od.download(\"https://www.kaggle.com/datasets/milanvaddoriya/old-car-price-prediction\")"
      ],
      "metadata": {
        "colab": {
          "base_uri": "https://localhost:8080/"
        },
        "id": "nW600Ch2ROSE",
        "outputId": "615b2912-0dd8-4291-c268-0b13c13ad4b4"
      },
      "execution_count": null,
      "outputs": [
        {
          "output_type": "stream",
          "name": "stdout",
          "text": [
            "Please provide your Kaggle credentials to download this dataset. Learn more: http://bit.ly/kaggle-creds\n",
            "Your Kaggle username: vaibhavidhankhar\n",
            "Your Kaggle Key: ··········\n",
            "Dataset URL: https://www.kaggle.com/datasets/milanvaddoriya/old-car-price-prediction\n",
            "Downloading old-car-price-prediction.zip to ./old-car-price-prediction\n"
          ]
        },
        {
          "output_type": "stream",
          "name": "stderr",
          "text": [
            "100%|██████████| 105k/105k [00:00<00:00, 108MB/s]"
          ]
        },
        {
          "output_type": "stream",
          "name": "stdout",
          "text": [
            "\n"
          ]
        },
        {
          "output_type": "stream",
          "name": "stderr",
          "text": [
            "\n"
          ]
        }
      ]
    },
    {
      "cell_type": "code",
      "source": [
        "import pandas as pd\n",
        "\n",
        "# Create dictionary to store all DataFrames\n",
        "dfs = {}\n",
        "\n",
        "# Manually load each dataset into dfs\n",
        "dfs[\"hellbuoy\"] = pd.read_csv(\"/content/car-price-prediction/CarPrice_Assignment.csv\")\n",
        "dfs[\"avikasliwal_train\"] = pd.read_csv(\"/content/used-cars-price-prediction/train-data.csv\")\n",
        "dfs[\"avikasliwal_test\"] = pd.read_csv(\"/content/used-cars-price-prediction/test-data.csv\")\n",
        "dfs[\"vijayaadithyanvg\"] = pd.read_csv(\"/content/car-price-predictionused-cars/car data.csv\")\n",
        "dfs[\"taeefnajib\"] = pd.read_csv(\"/content/used-car-price-prediction-dataset/used_cars.csv\")\n",
        "dfs[\"milanvaddoriya\"] = pd.read_csv(\"/content/old-car-price-prediction/car_price.csv\")\n"
      ],
      "metadata": {
        "id": "SEQNS8lyROMG"
      },
      "execution_count": null,
      "outputs": []
    },
    {
      "cell_type": "code",
      "source": [
        "for name, df in dfs.items():\n",
        "    print(f\"\\n--- Dataset: {name} ---\")\n",
        "    print(\"First 5 rows:\")\n",
        "    print(df.head())\n",
        "    print(\"\\nData Info:\")\n",
        "    print(df.info())\n",
        "    print(\"\\nMissing values per column:\")\n",
        "    print(df.isnull().sum())"
      ],
      "metadata": {
        "colab": {
          "base_uri": "https://localhost:8080/"
        },
        "id": "ewxFyeDUROPN",
        "outputId": "6706445a-37f2-492f-b084-13bba7823320"
      },
      "execution_count": null,
      "outputs": [
        {
          "output_type": "stream",
          "name": "stdout",
          "text": [
            "\n",
            "--- Dataset: hellbuoy ---\n",
            "First 5 rows:\n",
            "   car_ID  symboling                   CarName fueltype aspiration doornumber  \\\n",
            "0       1          3        alfa-romero giulia      gas        std        two   \n",
            "1       2          3       alfa-romero stelvio      gas        std        two   \n",
            "2       3          1  alfa-romero Quadrifoglio      gas        std        two   \n",
            "3       4          2               audi 100 ls      gas        std       four   \n",
            "4       5          2                audi 100ls      gas        std       four   \n",
            "\n",
            "       carbody drivewheel enginelocation  wheelbase  ...  enginesize  \\\n",
            "0  convertible        rwd          front       88.6  ...         130   \n",
            "1  convertible        rwd          front       88.6  ...         130   \n",
            "2    hatchback        rwd          front       94.5  ...         152   \n",
            "3        sedan        fwd          front       99.8  ...         109   \n",
            "4        sedan        4wd          front       99.4  ...         136   \n",
            "\n",
            "   fuelsystem  boreratio  stroke compressionratio horsepower  peakrpm citympg  \\\n",
            "0        mpfi       3.47    2.68              9.0        111     5000      21   \n",
            "1        mpfi       3.47    2.68              9.0        111     5000      21   \n",
            "2        mpfi       2.68    3.47              9.0        154     5000      19   \n",
            "3        mpfi       3.19    3.40             10.0        102     5500      24   \n",
            "4        mpfi       3.19    3.40              8.0        115     5500      18   \n",
            "\n",
            "   highwaympg    price  \n",
            "0          27  13495.0  \n",
            "1          27  16500.0  \n",
            "2          26  16500.0  \n",
            "3          30  13950.0  \n",
            "4          22  17450.0  \n",
            "\n",
            "[5 rows x 26 columns]\n",
            "\n",
            "Data Info:\n",
            "<class 'pandas.core.frame.DataFrame'>\n",
            "RangeIndex: 205 entries, 0 to 204\n",
            "Data columns (total 26 columns):\n",
            " #   Column            Non-Null Count  Dtype  \n",
            "---  ------            --------------  -----  \n",
            " 0   car_ID            205 non-null    int64  \n",
            " 1   symboling         205 non-null    int64  \n",
            " 2   CarName           205 non-null    object \n",
            " 3   fueltype          205 non-null    object \n",
            " 4   aspiration        205 non-null    object \n",
            " 5   doornumber        205 non-null    object \n",
            " 6   carbody           205 non-null    object \n",
            " 7   drivewheel        205 non-null    object \n",
            " 8   enginelocation    205 non-null    object \n",
            " 9   wheelbase         205 non-null    float64\n",
            " 10  carlength         205 non-null    float64\n",
            " 11  carwidth          205 non-null    float64\n",
            " 12  carheight         205 non-null    float64\n",
            " 13  curbweight        205 non-null    int64  \n",
            " 14  enginetype        205 non-null    object \n",
            " 15  cylindernumber    205 non-null    object \n",
            " 16  enginesize        205 non-null    int64  \n",
            " 17  fuelsystem        205 non-null    object \n",
            " 18  boreratio         205 non-null    float64\n",
            " 19  stroke            205 non-null    float64\n",
            " 20  compressionratio  205 non-null    float64\n",
            " 21  horsepower        205 non-null    int64  \n",
            " 22  peakrpm           205 non-null    int64  \n",
            " 23  citympg           205 non-null    int64  \n",
            " 24  highwaympg        205 non-null    int64  \n",
            " 25  price             205 non-null    float64\n",
            "dtypes: float64(8), int64(8), object(10)\n",
            "memory usage: 41.8+ KB\n",
            "None\n",
            "\n",
            "Missing values per column:\n",
            "car_ID              0\n",
            "symboling           0\n",
            "CarName             0\n",
            "fueltype            0\n",
            "aspiration          0\n",
            "doornumber          0\n",
            "carbody             0\n",
            "drivewheel          0\n",
            "enginelocation      0\n",
            "wheelbase           0\n",
            "carlength           0\n",
            "carwidth            0\n",
            "carheight           0\n",
            "curbweight          0\n",
            "enginetype          0\n",
            "cylindernumber      0\n",
            "enginesize          0\n",
            "fuelsystem          0\n",
            "boreratio           0\n",
            "stroke              0\n",
            "compressionratio    0\n",
            "horsepower          0\n",
            "peakrpm             0\n",
            "citympg             0\n",
            "highwaympg          0\n",
            "price               0\n",
            "dtype: int64\n",
            "\n",
            "--- Dataset: avikasliwal_train ---\n",
            "First 5 rows:\n",
            "   Unnamed: 0                              Name    Location  Year  \\\n",
            "0           0            Maruti Wagon R LXI CNG      Mumbai  2010   \n",
            "1           1  Hyundai Creta 1.6 CRDi SX Option        Pune  2015   \n",
            "2           2                      Honda Jazz V     Chennai  2011   \n",
            "3           3                 Maruti Ertiga VDI     Chennai  2012   \n",
            "4           4   Audi A4 New 2.0 TDI Multitronic  Coimbatore  2013   \n",
            "\n",
            "   Kilometers_Driven Fuel_Type Transmission Owner_Type     Mileage   Engine  \\\n",
            "0              72000       CNG       Manual      First  26.6 km/kg   998 CC   \n",
            "1              41000    Diesel       Manual      First  19.67 kmpl  1582 CC   \n",
            "2              46000    Petrol       Manual      First   18.2 kmpl  1199 CC   \n",
            "3              87000    Diesel       Manual      First  20.77 kmpl  1248 CC   \n",
            "4              40670    Diesel    Automatic     Second   15.2 kmpl  1968 CC   \n",
            "\n",
            "       Power  Seats  New_Price  Price  \n",
            "0  58.16 bhp    5.0        NaN   1.75  \n",
            "1  126.2 bhp    5.0        NaN  12.50  \n",
            "2   88.7 bhp    5.0  8.61 Lakh   4.50  \n",
            "3  88.76 bhp    7.0        NaN   6.00  \n",
            "4  140.8 bhp    5.0        NaN  17.74  \n",
            "\n",
            "Data Info:\n",
            "<class 'pandas.core.frame.DataFrame'>\n",
            "RangeIndex: 6019 entries, 0 to 6018\n",
            "Data columns (total 14 columns):\n",
            " #   Column             Non-Null Count  Dtype  \n",
            "---  ------             --------------  -----  \n",
            " 0   Unnamed: 0         6019 non-null   int64  \n",
            " 1   Name               6019 non-null   object \n",
            " 2   Location           6019 non-null   object \n",
            " 3   Year               6019 non-null   int64  \n",
            " 4   Kilometers_Driven  6019 non-null   int64  \n",
            " 5   Fuel_Type          6019 non-null   object \n",
            " 6   Transmission       6019 non-null   object \n",
            " 7   Owner_Type         6019 non-null   object \n",
            " 8   Mileage            6017 non-null   object \n",
            " 9   Engine             5983 non-null   object \n",
            " 10  Power              5983 non-null   object \n",
            " 11  Seats              5977 non-null   float64\n",
            " 12  New_Price          824 non-null    object \n",
            " 13  Price              6019 non-null   float64\n",
            "dtypes: float64(2), int64(3), object(9)\n",
            "memory usage: 658.5+ KB\n",
            "None\n",
            "\n",
            "Missing values per column:\n",
            "Unnamed: 0              0\n",
            "Name                    0\n",
            "Location                0\n",
            "Year                    0\n",
            "Kilometers_Driven       0\n",
            "Fuel_Type               0\n",
            "Transmission            0\n",
            "Owner_Type              0\n",
            "Mileage                 2\n",
            "Engine                 36\n",
            "Power                  36\n",
            "Seats                  42\n",
            "New_Price            5195\n",
            "Price                   0\n",
            "dtype: int64\n",
            "\n",
            "--- Dataset: avikasliwal_test ---\n",
            "First 5 rows:\n",
            "   Unnamed: 0                                       Name    Location  Year  \\\n",
            "0           0                    Maruti Alto K10 LXI CNG       Delhi  2014   \n",
            "1           1              Maruti Alto 800 2016-2019 LXI  Coimbatore  2013   \n",
            "2           2  Toyota Innova Crysta Touring Sport 2.4 MT      Mumbai  2017   \n",
            "3           3                       Toyota Etios Liva GD   Hyderabad  2012   \n",
            "4           4                          Hyundai i20 Magna      Mumbai  2014   \n",
            "\n",
            "   Kilometers_Driven Fuel_Type Transmission Owner_Type      Mileage   Engine  \\\n",
            "0              40929       CNG       Manual      First  32.26 km/kg   998 CC   \n",
            "1              54493    Petrol       Manual     Second    24.7 kmpl   796 CC   \n",
            "2              34000    Diesel       Manual      First   13.68 kmpl  2393 CC   \n",
            "3             139000    Diesel       Manual      First   23.59 kmpl  1364 CC   \n",
            "4              29000    Petrol       Manual      First    18.5 kmpl  1197 CC   \n",
            "\n",
            "       Power  Seats   New_Price  \n",
            "0   58.2 bhp    4.0         NaN  \n",
            "1   47.3 bhp    5.0         NaN  \n",
            "2  147.8 bhp    7.0  25.27 Lakh  \n",
            "3   null bhp    5.0         NaN  \n",
            "4  82.85 bhp    5.0         NaN  \n",
            "\n",
            "Data Info:\n",
            "<class 'pandas.core.frame.DataFrame'>\n",
            "RangeIndex: 1234 entries, 0 to 1233\n",
            "Data columns (total 13 columns):\n",
            " #   Column             Non-Null Count  Dtype  \n",
            "---  ------             --------------  -----  \n",
            " 0   Unnamed: 0         1234 non-null   int64  \n",
            " 1   Name               1234 non-null   object \n",
            " 2   Location           1234 non-null   object \n",
            " 3   Year               1234 non-null   int64  \n",
            " 4   Kilometers_Driven  1234 non-null   int64  \n",
            " 5   Fuel_Type          1234 non-null   object \n",
            " 6   Transmission       1234 non-null   object \n",
            " 7   Owner_Type         1234 non-null   object \n",
            " 8   Mileage            1234 non-null   object \n",
            " 9   Engine             1224 non-null   object \n",
            " 10  Power              1224 non-null   object \n",
            " 11  Seats              1223 non-null   float64\n",
            " 12  New_Price          182 non-null    object \n",
            "dtypes: float64(1), int64(3), object(9)\n",
            "memory usage: 125.5+ KB\n",
            "None\n",
            "\n",
            "Missing values per column:\n",
            "Unnamed: 0              0\n",
            "Name                    0\n",
            "Location                0\n",
            "Year                    0\n",
            "Kilometers_Driven       0\n",
            "Fuel_Type               0\n",
            "Transmission            0\n",
            "Owner_Type              0\n",
            "Mileage                 0\n",
            "Engine                 10\n",
            "Power                  10\n",
            "Seats                  11\n",
            "New_Price            1052\n",
            "dtype: int64\n",
            "\n",
            "--- Dataset: vijayaadithyanvg ---\n",
            "First 5 rows:\n",
            "  Car_Name  Year  Selling_Price  Present_Price  Driven_kms Fuel_Type  \\\n",
            "0     ritz  2014           3.35           5.59       27000    Petrol   \n",
            "1      sx4  2013           4.75           9.54       43000    Diesel   \n",
            "2     ciaz  2017           7.25           9.85        6900    Petrol   \n",
            "3  wagon r  2011           2.85           4.15        5200    Petrol   \n",
            "4    swift  2014           4.60           6.87       42450    Diesel   \n",
            "\n",
            "  Selling_type Transmission  Owner  \n",
            "0       Dealer       Manual      0  \n",
            "1       Dealer       Manual      0  \n",
            "2       Dealer       Manual      0  \n",
            "3       Dealer       Manual      0  \n",
            "4       Dealer       Manual      0  \n",
            "\n",
            "Data Info:\n",
            "<class 'pandas.core.frame.DataFrame'>\n",
            "RangeIndex: 301 entries, 0 to 300\n",
            "Data columns (total 9 columns):\n",
            " #   Column         Non-Null Count  Dtype  \n",
            "---  ------         --------------  -----  \n",
            " 0   Car_Name       301 non-null    object \n",
            " 1   Year           301 non-null    int64  \n",
            " 2   Selling_Price  301 non-null    float64\n",
            " 3   Present_Price  301 non-null    float64\n",
            " 4   Driven_kms     301 non-null    int64  \n",
            " 5   Fuel_Type      301 non-null    object \n",
            " 6   Selling_type   301 non-null    object \n",
            " 7   Transmission   301 non-null    object \n",
            " 8   Owner          301 non-null    int64  \n",
            "dtypes: float64(2), int64(3), object(4)\n",
            "memory usage: 21.3+ KB\n",
            "None\n",
            "\n",
            "Missing values per column:\n",
            "Car_Name         0\n",
            "Year             0\n",
            "Selling_Price    0\n",
            "Present_Price    0\n",
            "Driven_kms       0\n",
            "Fuel_Type        0\n",
            "Selling_type     0\n",
            "Transmission     0\n",
            "Owner            0\n",
            "dtype: int64\n",
            "\n",
            "--- Dataset: taeefnajib ---\n",
            "First 5 rows:\n",
            "      brand                            model  model_year      milage  \\\n",
            "0      Ford  Utility Police Interceptor Base        2013  51,000 mi.   \n",
            "1   Hyundai                     Palisade SEL        2021  34,742 mi.   \n",
            "2     Lexus                    RX 350 RX 350        2022  22,372 mi.   \n",
            "3  INFINITI                 Q50 Hybrid Sport        2015  88,900 mi.   \n",
            "4      Audi        Q3 45 S line Premium Plus        2021   9,835 mi.   \n",
            "\n",
            "       fuel_type                                             engine  \\\n",
            "0  E85 Flex Fuel  300.0HP 3.7L V6 Cylinder Engine Flex Fuel Capa...   \n",
            "1       Gasoline                               3.8L V6 24V GDI DOHC   \n",
            "2       Gasoline                                     3.5 Liter DOHC   \n",
            "3         Hybrid  354.0HP 3.5L V6 Cylinder Engine Gas/Electric H...   \n",
            "4       Gasoline                         2.0L I4 16V GDI DOHC Turbo   \n",
            "\n",
            "        transmission                 ext_col int_col  \\\n",
            "0        6-Speed A/T                   Black   Black   \n",
            "1  8-Speed Automatic         Moonlight Cloud    Gray   \n",
            "2          Automatic                    Blue   Black   \n",
            "3        7-Speed A/T                   Black   Black   \n",
            "4  8-Speed Automatic  Glacier White Metallic   Black   \n",
            "\n",
            "                                 accident clean_title    price  \n",
            "0  At least 1 accident or damage reported         Yes  $10,300  \n",
            "1  At least 1 accident or damage reported         Yes  $38,005  \n",
            "2                           None reported         NaN  $54,598  \n",
            "3                           None reported         Yes  $15,500  \n",
            "4                           None reported         NaN  $34,999  \n",
            "\n",
            "Data Info:\n",
            "<class 'pandas.core.frame.DataFrame'>\n",
            "RangeIndex: 4009 entries, 0 to 4008\n",
            "Data columns (total 12 columns):\n",
            " #   Column        Non-Null Count  Dtype \n",
            "---  ------        --------------  ----- \n",
            " 0   brand         4009 non-null   object\n",
            " 1   model         4009 non-null   object\n",
            " 2   model_year    4009 non-null   int64 \n",
            " 3   milage        4009 non-null   object\n",
            " 4   fuel_type     3839 non-null   object\n",
            " 5   engine        4009 non-null   object\n",
            " 6   transmission  4009 non-null   object\n",
            " 7   ext_col       4009 non-null   object\n",
            " 8   int_col       4009 non-null   object\n",
            " 9   accident      3896 non-null   object\n",
            " 10  clean_title   3413 non-null   object\n",
            " 11  price         4009 non-null   object\n",
            "dtypes: int64(1), object(11)\n",
            "memory usage: 376.0+ KB\n",
            "None\n",
            "\n",
            "Missing values per column:\n",
            "brand             0\n",
            "model             0\n",
            "model_year        0\n",
            "milage            0\n",
            "fuel_type       170\n",
            "engine            0\n",
            "transmission      0\n",
            "ext_col           0\n",
            "int_col           0\n",
            "accident        113\n",
            "clean_title     596\n",
            "price             0\n",
            "dtype: int64\n",
            "\n",
            "--- Dataset: milanvaddoriya ---\n",
            "First 5 rows:\n",
            "   Unnamed: 0                                car_name car_prices_in_rupee  \\\n",
            "0           0  Jeep Compass 2.0 Longitude Option BSIV          10.03 Lakh   \n",
            "1           1            Renault Duster RXZ Turbo CVT          12.83 Lakh   \n",
            "2           2                      Toyota Camry 2.5 G          16.40 Lakh   \n",
            "3           3                       Honda Jazz VX CVT           7.77 Lakh   \n",
            "4           4        Volkswagen Polo 1.2 MPI Highline           5.15 Lakh   \n",
            "\n",
            "   kms_driven fuel_type transmission  ownership  manufacture   engine    Seats  \n",
            "0  86,226 kms    Diesel       Manual  1st Owner         2017  1956 cc  5 Seats  \n",
            "1  13,248 kms    Petrol    Automatic  1st Owner         2021  1330 cc  5 Seats  \n",
            "2  60,343 kms    Petrol    Automatic  1st Owner         2016  2494 cc  5 Seats  \n",
            "3  26,696 kms    Petrol    Automatic  1st Owner         2018  1199 cc  5 Seats  \n",
            "4  69,414 kms    Petrol       Manual  1st Owner         2016  1199 cc  5 Seats  \n",
            "\n",
            "Data Info:\n",
            "<class 'pandas.core.frame.DataFrame'>\n",
            "RangeIndex: 5512 entries, 0 to 5511\n",
            "Data columns (total 10 columns):\n",
            " #   Column               Non-Null Count  Dtype \n",
            "---  ------               --------------  ----- \n",
            " 0   Unnamed: 0           5512 non-null   int64 \n",
            " 1   car_name             5512 non-null   object\n",
            " 2   car_prices_in_rupee  5512 non-null   object\n",
            " 3   kms_driven           5512 non-null   object\n",
            " 4   fuel_type            5512 non-null   object\n",
            " 5   transmission         5512 non-null   object\n",
            " 6   ownership            5512 non-null   object\n",
            " 7   manufacture          5512 non-null   int64 \n",
            " 8   engine               5512 non-null   object\n",
            " 9   Seats                5512 non-null   object\n",
            "dtypes: int64(2), object(8)\n",
            "memory usage: 430.8+ KB\n",
            "None\n",
            "\n",
            "Missing values per column:\n",
            "Unnamed: 0             0\n",
            "car_name               0\n",
            "car_prices_in_rupee    0\n",
            "kms_driven             0\n",
            "fuel_type              0\n",
            "transmission           0\n",
            "ownership              0\n",
            "manufacture            0\n",
            "engine                 0\n",
            "Seats                  0\n",
            "dtype: int64\n"
          ]
        }
      ]
    },
    {
      "cell_type": "code",
      "source": [
        "def unify_car_name(df, brand_col=None, model_col=None, name_col=None):\n",
        "    \"\"\"\n",
        "    Create a unified 'car_name' column in a dataframe.\n",
        "    Priority: Use name_col if exists, else combine brand_col and model_col.\n",
        "    \"\"\"\n",
        "    if name_col and name_col in df.columns:\n",
        "        df['car_name'] = df[name_col].str.lower().str.strip()\n",
        "    elif brand_col and model_col and brand_col in df.columns and model_col in df.columns:\n",
        "        df['car_name'] = (df[brand_col].astype(str) + \" \" + df[model_col].astype(str)).str.lower().str.strip()\n",
        "    else:\n",
        "        df['car_name'] = 'unknown'\n",
        "    return df\n",
        "\n",
        "# Example with datasets:\n",
        "\n",
        "# hellbuoy has 'CarName'\n",
        "dfs[\"hellbuoy\"] = unify_car_name(dfs[\"hellbuoy\"], name_col=\"CarName\")\n",
        "\n",
        "# avikasliwal has 'Name' as car name\n",
        "dfs[\"avikasliwal_train\"] = unify_car_name(dfs[\"avikasliwal_train\"], name_col=\"Name\")\n",
        "dfs[\"avikasliwal_test\"] = unify_car_name(dfs[\"avikasliwal_test\"], name_col=\"Name\")\n",
        "\n",
        "# vijayaadithyanvg has 'Car_Name'\n",
        "dfs[\"vijayaadithyanvg\"] = unify_car_name(dfs[\"vijayaadithyanvg\"], name_col=\"Car_Name\")\n",
        "\n",
        "# taeefnajib has 'brand' and 'model'\n",
        "dfs[\"taeefnajib\"] = unify_car_name(dfs[\"taeefnajib\"], brand_col=\"brand\", model_col=\"model\")\n",
        "\n",
        "# milanvaddoriya has 'car_name' already\n",
        "dfs[\"milanvaddoriya\"] = unify_car_name(dfs[\"milanvaddoriya\"], name_col=\"car_name\")\n"
      ],
      "metadata": {
        "id": "w44N-uHWROI0"
      },
      "execution_count": null,
      "outputs": []
    },
    {
      "cell_type": "code",
      "source": [
        "def parse_price(price_str):\n",
        "    if pd.isna(price_str):\n",
        "        return np.nan\n",
        "    price_str = str(price_str).lower().replace(',', '').strip()\n",
        "\n",
        "    # Handle Lakh and Crore\n",
        "    if \"lakh\" in price_str:\n",
        "        return float(price_str.replace(\"lakh\", \"\").strip()) * 1e5\n",
        "    elif \"crore\" in price_str:\n",
        "        return float(price_str.replace(\"crore\", \"\").strip()) * 1e7\n",
        "    else:\n",
        "        # Remove any non-numeric chars like $ or Rs\n",
        "        price_num = ''.join(c for c in price_str if c.isdigit() or c=='.')\n",
        "        if price_num == '':\n",
        "            return np.nan\n",
        "        return float(price_num)\n"
      ],
      "metadata": {
        "id": "xKGFTKTi4wOP"
      },
      "execution_count": null,
      "outputs": []
    },
    {
      "cell_type": "code",
      "source": [
        "def harmonize_car_dataset(df):\n",
        "    df = df.copy()\n",
        "\n",
        "    # ---------------- Car name ----------------\n",
        "    if \"CarName\" in df.columns:\n",
        "        df[\"car_name\"] = df[\"CarName\"].str.lower().str.strip()\n",
        "    elif \"name\" in df.columns:\n",
        "        df[\"car_name\"] = df[\"name\"].str.lower().str.strip()\n",
        "    elif \"Make\" in df.columns and \"Model\" in df.columns:\n",
        "        df[\"car_name\"] = (df[\"Make\"] + \" \" + df[\"Model\"]).str.lower().str.strip()\n",
        "    elif \"Car_Name\" in df.columns:\n",
        "        df[\"car_name\"] = df[\"Car_Name\"].str.lower().str.strip()\n",
        "    elif \"brand\" in df.columns and \"model\" in df.columns:\n",
        "        df[\"car_name\"] = (df[\"brand\"].astype(str) + \" \" + df[\"model\"].astype(str)).str.lower().str.strip()\n",
        "    elif \"car_name\" in df.columns:\n",
        "        df[\"car_name\"] = df[\"car_name\"].str.lower().str.strip()\n",
        "    else:\n",
        "        df[\"car_name\"] = \"unknown\"\n",
        "\n",
        "    # ---------------- Year ----------------\n",
        "    for col in [\"year\", \"Year\", \"ModelYear\", \"model_year\", \"manufacture\"]:\n",
        "        if col in df.columns:\n",
        "            df[\"year\"] = pd.to_numeric(df[col], errors=\"coerce\")\n",
        "            break\n",
        "    if \"year\" not in df.columns:\n",
        "        df[\"year\"] = pd.NA\n",
        "\n",
        "    # ---------------- Mileage ----------------\n",
        "    mileage_col_candidates = [\"mileage\", \"Mileage\", \"Mileage_kmpl\", \"Driven_kms\", \"milage\", \"kms_driven\"]\n",
        "    found_mileage = False\n",
        "    for col in mileage_col_candidates:\n",
        "        if col in df.columns:\n",
        "            # remove units and commas\n",
        "            df[\"mileage\"] = (\n",
        "                df[col]\n",
        "                .astype(str)\n",
        "                .str.replace(r\"[^\\d.]\", \"\", regex=True)\n",
        "                .replace(\"\", np.nan)\n",
        "            ).astype(float)\n",
        "            # if original was in miles, convert to km\n",
        "            if col in [\"milage\"]:\n",
        "                df[\"mileage\"] = df[\"mileage\"] * 1.60934\n",
        "            found_mileage = True\n",
        "            break\n",
        "    if not found_mileage:\n",
        "        df[\"mileage\"] = pd.NA\n",
        "\n",
        "    # ---------------- Fuel type ----------------\n",
        "    for col in [\"fueltype\", \"Fuel_Type\", \"fuel_type\"]:\n",
        "        if col in df.columns:\n",
        "            df[\"fuel_type\"] = df[col].astype(str).str.lower()\n",
        "            break\n",
        "    if \"fuel_type\" not in df.columns:\n",
        "        df[\"fuel_type\"] = \"unknown\"\n",
        "\n",
        "    # ---------------- Transmission ----------------\n",
        "    for col in [\"transmission\", \"Transmission\"]:\n",
        "        if col in df.columns:\n",
        "            df[\"transmission\"] = df[col].astype(str).str.lower()\n",
        "            break\n",
        "    if \"transmission\" not in df.columns:\n",
        "        df[\"transmission\"] = \"unknown\"\n",
        "\n",
        "    # ---------------- Owner type ----------------\n",
        "    for col in [\"Owner_Type\", \"Owner\", \"ownership\"]:\n",
        "        if col in df.columns:\n",
        "            df[\"owner_type\"] = df[col].astype(str).str.lower()\n",
        "            break\n",
        "    if \"owner_type\" not in df.columns:\n",
        "        df[\"owner_type\"] = \"unknown\"\n",
        "\n",
        "    # ---------------- Price ----------------\n",
        "    # Price\n",
        "    if \"price\" in df.columns:\n",
        "        df[\"price\"] = df[\"price\"].apply(parse_price)\n",
        "    elif \"Price\" in df.columns:\n",
        "        df[\"price\"] = df[\"Price\"].apply(parse_price)\n",
        "    elif \"car_prices_in_rupee\" in df.columns:\n",
        "        df[\"price\"] = df[\"car_prices_in_rupee\"].apply(parse_price)\n",
        "    else:\n",
        "        df[\"price\"] = pd.NA\n",
        "\n",
        "    # ---------------- Horsepower ----------------\n",
        "    if \"horsepower\" in df.columns:\n",
        "        df[\"horsepower\"] = pd.to_numeric(df[\"horsepower\"], errors=\"coerce\")\n",
        "    elif \"Horsepower\" in df.columns:\n",
        "        df[\"horsepower\"] = pd.to_numeric(df[\"Horsepower\"], errors=\"coerce\")\n",
        "    elif \"Power\" in df.columns:\n",
        "        # Extract numeric HP from strings\n",
        "        hp_extracted = df[\"Power\"].astype(str).str.extract(r\"(\\d+\\.?\\d*)\")[0]\n",
        "        df[\"horsepower\"] = pd.to_numeric(hp_extracted, errors=\"coerce\")\n",
        "    elif \"engine\" in df.columns:\n",
        "        # Try to extract HP from engine descriptions\n",
        "        hp_extracted = df[\"engine\"].astype(str).str.extract(r\"(\\d+\\.?\\d*)\\s*HP\")[0]\n",
        "        df[\"horsepower\"] = pd.to_numeric(hp_extracted, errors=\"coerce\")\n",
        "    else:\n",
        "        df[\"horsepower\"] = pd.NA\n",
        "\n",
        "    return df\n"
      ],
      "metadata": {
        "id": "LBAqF6Gj58uz"
      },
      "execution_count": null,
      "outputs": []
    },
    {
      "cell_type": "code",
      "source": [
        "for cleaned_df in cleaned_dfs:\n",
        "    print(cleaned_df.head())\n",
        "    print(cleaned_df.isnull().sum())"
      ],
      "metadata": {
        "colab": {
          "base_uri": "https://localhost:8080/"
        },
        "id": "CJXdn5CN2HnS",
        "outputId": "4228091d-4d0b-4f60-a15c-e68a2afe53d5"
      },
      "execution_count": null,
      "outputs": [
        {
          "output_type": "stream",
          "name": "stdout",
          "text": [
            "                   car_name  year  horsepower mileage fuel_type transmission  \\\n",
            "0        alfa-romero giulia  <NA>         111    <NA>       gas      unknown   \n",
            "1       alfa-romero stelvio  <NA>         111    <NA>       gas      unknown   \n",
            "2  alfa-romero quadrifoglio  <NA>         154    <NA>       gas      unknown   \n",
            "3               audi 100 ls  <NA>         102    <NA>       gas      unknown   \n",
            "4                audi 100ls  <NA>         115    <NA>       gas      unknown   \n",
            "\n",
            "  owner_type    price  \n",
            "0    unknown  13495.0  \n",
            "1    unknown  16500.0  \n",
            "2    unknown  16500.0  \n",
            "3    unknown  13950.0  \n",
            "4    unknown  17450.0  \n",
            "car_name          0\n",
            "year            205\n",
            "horsepower        0\n",
            "mileage         205\n",
            "fuel_type         0\n",
            "transmission      0\n",
            "owner_type        0\n",
            "price             0\n",
            "dtype: int64\n",
            "                           car_name  year  horsepower  mileage fuel_type  \\\n",
            "0            maruti wagon r lxi cng  2010       58.16    26.60       cng   \n",
            "1  hyundai creta 1.6 crdi sx option  2015      126.20    19.67    diesel   \n",
            "2                      honda jazz v  2011       88.70    18.20    petrol   \n",
            "3                 maruti ertiga vdi  2012       88.76    20.77    diesel   \n",
            "4   audi a4 new 2.0 tdi multitronic  2013      140.80    15.20    diesel   \n",
            "\n",
            "  transmission owner_type  price  \n",
            "0       manual      first   1.75  \n",
            "1       manual      first  12.50  \n",
            "2       manual      first   4.50  \n",
            "3       manual      first   6.00  \n",
            "4    automatic     second  17.74  \n",
            "car_name          0\n",
            "year              0\n",
            "horsepower      143\n",
            "mileage           2\n",
            "fuel_type         0\n",
            "transmission      0\n",
            "owner_type        0\n",
            "price             0\n",
            "dtype: int64\n",
            "                                    car_name  year  horsepower  mileage  \\\n",
            "0                    maruti alto k10 lxi cng  2014       58.20    32.26   \n",
            "1              maruti alto 800 2016-2019 lxi  2013       47.30    24.70   \n",
            "2  toyota innova crysta touring sport 2.4 mt  2017      147.80    13.68   \n",
            "3                       toyota etios liva gd  2012         NaN    23.59   \n",
            "4                          hyundai i20 magna  2014       82.85    18.50   \n",
            "\n",
            "  fuel_type transmission owner_type price  \n",
            "0       cng       manual      first  <NA>  \n",
            "1    petrol       manual     second  <NA>  \n",
            "2    diesel       manual      first  <NA>  \n",
            "3    diesel       manual      first  <NA>  \n",
            "4    petrol       manual      first  <NA>  \n",
            "car_name           0\n",
            "year               0\n",
            "horsepower        32\n",
            "mileage            0\n",
            "fuel_type          0\n",
            "transmission       0\n",
            "owner_type         0\n",
            "price           1234\n",
            "dtype: int64\n",
            "  car_name  year horsepower  mileage fuel_type transmission owner_type price\n",
            "0     ritz  2014       <NA>  27000.0    petrol       manual          0  <NA>\n",
            "1      sx4  2013       <NA>  43000.0    diesel       manual          0  <NA>\n",
            "2     ciaz  2017       <NA>   6900.0    petrol       manual          0  <NA>\n",
            "3  wagon r  2011       <NA>   5200.0    petrol       manual          0  <NA>\n",
            "4    swift  2014       <NA>  42450.0    diesel       manual          0  <NA>\n",
            "car_name          0\n",
            "year              0\n",
            "horsepower      301\n",
            "mileage           0\n",
            "fuel_type         0\n",
            "transmission      0\n",
            "owner_type        0\n",
            "price           301\n",
            "dtype: int64\n",
            "                               car_name  year  horsepower       mileage  \\\n",
            "0  ford utility police interceptor base  2013       300.0   82076.34000   \n",
            "1                  hyundai palisade sel  2021         NaN   55911.69028   \n",
            "2                   lexus rx 350 rx 350  2022         NaN   36004.15448   \n",
            "3             infiniti q50 hybrid sport  2015       354.0  143070.32600   \n",
            "4        audi q3 45 s line premium plus  2021         NaN   15827.85890   \n",
            "\n",
            "       fuel_type       transmission owner_type    price  \n",
            "0  e85 flex fuel        6-speed a/t    unknown  10300.0  \n",
            "1       gasoline  8-speed automatic    unknown  38005.0  \n",
            "2       gasoline          automatic    unknown  54598.0  \n",
            "3         hybrid        7-speed a/t    unknown  15500.0  \n",
            "4       gasoline  8-speed automatic    unknown  34999.0  \n",
            "car_name          0\n",
            "year              0\n",
            "horsepower      808\n",
            "mileage           0\n",
            "fuel_type         0\n",
            "transmission      0\n",
            "owner_type        0\n",
            "price             0\n",
            "dtype: int64\n",
            "                                 car_name  year  horsepower  mileage  \\\n",
            "0  jeep compass 2.0 longitude option bsiv  2017         NaN  86226.0   \n",
            "1            renault duster rxz turbo cvt  2021         NaN  13248.0   \n",
            "2                      toyota camry 2.5 g  2016         NaN  60343.0   \n",
            "3                       honda jazz vx cvt  2018         NaN  26696.0   \n",
            "4        volkswagen polo 1.2 mpi highline  2016         NaN  69414.0   \n",
            "\n",
            "  fuel_type transmission owner_type      price  \n",
            "0    diesel       manual  1st owner  1003000.0  \n",
            "1    petrol    automatic  1st owner  1283000.0  \n",
            "2    petrol    automatic  1st owner  1640000.0  \n",
            "3    petrol    automatic  1st owner   777000.0  \n",
            "4    petrol       manual  1st owner   515000.0  \n",
            "car_name           0\n",
            "year               0\n",
            "horsepower      5512\n",
            "mileage            0\n",
            "fuel_type          0\n",
            "transmission       0\n",
            "owner_type         0\n",
            "price              0\n",
            "dtype: int64\n"
          ]
        }
      ]
    },
    {
      "cell_type": "code",
      "source": [
        "common_cols = [\n",
        "    'car_name', 'year', 'horsepower', 'mileage', 'fuel_type',\n",
        "    'transmission', 'owner_type', 'price'\n",
        "]"
      ],
      "metadata": {
        "id": "CLovdAMTUn7U"
      },
      "execution_count": null,
      "outputs": []
    },
    {
      "cell_type": "code",
      "source": [
        "import numpy as np\n",
        "\n",
        "cleaned_dfs = []\n",
        "for df_name in dfs:\n",
        "    df = dfs[df_name].copy()\n",
        "    df = harmonize_car_dataset(df)\n",
        "\n",
        "    # Remove duplicate columns\n",
        "    df = df.loc[:, ~df.columns.duplicated()]\n",
        "\n",
        "    # Add missing common columns\n",
        "    for col in common_cols:\n",
        "        if col not in df.columns:\n",
        "            df[col] = pd.NA\n",
        "\n",
        "    # Keep only columns in common_cols\n",
        "    cols_to_keep = [c for c in common_cols if c in df.columns]\n",
        "    cleaned_dfs.append(df[cols_to_keep])\n",
        "\n",
        "# Concatenate safely\n",
        "master_df = pd.concat(cleaned_dfs, ignore_index=True)\n",
        "\n",
        "# Drop rows missing critical info\n",
        "master_df.dropna(subset=['price', 'car_name'], inplace=True)\n",
        "master_df.reset_index(drop=True, inplace=True)\n",
        "\n",
        "print(\"Master dataset ready:\", master_df.shape)"
      ],
      "metadata": {
        "colab": {
          "base_uri": "https://localhost:8080/"
        },
        "id": "eLpJHGPnUn5Z",
        "outputId": "4d2c8548-33c0-48ac-a71b-88def78b6016"
      },
      "execution_count": null,
      "outputs": [
        {
          "output_type": "stream",
          "name": "stdout",
          "text": [
            "Master dataset ready: (15745, 8)\n"
          ]
        },
        {
          "output_type": "stream",
          "name": "stderr",
          "text": [
            "/tmp/ipython-input-2381523798.py:21: FutureWarning: The behavior of DataFrame concatenation with empty or all-NA entries is deprecated. In a future version, this will no longer exclude empty or all-NA columns when determining the result dtypes. To retain the old behavior, exclude the relevant entries before the concat operation.\n",
            "  master_df = pd.concat(cleaned_dfs, ignore_index=True)\n"
          ]
        }
      ]
    },
    {
      "cell_type": "code",
      "source": [
        "print(master_df['owner_type'].unique())"
      ],
      "metadata": {
        "colab": {
          "base_uri": "https://localhost:8080/"
        },
        "id": "1mFx280nUn2W",
        "outputId": "fb82bdbe-5eef-44c4-b025-f8a3ef1b6ec2"
      },
      "execution_count": null,
      "outputs": [
        {
          "output_type": "stream",
          "name": "stdout",
          "text": [
            "['unknown' 'first' 'second' 'fourth & above' 'third' '1st owner'\n",
            " '2nd owner' '3rd owner' '4th owner' '5th owner' '0th owner']\n"
          ]
        }
      ]
    },
    {
      "cell_type": "code",
      "source": [
        "print(master_df['transmission'].unique())"
      ],
      "metadata": {
        "colab": {
          "base_uri": "https://localhost:8080/"
        },
        "id": "cGsSZ5Jki1w2",
        "outputId": "b9902cfc-2d0c-4c5e-a9f0-48733096fcc9"
      },
      "execution_count": null,
      "outputs": [
        {
          "output_type": "stream",
          "name": "stdout",
          "text": [
            "['unknown' 'manual' 'automatic' '6-speed a/t' '8-speed automatic'\n",
            " '7-speed a/t' 'f' 'a/t' '8-speed a/t' 'transmission w/dual shift mode'\n",
            " '9-speed automatic' '6-speed m/t' '10-speed a/t' '9-speed a/t'\n",
            " '5-speed a/t' '1-speed a/t' 'automatic cvt'\n",
            " '7-speed automatic with auto-shift' 'cvt-f' 'm/t'\n",
            " '6-speed automatic with auto-shift' '10-speed automatic'\n",
            " 'cvt transmission' '4-speed a/t' '6-speed automatic' '4-speed automatic'\n",
            " '7-speed m/t' '8-speed automatic with auto-shift' '5-speed automatic'\n",
            " '8-speed at' '1-speed automatic' '5-speed m/t' '6-speed manual'\n",
            " 'variable' '2' '7-speed manual' 'automatic, 9-spd 9g-tronic'\n",
            " 'automatic, 8-spd' 'automatic, 8-spd sport w/sport & manual modes' '–'\n",
            " 'auto, 6-spd w/cmdshft' 'transmission overdrive switch'\n",
            " '7-speed automatic' 'automatic, 8-spd pdk dual-clutch'\n",
            " 'automatic, 8-spd m steptronic w/drivelogic, sport & manual modes'\n",
            " 'automatic, 8-spd dual-clutch' '6-speed' 'single-speed fixed gear'\n",
            " 'automatic, 10-spd' '2-speed automatic' '7-speed'\n",
            " 'automatic, 7-spd s tronic dual-clutch' 'manual, 6-spd'\n",
            " '6-speed electronically controlled automatic with o' '6 speed at/mt'\n",
            " '10-speed automatic with overdrive' '7-speed dct automatic'\n",
            " '9-speed automatic with auto-shift' 'scheduled for or in production'\n",
            " '2-speed a/t' '6 speed mt' '8-speed manual']\n"
          ]
        }
      ]
    },
    {
      "cell_type": "code",
      "source": [
        "print(master_df['year'].unique())"
      ],
      "metadata": {
        "colab": {
          "base_uri": "https://localhost:8080/"
        },
        "id": "-qKzVzLs5FG9",
        "outputId": "c9473163-d6ab-4d99-f25f-82212d21e5e0"
      },
      "execution_count": null,
      "outputs": [
        {
          "output_type": "stream",
          "name": "stdout",
          "text": [
            "[<NA> 2010 2015 2011 2012 2013 2016 2018 2014 2017 2007 2009 2008 2019\n",
            " 2006 2005 2004 2002 2000 2003 1999 2001 1998 2021 2022 2020 2023 1997\n",
            " 1993 2024 1996 1974 1992 1995 1994]\n"
          ]
        }
      ]
    },
    {
      "cell_type": "code",
      "source": [
        "# Preview first 5 rows\n",
        "print(master_df.head())\n"
      ],
      "metadata": {
        "colab": {
          "base_uri": "https://localhost:8080/"
        },
        "id": "e0hdsPSSUnzf",
        "outputId": "288c5771-bb29-458d-d0ac-c6a85cb8865b"
      },
      "execution_count": null,
      "outputs": [
        {
          "output_type": "stream",
          "name": "stdout",
          "text": [
            "                   car_name  year  horsepower  mileage fuel_type transmission  \\\n",
            "0        alfa-romero giulia  <NA>       111.0      NaN       gas      unknown   \n",
            "1       alfa-romero stelvio  <NA>       111.0      NaN       gas      unknown   \n",
            "2  alfa-romero quadrifoglio  <NA>       154.0      NaN       gas      unknown   \n",
            "3               audi 100 ls  <NA>       102.0      NaN       gas      unknown   \n",
            "4                audi 100ls  <NA>       115.0      NaN       gas      unknown   \n",
            "\n",
            "  owner_type    price  \n",
            "0    unknown  13495.0  \n",
            "1    unknown  16500.0  \n",
            "2    unknown  16500.0  \n",
            "3    unknown  13950.0  \n",
            "4    unknown  17450.0  \n"
          ]
        }
      ]
    },
    {
      "cell_type": "code",
      "source": [
        "# Summary statistics for numeric columns\n",
        "print(master_df.describe())"
      ],
      "metadata": {
        "colab": {
          "base_uri": "https://localhost:8080/"
        },
        "id": "huuIPitrm2lg",
        "outputId": "9753389b-fca8-44c0-922b-f138a6c303fa"
      },
      "execution_count": null,
      "outputs": [
        {
          "output_type": "stream",
          "name": "stdout",
          "text": [
            "        horsepower        mileage         price\n",
            "count  9282.000000   15538.000000  1.574500e+04\n",
            "mean    188.559785   49303.680791  4.184913e+05\n",
            "std     133.753839   65068.512831  1.287800e+06\n",
            "min      34.200000       0.000000  4.400000e-01\n",
            "25%      85.800000      19.670000  7.500000e+00\n",
            "50%     138.100000   26000.000000  2.660000e+04\n",
            "75%     265.000000   77843.000000  3.500000e+05\n",
            "max    1020.000000  651782.700000  1.920000e+07\n"
          ]
        }
      ]
    },
    {
      "cell_type": "code",
      "source": [
        "# Summary statistics for categorical columns\n",
        "print(master_df.describe(include=['object', 'category']))"
      ],
      "metadata": {
        "colab": {
          "base_uri": "https://localhost:8080/"
        },
        "id": "LYmHmIYxm5Jk",
        "outputId": "4bf2c424-44b5-4833-a633-460d6adb428e"
      },
      "execution_count": null,
      "outputs": [
        {
          "output_type": "stream",
          "name": "stdout",
          "text": [
            "                      car_name   year fuel_type transmission owner_type\n",
            "count                    15745  15540     15745        15745      15745\n",
            "unique                    4982     34        13           62         11\n",
            "top     maruti swift dzire vdi   2015    diesel       manual      first\n",
            "freq                       106   1502      5764         8263       4929\n"
          ]
        }
      ]
    },
    {
      "cell_type": "code",
      "source": [
        "# Count of missing values per column\n",
        "print(master_df.isnull().sum())"
      ],
      "metadata": {
        "id": "g8id_q5XUnw5",
        "colab": {
          "base_uri": "https://localhost:8080/"
        },
        "outputId": "dbc1b0a8-fda7-412d-e69a-d136caf674e7"
      },
      "execution_count": null,
      "outputs": [
        {
          "output_type": "stream",
          "name": "stdout",
          "text": [
            "car_name           0\n",
            "year             205\n",
            "horsepower      6463\n",
            "mileage          207\n",
            "fuel_type          0\n",
            "transmission       0\n",
            "owner_type         0\n",
            "price              0\n",
            "dtype: int64\n"
          ]
        }
      ]
    },
    {
      "cell_type": "code",
      "source": [
        "import numpy as np\n",
        "import re\n",
        "\n",
        "# ------------------ 1. Clean owner_type ------------------\n",
        "owner_map = {\n",
        "    '0th owner': 'unknown', '1st owner': 'first', '2nd owner': 'second',\n",
        "    '3rd owner': 'third', '4th owner': 'fourth+', '5th owner': 'fourth+',\n",
        "    'first': 'first', 'second': 'second', 'third': 'third', 'fourth & above': 'fourth+',\n",
        "    'unknown': 'unknown'\n",
        "}\n",
        "master_df['owner_type'] = master_df['owner_type'].str.lower().map(owner_map).fillna('unknown')\n",
        "\n",
        "\n",
        "# ------------------ 2. Simplify transmission ------------------\n",
        "def simplify_transmission(val):\n",
        "    if pd.isna(val):\n",
        "        return 'unknown'\n",
        "    val = str(val).lower()\n",
        "    if 'manual' in val or 'm/t' in val or 'mt' in val:\n",
        "        return 'manual'\n",
        "    elif 'automatic' in val or 'a/t' in val or 'cvt' in val:\n",
        "        return 'automatic'\n",
        "    else:\n",
        "        return 'unknown'\n",
        "\n",
        "master_df['transmission'] = master_df['transmission'].apply(simplify_transmission)\n",
        "\n",
        "\n",
        "# ------------------ 3. Parse mileage ------------------\n",
        "def parse_mileage(val):\n",
        "    if pd.isna(val):\n",
        "        return np.nan\n",
        "    nums = re.findall(r'\\d+\\.?\\d*', str(val))\n",
        "    if not nums:\n",
        "        return np.nan\n",
        "    return float(nums[0])\n",
        "\n",
        "master_df['mileage'] = master_df['mileage'].apply(parse_mileage)\n",
        "\n",
        "\n",
        "# ------------------ 4. Clean year ------------------\n",
        "def clean_year(val):\n",
        "    try:\n",
        "        val_str = str(val).strip()\n",
        "        if val_str == '' or not val_str.isnumeric():\n",
        "            return pd.NA\n",
        "        return int(val_str)\n",
        "    except:\n",
        "        return pd.NA\n",
        "\n",
        "master_df['year'] = master_df['year'].apply(clean_year)\n",
        "\n",
        "\n",
        "# ------------------ Preview ------------------\n",
        "print(master_df[['owner_type', 'transmission', 'mileage', 'horsepower', 'year']].head(10))\n"
      ],
      "metadata": {
        "colab": {
          "base_uri": "https://localhost:8080/"
        },
        "id": "zHYTDyMi2njw",
        "outputId": "76a02bd5-0a40-44f6-fca4-20d73cdf47db"
      },
      "execution_count": null,
      "outputs": [
        {
          "output_type": "stream",
          "name": "stdout",
          "text": [
            "  owner_type transmission  mileage  horsepower  year\n",
            "0    unknown      unknown      NaN       111.0  <NA>\n",
            "1    unknown      unknown      NaN       111.0  <NA>\n",
            "2    unknown      unknown      NaN       154.0  <NA>\n",
            "3    unknown      unknown      NaN       102.0  <NA>\n",
            "4    unknown      unknown      NaN       115.0  <NA>\n",
            "5    unknown      unknown      NaN       110.0  <NA>\n",
            "6    unknown      unknown      NaN       110.0  <NA>\n",
            "7    unknown      unknown      NaN       110.0  <NA>\n",
            "8    unknown      unknown      NaN       140.0  <NA>\n",
            "9    unknown      unknown      NaN       160.0  <NA>\n"
          ]
        }
      ]
    },
    {
      "cell_type": "code",
      "source": [
        "# ------------------ 1. Keep only rows with a valid year ------------------\n",
        "master_df = master_df[master_df['year'].notna()].copy()\n",
        "\n",
        "# ------------------ 2. Keep only known owner_type categories ------------------\n",
        "valid_owners = ['first', 'second', 'third', 'fourth+']\n",
        "master_df = master_df[master_df['owner_type'].isin(valid_owners)].copy()\n",
        "\n",
        "# ------------------ 3. Keep only simplified transmission ------------------\n",
        "valid_trans = ['manual', 'automatic']\n",
        "master_df = master_df[master_df['transmission'].isin(valid_trans)].copy()\n",
        "\n",
        "# ------------------ Preview ------------------\n",
        "print(master_df[['owner_type', 'transmission', 'mileage', 'horsepower', 'year']].head(10))\n"
      ],
      "metadata": {
        "colab": {
          "base_uri": "https://localhost:8080/"
        },
        "id": "9g0ixZoP2qia",
        "outputId": "8596b2db-13a3-4085-bc16-83b750435478"
      },
      "execution_count": null,
      "outputs": [
        {
          "output_type": "stream",
          "name": "stdout",
          "text": [
            "    owner_type transmission  mileage  horsepower  year\n",
            "205      first       manual    26.60       58.16  2010\n",
            "206      first       manual    19.67      126.20  2015\n",
            "207      first       manual    18.20       88.70  2011\n",
            "208      first       manual    20.77       88.76  2012\n",
            "209     second    automatic    15.20      140.80  2013\n",
            "210      first       manual    21.10       55.20  2012\n",
            "211      first       manual    23.08       63.10  2013\n",
            "212      first    automatic    11.36      171.50  2016\n",
            "213      first       manual    20.54      103.60  2013\n",
            "214     second       manual    22.30       74.00  2012\n"
          ]
        }
      ]
    },
    {
      "cell_type": "code",
      "source": [
        "print(\"Master dataset ready:\", master_df.shape)"
      ],
      "metadata": {
        "colab": {
          "base_uri": "https://localhost:8080/"
        },
        "id": "rECnrWWw2uJs",
        "outputId": "095becf6-f771-4a03-d588-b3d505aae35e"
      },
      "execution_count": null,
      "outputs": [
        {
          "output_type": "stream",
          "name": "stdout",
          "text": [
            "Master dataset ready: (11524, 8)\n"
          ]
        }
      ]
    },
    {
      "cell_type": "code",
      "source": [
        "print(master_df.head(20))"
      ],
      "metadata": {
        "colab": {
          "base_uri": "https://localhost:8080/"
        },
        "id": "06CkRVRTAFS8",
        "outputId": "dd03389c-05d2-4733-e681-b8aeeaad30b3"
      },
      "execution_count": null,
      "outputs": [
        {
          "output_type": "stream",
          "name": "stdout",
          "text": [
            "                                             car_name  year  horsepower  \\\n",
            "205                            maruti wagon r lxi cng  2010       58.16   \n",
            "206                  hyundai creta 1.6 crdi sx option  2015      126.20   \n",
            "207                                      honda jazz v  2011       88.70   \n",
            "208                                 maruti ertiga vdi  2012       88.76   \n",
            "209                   audi a4 new 2.0 tdi multitronic  2013      140.80   \n",
            "210                   hyundai eon lpg era plus option  2012       55.20   \n",
            "211                            nissan micra diesel xv  2013       63.10   \n",
            "212                 toyota innova crysta 2.8 gx at 8s  2016      171.50   \n",
            "213               volkswagen vento diesel comfortline  2013      103.60   \n",
            "214                    tata indica vista quadrajet ls  2012       74.00   \n",
            "215                                  maruti ciaz zeta  2018      103.25   \n",
            "216                       honda city 1.5 v at sunroof  2012      116.30   \n",
            "217                             maruti swift vdi bsiv  2015       74.00   \n",
            "218                  land rover range rover 2.2l pure  2014      187.70   \n",
            "219                    land rover freelander 2 td4 se  2012      115.00   \n",
            "220                       mitsubishi pajero sport 4x4  2014      175.56   \n",
            "221                             honda amaze s i-dtech  2016       98.60   \n",
            "222                             maruti swift ddis vdi  2017       74.00   \n",
            "223               renault duster 85ps diesel rxl plus  2014       83.80   \n",
            "224  mercedes-benz new c-class c 220 cdi be avantgare  2014      167.62   \n",
            "\n",
            "     mileage fuel_type transmission owner_type  price  \n",
            "205    26.60       cng       manual      first   1.75  \n",
            "206    19.67    diesel       manual      first  12.50  \n",
            "207    18.20    petrol       manual      first   4.50  \n",
            "208    20.77    diesel       manual      first   6.00  \n",
            "209    15.20    diesel    automatic     second  17.74  \n",
            "210    21.10       lpg       manual      first   2.35  \n",
            "211    23.08    diesel       manual      first   3.50  \n",
            "212    11.36    diesel    automatic      first  17.50  \n",
            "213    20.54    diesel       manual      first   5.20  \n",
            "214    22.30    diesel       manual     second   1.95  \n",
            "215    21.56    petrol       manual      first   9.95  \n",
            "216    16.80    petrol    automatic      first   4.49  \n",
            "217    25.20    diesel       manual      first   5.60  \n",
            "218    12.70    diesel    automatic      first  27.00  \n",
            "219     0.00    diesel    automatic     second  17.50  \n",
            "220    13.50    diesel       manual      first  15.00  \n",
            "221    25.80    diesel       manual      first   5.40  \n",
            "222    28.40    diesel       manual      first   5.99  \n",
            "223    20.45    diesel       manual      first   6.34  \n",
            "224    14.84    diesel    automatic      first  28.00  \n"
          ]
        }
      ]
    },
    {
      "cell_type": "code",
      "source": [
        "# Summary statistics for numeric columns\n",
        "print(master_df.describe())"
      ],
      "metadata": {
        "colab": {
          "base_uri": "https://localhost:8080/"
        },
        "id": "xZcyqJvfDz-G",
        "outputId": "c6cd1840-1a8c-43c8-ff6e-d2b6cef3fcad"
      },
      "execution_count": null,
      "outputs": [
        {
          "output_type": "stream",
          "name": "stdout",
          "text": [
            "        horsepower        mileage         price\n",
            "count  5876.000000   11522.000000  1.152400e+04\n",
            "mean    113.253050   30243.482213  5.540004e+05\n",
            "std      53.874957   42830.084058  1.478592e+06\n",
            "min      34.200000       0.000000  4.400000e-01\n",
            "25%      75.000000      17.900000  5.490000e+00\n",
            "50%      97.700000      25.800000  3.500000e+01\n",
            "75%     138.100000   56382.750000  5.250000e+05\n",
            "max     560.000000  560000.000000  1.920000e+07\n"
          ]
        }
      ]
    },
    {
      "cell_type": "code",
      "source": [
        "# Summary statistics for categorical columns\n",
        "print(master_df.describe(include=['object', 'category']))"
      ],
      "metadata": {
        "colab": {
          "base_uri": "https://localhost:8080/"
        },
        "id": "UZALvUr2D3EQ",
        "outputId": "9bf22aa7-d3be-464b-f8e4-d4af9c53562c"
      },
      "execution_count": null,
      "outputs": [
        {
          "output_type": "stream",
          "name": "stdout",
          "text": [
            "                      car_name   year fuel_type transmission owner_type\n",
            "count                    11524  11524     11524        11524      11524\n",
            "unique                    2948     26         5            2          4\n",
            "top     maruti swift dzire vdi   2015    petrol       manual      first\n",
            "freq                       106   1274      5707         8260       8665\n"
          ]
        }
      ]
    },
    {
      "cell_type": "code",
      "source": [
        "# Count of missing values per column\n",
        "print(master_df.isnull().sum())"
      ],
      "metadata": {
        "colab": {
          "base_uri": "https://localhost:8080/"
        },
        "id": "Oyzyi9iuD5gA",
        "outputId": "94f2d61c-fdfc-4f20-f0d2-ce0305546bd1"
      },
      "execution_count": null,
      "outputs": [
        {
          "output_type": "stream",
          "name": "stdout",
          "text": [
            "car_name           0\n",
            "year               0\n",
            "horsepower      5648\n",
            "mileage            2\n",
            "fuel_type          0\n",
            "transmission       0\n",
            "owner_type         0\n",
            "price              0\n",
            "dtype: int64\n"
          ]
        }
      ]
    },
    {
      "cell_type": "code",
      "source": [
        "# 1. Clean price column: remove $ and commas, convert to float\n",
        "master_df['price'] = master_df['price'].astype(str).str.replace(r'[\\$,]', '', regex=True)\n",
        "master_df['price'] = pd.to_numeric(master_df['price'], errors='coerce')"
      ],
      "metadata": {
        "id": "5M-5gyOeUnui"
      },
      "execution_count": null,
      "outputs": []
    },
    {
      "cell_type": "code",
      "source": [
        "master_df[['car_name', 'price']].head(10)"
      ],
      "metadata": {
        "id": "rkTBQUdOUnrw",
        "colab": {
          "base_uri": "https://localhost:8080/",
          "height": 359
        },
        "outputId": "a8e498b7-aff0-4d89-e5cf-64335cda4d10"
      },
      "execution_count": null,
      "outputs": [
        {
          "output_type": "execute_result",
          "data": {
            "text/plain": [
              "                                car_name  price\n",
              "205               maruti wagon r lxi cng   1.75\n",
              "206     hyundai creta 1.6 crdi sx option  12.50\n",
              "207                         honda jazz v   4.50\n",
              "208                    maruti ertiga vdi   6.00\n",
              "209      audi a4 new 2.0 tdi multitronic  17.74\n",
              "210      hyundai eon lpg era plus option   2.35\n",
              "211               nissan micra diesel xv   3.50\n",
              "212    toyota innova crysta 2.8 gx at 8s  17.50\n",
              "213  volkswagen vento diesel comfortline   5.20\n",
              "214       tata indica vista quadrajet ls   1.95"
            ],
            "text/html": [
              "\n",
              "  <div id=\"df-e3b7b5fd-5587-4b19-9ca7-2013934ab08d\" class=\"colab-df-container\">\n",
              "    <div>\n",
              "<style scoped>\n",
              "    .dataframe tbody tr th:only-of-type {\n",
              "        vertical-align: middle;\n",
              "    }\n",
              "\n",
              "    .dataframe tbody tr th {\n",
              "        vertical-align: top;\n",
              "    }\n",
              "\n",
              "    .dataframe thead th {\n",
              "        text-align: right;\n",
              "    }\n",
              "</style>\n",
              "<table border=\"1\" class=\"dataframe\">\n",
              "  <thead>\n",
              "    <tr style=\"text-align: right;\">\n",
              "      <th></th>\n",
              "      <th>car_name</th>\n",
              "      <th>price</th>\n",
              "    </tr>\n",
              "  </thead>\n",
              "  <tbody>\n",
              "    <tr>\n",
              "      <th>205</th>\n",
              "      <td>maruti wagon r lxi cng</td>\n",
              "      <td>1.75</td>\n",
              "    </tr>\n",
              "    <tr>\n",
              "      <th>206</th>\n",
              "      <td>hyundai creta 1.6 crdi sx option</td>\n",
              "      <td>12.50</td>\n",
              "    </tr>\n",
              "    <tr>\n",
              "      <th>207</th>\n",
              "      <td>honda jazz v</td>\n",
              "      <td>4.50</td>\n",
              "    </tr>\n",
              "    <tr>\n",
              "      <th>208</th>\n",
              "      <td>maruti ertiga vdi</td>\n",
              "      <td>6.00</td>\n",
              "    </tr>\n",
              "    <tr>\n",
              "      <th>209</th>\n",
              "      <td>audi a4 new 2.0 tdi multitronic</td>\n",
              "      <td>17.74</td>\n",
              "    </tr>\n",
              "    <tr>\n",
              "      <th>210</th>\n",
              "      <td>hyundai eon lpg era plus option</td>\n",
              "      <td>2.35</td>\n",
              "    </tr>\n",
              "    <tr>\n",
              "      <th>211</th>\n",
              "      <td>nissan micra diesel xv</td>\n",
              "      <td>3.50</td>\n",
              "    </tr>\n",
              "    <tr>\n",
              "      <th>212</th>\n",
              "      <td>toyota innova crysta 2.8 gx at 8s</td>\n",
              "      <td>17.50</td>\n",
              "    </tr>\n",
              "    <tr>\n",
              "      <th>213</th>\n",
              "      <td>volkswagen vento diesel comfortline</td>\n",
              "      <td>5.20</td>\n",
              "    </tr>\n",
              "    <tr>\n",
              "      <th>214</th>\n",
              "      <td>tata indica vista quadrajet ls</td>\n",
              "      <td>1.95</td>\n",
              "    </tr>\n",
              "  </tbody>\n",
              "</table>\n",
              "</div>\n",
              "    <div class=\"colab-df-buttons\">\n",
              "\n",
              "  <div class=\"colab-df-container\">\n",
              "    <button class=\"colab-df-convert\" onclick=\"convertToInteractive('df-e3b7b5fd-5587-4b19-9ca7-2013934ab08d')\"\n",
              "            title=\"Convert this dataframe to an interactive table.\"\n",
              "            style=\"display:none;\">\n",
              "\n",
              "  <svg xmlns=\"http://www.w3.org/2000/svg\" height=\"24px\" viewBox=\"0 -960 960 960\">\n",
              "    <path d=\"M120-120v-720h720v720H120Zm60-500h600v-160H180v160Zm220 220h160v-160H400v160Zm0 220h160v-160H400v160ZM180-400h160v-160H180v160Zm440 0h160v-160H620v160ZM180-180h160v-160H180v160Zm440 0h160v-160H620v160Z\"/>\n",
              "  </svg>\n",
              "    </button>\n",
              "\n",
              "  <style>\n",
              "    .colab-df-container {\n",
              "      display:flex;\n",
              "      gap: 12px;\n",
              "    }\n",
              "\n",
              "    .colab-df-convert {\n",
              "      background-color: #E8F0FE;\n",
              "      border: none;\n",
              "      border-radius: 50%;\n",
              "      cursor: pointer;\n",
              "      display: none;\n",
              "      fill: #1967D2;\n",
              "      height: 32px;\n",
              "      padding: 0 0 0 0;\n",
              "      width: 32px;\n",
              "    }\n",
              "\n",
              "    .colab-df-convert:hover {\n",
              "      background-color: #E2EBFA;\n",
              "      box-shadow: 0px 1px 2px rgba(60, 64, 67, 0.3), 0px 1px 3px 1px rgba(60, 64, 67, 0.15);\n",
              "      fill: #174EA6;\n",
              "    }\n",
              "\n",
              "    .colab-df-buttons div {\n",
              "      margin-bottom: 4px;\n",
              "    }\n",
              "\n",
              "    [theme=dark] .colab-df-convert {\n",
              "      background-color: #3B4455;\n",
              "      fill: #D2E3FC;\n",
              "    }\n",
              "\n",
              "    [theme=dark] .colab-df-convert:hover {\n",
              "      background-color: #434B5C;\n",
              "      box-shadow: 0px 1px 3px 1px rgba(0, 0, 0, 0.15);\n",
              "      filter: drop-shadow(0px 1px 2px rgba(0, 0, 0, 0.3));\n",
              "      fill: #FFFFFF;\n",
              "    }\n",
              "  </style>\n",
              "\n",
              "    <script>\n",
              "      const buttonEl =\n",
              "        document.querySelector('#df-e3b7b5fd-5587-4b19-9ca7-2013934ab08d button.colab-df-convert');\n",
              "      buttonEl.style.display =\n",
              "        google.colab.kernel.accessAllowed ? 'block' : 'none';\n",
              "\n",
              "      async function convertToInteractive(key) {\n",
              "        const element = document.querySelector('#df-e3b7b5fd-5587-4b19-9ca7-2013934ab08d');\n",
              "        const dataTable =\n",
              "          await google.colab.kernel.invokeFunction('convertToInteractive',\n",
              "                                                    [key], {});\n",
              "        if (!dataTable) return;\n",
              "\n",
              "        const docLinkHtml = 'Like what you see? Visit the ' +\n",
              "          '<a target=\"_blank\" href=https://colab.research.google.com/notebooks/data_table.ipynb>data table notebook</a>'\n",
              "          + ' to learn more about interactive tables.';\n",
              "        element.innerHTML = '';\n",
              "        dataTable['output_type'] = 'display_data';\n",
              "        await google.colab.output.renderOutput(dataTable, element);\n",
              "        const docLink = document.createElement('div');\n",
              "        docLink.innerHTML = docLinkHtml;\n",
              "        element.appendChild(docLink);\n",
              "      }\n",
              "    </script>\n",
              "  </div>\n",
              "\n",
              "\n",
              "    <div id=\"df-32ad4159-6e30-4e8b-80a3-edf389d1d73e\">\n",
              "      <button class=\"colab-df-quickchart\" onclick=\"quickchart('df-32ad4159-6e30-4e8b-80a3-edf389d1d73e')\"\n",
              "                title=\"Suggest charts\"\n",
              "                style=\"display:none;\">\n",
              "\n",
              "<svg xmlns=\"http://www.w3.org/2000/svg\" height=\"24px\"viewBox=\"0 0 24 24\"\n",
              "     width=\"24px\">\n",
              "    <g>\n",
              "        <path d=\"M19 3H5c-1.1 0-2 .9-2 2v14c0 1.1.9 2 2 2h14c1.1 0 2-.9 2-2V5c0-1.1-.9-2-2-2zM9 17H7v-7h2v7zm4 0h-2V7h2v10zm4 0h-2v-4h2v4z\"/>\n",
              "    </g>\n",
              "</svg>\n",
              "      </button>\n",
              "\n",
              "<style>\n",
              "  .colab-df-quickchart {\n",
              "      --bg-color: #E8F0FE;\n",
              "      --fill-color: #1967D2;\n",
              "      --hover-bg-color: #E2EBFA;\n",
              "      --hover-fill-color: #174EA6;\n",
              "      --disabled-fill-color: #AAA;\n",
              "      --disabled-bg-color: #DDD;\n",
              "  }\n",
              "\n",
              "  [theme=dark] .colab-df-quickchart {\n",
              "      --bg-color: #3B4455;\n",
              "      --fill-color: #D2E3FC;\n",
              "      --hover-bg-color: #434B5C;\n",
              "      --hover-fill-color: #FFFFFF;\n",
              "      --disabled-bg-color: #3B4455;\n",
              "      --disabled-fill-color: #666;\n",
              "  }\n",
              "\n",
              "  .colab-df-quickchart {\n",
              "    background-color: var(--bg-color);\n",
              "    border: none;\n",
              "    border-radius: 50%;\n",
              "    cursor: pointer;\n",
              "    display: none;\n",
              "    fill: var(--fill-color);\n",
              "    height: 32px;\n",
              "    padding: 0;\n",
              "    width: 32px;\n",
              "  }\n",
              "\n",
              "  .colab-df-quickchart:hover {\n",
              "    background-color: var(--hover-bg-color);\n",
              "    box-shadow: 0 1px 2px rgba(60, 64, 67, 0.3), 0 1px 3px 1px rgba(60, 64, 67, 0.15);\n",
              "    fill: var(--button-hover-fill-color);\n",
              "  }\n",
              "\n",
              "  .colab-df-quickchart-complete:disabled,\n",
              "  .colab-df-quickchart-complete:disabled:hover {\n",
              "    background-color: var(--disabled-bg-color);\n",
              "    fill: var(--disabled-fill-color);\n",
              "    box-shadow: none;\n",
              "  }\n",
              "\n",
              "  .colab-df-spinner {\n",
              "    border: 2px solid var(--fill-color);\n",
              "    border-color: transparent;\n",
              "    border-bottom-color: var(--fill-color);\n",
              "    animation:\n",
              "      spin 1s steps(1) infinite;\n",
              "  }\n",
              "\n",
              "  @keyframes spin {\n",
              "    0% {\n",
              "      border-color: transparent;\n",
              "      border-bottom-color: var(--fill-color);\n",
              "      border-left-color: var(--fill-color);\n",
              "    }\n",
              "    20% {\n",
              "      border-color: transparent;\n",
              "      border-left-color: var(--fill-color);\n",
              "      border-top-color: var(--fill-color);\n",
              "    }\n",
              "    30% {\n",
              "      border-color: transparent;\n",
              "      border-left-color: var(--fill-color);\n",
              "      border-top-color: var(--fill-color);\n",
              "      border-right-color: var(--fill-color);\n",
              "    }\n",
              "    40% {\n",
              "      border-color: transparent;\n",
              "      border-right-color: var(--fill-color);\n",
              "      border-top-color: var(--fill-color);\n",
              "    }\n",
              "    60% {\n",
              "      border-color: transparent;\n",
              "      border-right-color: var(--fill-color);\n",
              "    }\n",
              "    80% {\n",
              "      border-color: transparent;\n",
              "      border-right-color: var(--fill-color);\n",
              "      border-bottom-color: var(--fill-color);\n",
              "    }\n",
              "    90% {\n",
              "      border-color: transparent;\n",
              "      border-bottom-color: var(--fill-color);\n",
              "    }\n",
              "  }\n",
              "</style>\n",
              "\n",
              "      <script>\n",
              "        async function quickchart(key) {\n",
              "          const quickchartButtonEl =\n",
              "            document.querySelector('#' + key + ' button');\n",
              "          quickchartButtonEl.disabled = true;  // To prevent multiple clicks.\n",
              "          quickchartButtonEl.classList.add('colab-df-spinner');\n",
              "          try {\n",
              "            const charts = await google.colab.kernel.invokeFunction(\n",
              "                'suggestCharts', [key], {});\n",
              "          } catch (error) {\n",
              "            console.error('Error during call to suggestCharts:', error);\n",
              "          }\n",
              "          quickchartButtonEl.classList.remove('colab-df-spinner');\n",
              "          quickchartButtonEl.classList.add('colab-df-quickchart-complete');\n",
              "        }\n",
              "        (() => {\n",
              "          let quickchartButtonEl =\n",
              "            document.querySelector('#df-32ad4159-6e30-4e8b-80a3-edf389d1d73e button');\n",
              "          quickchartButtonEl.style.display =\n",
              "            google.colab.kernel.accessAllowed ? 'block' : 'none';\n",
              "        })();\n",
              "      </script>\n",
              "    </div>\n",
              "\n",
              "    </div>\n",
              "  </div>\n"
            ],
            "application/vnd.google.colaboratory.intrinsic+json": {
              "type": "dataframe",
              "summary": "{\n  \"name\": \"master_df[['car_name', 'price']]\",\n  \"rows\": 10,\n  \"fields\": [\n    {\n      \"column\": \"car_name\",\n      \"properties\": {\n        \"dtype\": \"string\",\n        \"num_unique_values\": 10,\n        \"samples\": [\n          \"volkswagen vento diesel comfortline\",\n          \"hyundai creta 1.6 crdi sx option\",\n          \"hyundai eon lpg era plus option\"\n        ],\n        \"semantic_type\": \"\",\n        \"description\": \"\"\n      }\n    },\n    {\n      \"column\": \"price\",\n      \"properties\": {\n        \"dtype\": \"number\",\n        \"std\": 6.257272124851567,\n        \"min\": 1.75,\n        \"max\": 17.74,\n        \"num_unique_values\": 10,\n        \"samples\": [\n          5.2,\n          12.5,\n          2.35\n        ],\n        \"semantic_type\": \"\",\n        \"description\": \"\"\n      }\n    }\n  ]\n}"
            }
          },
          "metadata": {},
          "execution_count": 37
        }
      ]
    },
    {
      "cell_type": "code",
      "source": [
        "# Count missing prices\n",
        "print(\"Missing prices:\", master_df['price'].isnull().sum())\n",
        "\n",
        "# Check for any non-finite values (inf, -inf)\n",
        "print(\"Non-finite prices:\", (~master_df['price'].apply(np.isfinite)).sum())"
      ],
      "metadata": {
        "colab": {
          "base_uri": "https://localhost:8080/"
        },
        "id": "pGB7NSRMnDe-",
        "outputId": "7538b5d2-1a8a-43e2-cfdb-445db864c3e1"
      },
      "execution_count": null,
      "outputs": [
        {
          "output_type": "stream",
          "name": "stdout",
          "text": [
            "Missing prices: 0\n",
            "Non-finite prices: 0\n"
          ]
        }
      ]
    },
    {
      "cell_type": "code",
      "source": [
        "master_df['price'].describe()"
      ],
      "metadata": {
        "colab": {
          "base_uri": "https://localhost:8080/",
          "height": 331
        },
        "id": "dyrg0_SfnDdA",
        "outputId": "353e5ee7-f52e-414e-d3fc-28341ddc4b22"
      },
      "execution_count": null,
      "outputs": [
        {
          "output_type": "execute_result",
          "data": {
            "text/plain": [
              "count    1.152400e+04\n",
              "mean     5.540004e+05\n",
              "std      1.478592e+06\n",
              "min      4.400000e-01\n",
              "25%      5.490000e+00\n",
              "50%      3.500000e+01\n",
              "75%      5.250000e+05\n",
              "max      1.920000e+07\n",
              "Name: price, dtype: float64"
            ],
            "text/html": [
              "<div>\n",
              "<style scoped>\n",
              "    .dataframe tbody tr th:only-of-type {\n",
              "        vertical-align: middle;\n",
              "    }\n",
              "\n",
              "    .dataframe tbody tr th {\n",
              "        vertical-align: top;\n",
              "    }\n",
              "\n",
              "    .dataframe thead th {\n",
              "        text-align: right;\n",
              "    }\n",
              "</style>\n",
              "<table border=\"1\" class=\"dataframe\">\n",
              "  <thead>\n",
              "    <tr style=\"text-align: right;\">\n",
              "      <th></th>\n",
              "      <th>price</th>\n",
              "    </tr>\n",
              "  </thead>\n",
              "  <tbody>\n",
              "    <tr>\n",
              "      <th>count</th>\n",
              "      <td>1.152400e+04</td>\n",
              "    </tr>\n",
              "    <tr>\n",
              "      <th>mean</th>\n",
              "      <td>5.540004e+05</td>\n",
              "    </tr>\n",
              "    <tr>\n",
              "      <th>std</th>\n",
              "      <td>1.478592e+06</td>\n",
              "    </tr>\n",
              "    <tr>\n",
              "      <th>min</th>\n",
              "      <td>4.400000e-01</td>\n",
              "    </tr>\n",
              "    <tr>\n",
              "      <th>25%</th>\n",
              "      <td>5.490000e+00</td>\n",
              "    </tr>\n",
              "    <tr>\n",
              "      <th>50%</th>\n",
              "      <td>3.500000e+01</td>\n",
              "    </tr>\n",
              "    <tr>\n",
              "      <th>75%</th>\n",
              "      <td>5.250000e+05</td>\n",
              "    </tr>\n",
              "    <tr>\n",
              "      <th>max</th>\n",
              "      <td>1.920000e+07</td>\n",
              "    </tr>\n",
              "  </tbody>\n",
              "</table>\n",
              "</div><br><label><b>dtype:</b> float64</label>"
            ]
          },
          "metadata": {},
          "execution_count": 39
        }
      ]
    },
    {
      "cell_type": "code",
      "source": [
        "def convert_lakh_to_number(val):\n",
        "    \"\"\"\n",
        "    Convert values like '10.03 Lakh' or '5.5 Lakh' to numeric (in rupees).\n",
        "    If already numeric, just return float.\n",
        "    \"\"\"\n",
        "    try:\n",
        "        if pd.isna(val):\n",
        "            return np.nan\n",
        "        val_str = str(val).lower().replace(',', '').strip()\n",
        "        if 'lakh' in val_str:\n",
        "            num = float(val_str.replace('lakh', '').strip())\n",
        "            return num * 100_000   # 1 Lakh = 100,000\n",
        "        elif 'crore' in val_str:\n",
        "            num = float(val_str.replace('crore', '').strip())\n",
        "            return num * 10_000_000  # 1 Crore = 10,000,000\n",
        "        else:\n",
        "            return float(val_str)\n",
        "    except:\n",
        "        return np.nan\n",
        "\n",
        "# Apply to price column\n",
        "master_df['price'] = master_df['price'].apply(convert_lakh_to_number)\n"
      ],
      "metadata": {
        "id": "bbyNd9CynDaX"
      },
      "execution_count": null,
      "outputs": []
    },
    {
      "cell_type": "code",
      "source": [
        "from google.colab import files\n",
        "# Save master_df to CSV\n",
        "master_df.to_csv(\"master_df.csv\", index=False)\n",
        "# Download the CSV\n",
        "files.download(\"master_df.csv\")"
      ],
      "metadata": {
        "colab": {
          "base_uri": "https://localhost:8080/",
          "height": 34
        },
        "id": "BTYv1gqbFSyT",
        "outputId": "de75a31b-e738-4980-9a31-b5acb76b4767"
      },
      "execution_count": null,
      "outputs": [
        {
          "output_type": "display_data",
          "data": {
            "text/plain": [
              "<IPython.core.display.Javascript object>"
            ],
            "application/javascript": [
              "\n",
              "    async function download(id, filename, size) {\n",
              "      if (!google.colab.kernel.accessAllowed) {\n",
              "        return;\n",
              "      }\n",
              "      const div = document.createElement('div');\n",
              "      const label = document.createElement('label');\n",
              "      label.textContent = `Downloading \"${filename}\": `;\n",
              "      div.appendChild(label);\n",
              "      const progress = document.createElement('progress');\n",
              "      progress.max = size;\n",
              "      div.appendChild(progress);\n",
              "      document.body.appendChild(div);\n",
              "\n",
              "      const buffers = [];\n",
              "      let downloaded = 0;\n",
              "\n",
              "      const channel = await google.colab.kernel.comms.open(id);\n",
              "      // Send a message to notify the kernel that we're ready.\n",
              "      channel.send({})\n",
              "\n",
              "      for await (const message of channel.messages) {\n",
              "        // Send a message to notify the kernel that we're ready.\n",
              "        channel.send({})\n",
              "        if (message.buffers) {\n",
              "          for (const buffer of message.buffers) {\n",
              "            buffers.push(buffer);\n",
              "            downloaded += buffer.byteLength;\n",
              "            progress.value = downloaded;\n",
              "          }\n",
              "        }\n",
              "      }\n",
              "      const blob = new Blob(buffers, {type: 'application/binary'});\n",
              "      const a = document.createElement('a');\n",
              "      a.href = window.URL.createObjectURL(blob);\n",
              "      a.download = filename;\n",
              "      div.appendChild(a);\n",
              "      a.click();\n",
              "      div.remove();\n",
              "    }\n",
              "  "
            ]
          },
          "metadata": {}
        },
        {
          "output_type": "display_data",
          "data": {
            "text/plain": [
              "<IPython.core.display.Javascript object>"
            ],
            "application/javascript": [
              "download(\"download_f2253dd0-14c1-4d01-9e68-7a5fad4fd61f\", \"master_df.csv\", 884413)"
            ]
          },
          "metadata": {}
        }
      ]
    },
    {
      "cell_type": "code",
      "source": [
        "import numpy as np\n",
        "from sklearn.preprocessing import LabelEncoder, StandardScaler\n"
      ],
      "metadata": {
        "id": "pxMXfGKznZSV"
      },
      "execution_count": null,
      "outputs": []
    },
    {
      "cell_type": "code",
      "source": [
        "from sklearn.preprocessing import LabelEncoder, StandardScaler\n",
        "\n",
        "# Encode categorical variables\n",
        "label_encoders = {}\n",
        "categorical_cols = ['fuel_type', 'transmission', 'owner_type', 'car_name']\n",
        "\n",
        "for col in categorical_cols:\n",
        "    le = LabelEncoder()\n",
        "    master_df[col] = le.fit_transform(master_df[col].astype(str))\n",
        "    label_encoders[col] = le\n",
        "\n",
        "# Feature columns now include all predictors\n",
        "feature_cols = ['car_name', 'year', 'horsepower', 'mileage', 'fuel_type', 'transmission', 'owner_type']\n",
        "target_col = 'price'\n",
        "\n",
        "# Fill NaNs for numeric columns\n",
        "numeric_cols = ['year', 'horsepower', 'mileage']\n",
        "master_df[numeric_cols] = master_df[numeric_cols].fillna(master_df[numeric_cols].median())\n",
        "\n",
        "# Scale numeric columns only\n",
        "scaler = StandardScaler()\n",
        "master_df[numeric_cols] = scaler.fit_transform(master_df[numeric_cols])\n",
        "\n",
        "# Check\n",
        "print(master_df[feature_cols].head())\n"
      ],
      "metadata": {
        "colab": {
          "base_uri": "https://localhost:8080/"
        },
        "id": "fAhQe4OCB-6k",
        "outputId": "9df12f4e-5558-4073-8fd0-69f7d9d25a01"
      },
      "execution_count": null,
      "outputs": [
        {
          "output_type": "stream",
          "name": "stdout",
          "text": [
            "     car_name      year  horsepower   mileage  fuel_type  transmission  \\\n",
            "205       891 -1.163157   -1.209592 -0.705445          0             1   \n",
            "206       479  0.171872    0.524134 -0.705607          1             1   \n",
            "207        32 -0.896151   -0.431403 -0.705641          4             1   \n",
            "208      1793 -0.629145   -0.429874 -0.705581          1             1   \n",
            "209       439 -0.362140    0.896156 -0.705711          1             0   \n",
            "\n",
            "     owner_type  \n",
            "205           0  \n",
            "206           0  \n",
            "207           0  \n",
            "208           0  \n",
            "209           2  \n"
          ]
        }
      ]
    },
    {
      "cell_type": "code",
      "source": [
        "master_df[['car_name', 'price']].head(10)\n",
        "print(\"Missing prices after conversion:\", master_df['price'].isnull().sum())"
      ],
      "metadata": {
        "colab": {
          "base_uri": "https://localhost:8080/"
        },
        "id": "2LG66tV4nDXt",
        "outputId": "2f46bfc0-a70f-4294-9668-2becd25645a0"
      },
      "execution_count": null,
      "outputs": [
        {
          "output_type": "stream",
          "name": "stdout",
          "text": [
            "Missing prices after conversion: 0\n"
          ]
        }
      ]
    },
    {
      "cell_type": "code",
      "source": [
        "# Convert numeric columns first\n",
        "master_df['horsepower'] = pd.to_numeric(master_df['horsepower'], errors='coerce')\n",
        "master_df['mileage'] = pd.to_numeric(master_df['mileage'], errors='coerce')"
      ],
      "metadata": {
        "id": "atP324KXnDWC"
      },
      "execution_count": null,
      "outputs": []
    },
    {
      "cell_type": "code",
      "source": [
        "# 2. Impute missing horsepower and mileage with median\n",
        "master_df['horsepower'] = master_df['horsepower'].fillna(master_df['horsepower'].median())\n",
        "master_df['mileage'] = master_df['mileage'].fillna(master_df['mileage'].median())"
      ],
      "metadata": {
        "id": "TBl6cqOznDTr"
      },
      "execution_count": null,
      "outputs": []
    },
    {
      "cell_type": "code",
      "source": [
        "# Check number of missing values per column\n",
        "print(master_df[['horsepower', 'mileage', 'year']].isnull().sum())\n"
      ],
      "metadata": {
        "colab": {
          "base_uri": "https://localhost:8080/"
        },
        "id": "qR6gQOgLqLPy",
        "outputId": "a33a1111-711a-4ad1-882f-21d020130fe8"
      },
      "execution_count": null,
      "outputs": [
        {
          "output_type": "stream",
          "name": "stdout",
          "text": [
            "horsepower    0\n",
            "mileage       0\n",
            "year          0\n",
            "dtype: int64\n"
          ]
        }
      ]
    },
    {
      "cell_type": "code",
      "source": [
        "# Check data types and non-null counts\n",
        "print(master_df.info())\n",
        "\n",
        "# Preview first 5 rows to see values after cleaning and encoding\n",
        "print(master_df.head())\n",
        "\n",
        "# Confirm no missing values remain\n",
        "print(master_df.isnull().sum())\n",
        "\n",
        "# Check basic statistics for numeric columns\n",
        "print(master_df.describe())"
      ],
      "metadata": {
        "colab": {
          "base_uri": "https://localhost:8080/"
        },
        "id": "5xVXBpoCnDLv",
        "outputId": "7898eaff-c9d3-44f4-eb2f-81c7fe8089b5"
      },
      "execution_count": null,
      "outputs": [
        {
          "output_type": "stream",
          "name": "stdout",
          "text": [
            "<class 'pandas.core.frame.DataFrame'>\n",
            "Index: 11524 entries, 205 to 15744\n",
            "Data columns (total 8 columns):\n",
            " #   Column        Non-Null Count  Dtype  \n",
            "---  ------        --------------  -----  \n",
            " 0   car_name      11524 non-null  int64  \n",
            " 1   year          11524 non-null  float64\n",
            " 2   horsepower    11524 non-null  float64\n",
            " 3   mileage       11524 non-null  float64\n",
            " 4   fuel_type     11524 non-null  int64  \n",
            " 5   transmission  11524 non-null  int64  \n",
            " 6   owner_type    11524 non-null  int64  \n",
            " 7   price         11524 non-null  float64\n",
            "dtypes: float64(4), int64(4)\n",
            "memory usage: 810.3 KB\n",
            "None\n",
            "     car_name      year  horsepower   mileage  fuel_type  transmission  \\\n",
            "205       891 -1.163157   -1.209592 -0.705445          0             1   \n",
            "206       479  0.171872    0.524134 -0.705607          1             1   \n",
            "207        32 -0.896151   -0.431403 -0.705641          4             1   \n",
            "208      1793 -0.629145   -0.429874 -0.705581          1             1   \n",
            "209       439 -0.362140    0.896156 -0.705711          1             0   \n",
            "\n",
            "     owner_type  price  \n",
            "205           0   1.75  \n",
            "206           0  12.50  \n",
            "207           0   4.50  \n",
            "208           0   6.00  \n",
            "209           2  17.74  \n",
            "car_name        0\n",
            "year            0\n",
            "horsepower      0\n",
            "mileage         0\n",
            "fuel_type       0\n",
            "transmission    0\n",
            "owner_type      0\n",
            "price           0\n",
            "dtype: int64\n",
            "           car_name          year    horsepower       mileage     fuel_type  \\\n",
            "count  11524.000000  1.152400e+04  1.152400e+04  11524.000000  11524.000000   \n",
            "mean    1475.747223  9.865224e-18 -2.959567e-17      0.000000      2.481864   \n",
            "std      828.807665  1.000043e+00  1.000043e+00      1.000043      1.512516   \n",
            "min        0.000000 -5.168241e+00 -1.820116e+00     -0.706066      0.000000   \n",
            "25%      765.000000 -6.291454e-01 -3.473154e-01     -0.705648      1.000000   \n",
            "50%     1433.500000  1.718716e-01 -2.020739e-01     -0.705464      1.000000   \n",
            "75%     2176.000000  7.058829e-01 -1.791410e-01      0.610419      4.000000   \n",
            "max     2947.000000  2.040911e+00  1.157778e+01     12.369993      4.000000   \n",
            "\n",
            "       transmission    owner_type         price  \n",
            "count  11524.000000  11524.000000  1.152400e+04  \n",
            "mean       0.716765      0.528028  5.540004e+05  \n",
            "std        0.450589      0.943972  1.478592e+06  \n",
            "min        0.000000      0.000000  4.400000e-01  \n",
            "25%        0.000000      0.000000  5.490000e+00  \n",
            "50%        1.000000      0.000000  3.500000e+01  \n",
            "75%        1.000000      0.000000  5.250000e+05  \n",
            "max        1.000000      3.000000  1.920000e+07  \n"
          ]
        }
      ]
    },
    {
      "cell_type": "code",
      "source": [
        "from google.colab import files\n",
        "# Save master_df to CSV\n",
        "master_df.to_csv(\"master_df.csv\", index=False)\n",
        "# Download the CSV\n",
        "files.download(\"master_df.csv\")"
      ],
      "metadata": {
        "colab": {
          "base_uri": "https://localhost:8080/",
          "height": 17
        },
        "id": "3Cs7LCpP2nfl",
        "outputId": "2814fa0e-06a9-4820-e9fa-1517a4764668"
      },
      "execution_count": null,
      "outputs": [
        {
          "output_type": "display_data",
          "data": {
            "text/plain": [
              "<IPython.core.display.Javascript object>"
            ],
            "application/javascript": [
              "\n",
              "    async function download(id, filename, size) {\n",
              "      if (!google.colab.kernel.accessAllowed) {\n",
              "        return;\n",
              "      }\n",
              "      const div = document.createElement('div');\n",
              "      const label = document.createElement('label');\n",
              "      label.textContent = `Downloading \"${filename}\": `;\n",
              "      div.appendChild(label);\n",
              "      const progress = document.createElement('progress');\n",
              "      progress.max = size;\n",
              "      div.appendChild(progress);\n",
              "      document.body.appendChild(div);\n",
              "\n",
              "      const buffers = [];\n",
              "      let downloaded = 0;\n",
              "\n",
              "      const channel = await google.colab.kernel.comms.open(id);\n",
              "      // Send a message to notify the kernel that we're ready.\n",
              "      channel.send({})\n",
              "\n",
              "      for await (const message of channel.messages) {\n",
              "        // Send a message to notify the kernel that we're ready.\n",
              "        channel.send({})\n",
              "        if (message.buffers) {\n",
              "          for (const buffer of message.buffers) {\n",
              "            buffers.push(buffer);\n",
              "            downloaded += buffer.byteLength;\n",
              "            progress.value = downloaded;\n",
              "          }\n",
              "        }\n",
              "      }\n",
              "      const blob = new Blob(buffers, {type: 'application/binary'});\n",
              "      const a = document.createElement('a');\n",
              "      a.href = window.URL.createObjectURL(blob);\n",
              "      a.download = filename;\n",
              "      div.appendChild(a);\n",
              "      a.click();\n",
              "      div.remove();\n",
              "    }\n",
              "  "
            ]
          },
          "metadata": {}
        },
        {
          "output_type": "display_data",
          "data": {
            "text/plain": [
              "<IPython.core.display.Javascript object>"
            ],
            "application/javascript": [
              "download(\"download_90cb793a-c09f-40c0-b289-6815cdf9a59b\", \"master_df.csv\", 891963)"
            ]
          },
          "metadata": {}
        }
      ]
    },
    {
      "cell_type": "code",
      "source": [
        "# Take a small sample for plotting (e.g., 1000 rows)\n",
        "plot_df = master_df.sample(n=500, random_state=42)"
      ],
      "metadata": {
        "id": "XZALpjJHFSwy"
      },
      "execution_count": null,
      "outputs": []
    },
    {
      "cell_type": "markdown",
      "source": [
        "Step 4 | EDA\n",
        "\n",
        "4.1 Univariate Analysis\n",
        "\n",
        "4.1.1 Numerical Variables"
      ],
      "metadata": {
        "id": "iyDqU81IFwrm"
      }
    },
    {
      "cell_type": "code",
      "source": [
        "import matplotlib.pyplot as plt\n",
        "import seaborn as sns\n",
        "\n",
        "numeric_cols = ['year', 'horsepower', 'mileage', 'price']\n",
        "\n",
        "for col in numeric_cols:\n",
        "    plt.figure(figsize=(8,4))\n",
        "    sns.histplot(plot_df[col], kde=True, bins=30, color='purple')\n",
        "    plt.title(f'Distribution of {col}')\n",
        "    plt.xlabel(col)\n",
        "    plt.ylabel('Count')\n",
        "    plt.show()\n",
        "\n",
        "    plt.figure(figsize=(8,4))\n",
        "    sns.boxplot(x=plot_df[col], color='lightpink')\n",
        "    plt.title(f'Boxplot of {col}')\n",
        "    plt.show()\n"
      ],
      "metadata": {
        "colab": {
          "base_uri": "https://localhost:8080/",
          "height": 1000
        },
        "id": "SD-q6aUYFSs2",
        "outputId": "6f8b6e17-5872-4d79-e2ff-30a44d59b11b"
      },
      "execution_count": null,
      "outputs": [
        {
          "output_type": "display_data",
          "data": {
            "text/plain": [
              "<Figure size 800x400 with 1 Axes>"
            ],
            "image/png": "[encoded data removed]"
          },
          "metadata": {}
        },
        {
          "output_type": "display_data",
          "data": {
            "text/plain": [
              "<Figure size 800x400 with 1 Axes>"
            ],
            "image/png": "[encoded data removed]"
          },
          "metadata": {}
        },
        {
          "output_type": "display_data",
          "data": {
            "text/plain": [
              "<Figure size 800x400 with 1 Axes>"
            ],
            "image/png": "[encoded data removed]"
          },
          "metadata": {}
        },
        {
          "output_type": "display_data",
          "data": {
            "text/plain": [
              "<Figure size 800x400 with 1 Axes>"
            ],
            "image/png": "[encoded data removed]"
          },
          "metadata": {}
        },
        {
          "output_type": "display_data",
          "data": {
            "text/plain": [
              "<Figure size 800x400 with 1 Axes>"
            ],
            "image/png": "[encoded data removed]"
          },
          "metadata": {}
        },
        {
          "output_type": "display_data",
          "data": {
            "text/plain": [
              "<Figure size 800x400 with 1 Axes>"
            ],
            "image/png": "[encoded data removed]"
          },
          "metadata": {}
        },
        {
          "output_type": "display_data",
          "data": {
            "text/plain": [
              "<Figure size 800x400 with 1 Axes>"
            ],
            "image/png": "[encoded data removed]"
          },
          "metadata": {}
        },
        {
          "output_type": "display_data",
          "data": {
            "text/plain": [
              "<Figure size 800x400 with 1 Axes>"
            ],
            "image/png": "[encoded data removed]"
          },
          "metadata": {}
        }
      ]
    },
    {
      "cell_type": "markdown",
      "source": [
        "4.1.2 Categorical Variables"
      ],
      "metadata": {
        "id": "eZBi1fqxF5zv"
      }
    },
    {
      "cell_type": "code",
      "source": [
        "categorical_cols = ['fuel_type', 'transmission', 'owner_type']\n",
        "\n",
        "for col in categorical_cols:\n",
        "    plt.figure(figsize=(6,4))\n",
        "    sns.countplot(x=plot_df[col], color='lightpink')  # single color for all bars\n",
        "    plt.title(f'Count of {col}')\n",
        "    plt.xlabel(col)\n",
        "    plt.ylabel('Count')\n",
        "    plt.show()\n",
        "\n"
      ],
      "metadata": {
        "colab": {
          "base_uri": "https://localhost:8080/",
          "height": 1000
        },
        "id": "-PbL3yG7FSqM",
        "outputId": "5f05ef3c-378b-4a46-ef2f-317c62ab8096"
      },
      "execution_count": null,
      "outputs": [
        {
          "output_type": "display_data",
          "data": {
            "text/plain": [
              "<Figure size 600x400 with 1 Axes>"
            ],
            "image/png": "[encoded data removed]"
          },
          "metadata": {}
        },
        {
          "output_type": "display_data",
          "data": {
            "text/plain": [
              "<Figure size 600x400 with 1 Axes>"
            ],
            "image/png": "[encoded data removed]"
          },
          "metadata": {}
        },
        {
          "output_type": "display_data",
          "data": {
            "text/plain": [
              "<Figure size 600x400 with 1 Axes>"
            ],
            "image/png": "[encoded data removed]"
          },
          "metadata": {}
        }
      ]
    },
    {
      "cell_type": "markdown",
      "source": [
        "4.2 Bivariate Analysis\n",
        "4.2.1 Numerical Features vs Price\n"
      ],
      "metadata": {
        "id": "TjKxe-ebGfZ_"
      }
    },
    {
      "cell_type": "code",
      "source": [
        "for col in ['year', 'horsepower', 'mileage']:\n",
        "    plt.figure(figsize=(8,4))\n",
        "    sns.scatterplot(x=plot_df[col], y=plot_df['price'], hue=plot_df['fuel_type'], palette='coolwarm')\n",
        "    plt.title(f'{col} vs Price')\n",
        "    plt.xlabel(col)\n",
        "    plt.ylabel('Price')\n",
        "    plt.show()"
      ],
      "metadata": {
        "colab": {
          "base_uri": "https://localhost:8080/",
          "height": 1000
        },
        "id": "8bq0IXDUFSnl",
        "outputId": "b49a0005-4fd7-4ca2-9744-359663e1959b"
      },
      "execution_count": null,
      "outputs": [
        {
          "output_type": "display_data",
          "data": {
            "text/plain": [
              "<Figure size 800x400 with 1 Axes>"
            ],
            "image/png": "[encoded data removed]"
          },
          "metadata": {}
        },
        {
          "output_type": "display_data",
          "data": {
            "text/plain": [
              "<Figure size 800x400 with 1 Axes>"
            ],
            "image/png": "[encoded data removed]"
          },
          "metadata": {}
        },
        {
          "output_type": "display_data",
          "data": {
            "text/plain": [
              "<Figure size 800x400 with 1 Axes>"
            ],
            "image/png": "[encoded data removed]"
          },
          "metadata": {}
        }
      ]
    },
    {
      "cell_type": "markdown",
      "source": [
        "4.2.2 Categorical Features vs Price\n",
        "\n"
      ],
      "metadata": {
        "id": "u5k_BBiGGk0T"
      }
    },
    {
      "cell_type": "code",
      "source": [
        "for col in ['fuel_type', 'transmission', 'owner_type']:\n",
        "    plt.figure(figsize=(6,4))\n",
        "    sns.boxplot(x=plot_df[col], y=plot_df['price'])\n",
        "    plt.title(f'{col} vs Price')\n",
        "    plt.xlabel(col)\n",
        "    plt.ylabel('Price')\n",
        "    plt.show()"
      ],
      "metadata": {
        "colab": {
          "base_uri": "https://localhost:8080/",
          "height": 1000
        },
        "id": "-8xvxkA3FSlD",
        "outputId": "567b6e86-eeeb-4e05-d08f-42605e966b62"
      },
      "execution_count": null,
      "outputs": [
        {
          "output_type": "display_data",
          "data": {
            "text/plain": [
              "<Figure size 600x400 with 1 Axes>"
            ],
            "image/png": "[encoded data removed]"
          },
          "metadata": {}
        },
        {
          "output_type": "display_data",
          "data": {
            "text/plain": [
              "<Figure size 600x400 with 1 Axes>"
            ],
            "image/png": "[encoded data removed]"
          },
          "metadata": {}
        },
        {
          "output_type": "display_data",
          "data": {
            "text/plain": [
              "<Figure size 600x400 with 1 Axes>"
            ],
            "image/png": "[encoded data removed]"
          },
          "metadata": {}
        }
      ]
    },
    {
      "cell_type": "code",
      "source": [
        "# Select only numeric columns\n",
        "numeric_cols = plot_df.select_dtypes(include='number')\n",
        "\n",
        "plt.figure(figsize=(6,5))\n",
        "sns.heatmap(numeric_cols.corr(), annot=True, cmap='coolwarm', fmt=\".2f\")\n",
        "plt.title('Correlation Heatmap')\n",
        "plt.show()"
      ],
      "metadata": {
        "colab": {
          "base_uri": "https://localhost:8080/",
          "height": 542
        },
        "id": "A2aY66gEF3wH",
        "outputId": "f0abf95d-4ee9-40c8-f20f-ef2ca7df4a4a"
      },
      "execution_count": null,
      "outputs": [
        {
          "output_type": "display_data",
          "data": {
            "text/plain": [
              "<Figure size 600x500 with 2 Axes>"
            ],
            "image/png": "[encoded data removed]"
          },
          "metadata": {}
        }
      ]
    },
    {
      "cell_type": "markdown",
      "source": [
        "Step 6: Decision Tree Model Building"
      ],
      "metadata": {
        "id": "haapHy1YG40B"
      }
    },
    {
      "cell_type": "code",
      "source": [
        "from sklearn.model_selection import train_test_split\n",
        "from sklearn.tree import DecisionTreeRegressor\n",
        "from sklearn.metrics import mean_squared_error, r2_score\n",
        "import numpy as np\n",
        "\n",
        "# 1. Features and target\n",
        "X = master_df.drop(columns=['price'])  # drop target and car_name\n",
        "y = master_df['price']\n",
        "\n",
        "# 2. Train/test split\n",
        "X_train, X_test, y_train, y_test = train_test_split(\n",
        "    X, y, test_size=0.2, random_state=42\n",
        ")\n",
        "\n",
        "# 3. Base Decision Tree\n",
        "dt_model = DecisionTreeRegressor(random_state=42)\n",
        "dt_model.fit(X_train, y_train)\n",
        "\n",
        "# 4. Predictions\n",
        "y_pred_dt = dt_model.predict(X_test)\n",
        "\n",
        "# 5. Evaluation\n",
        "rmse_dt = np.sqrt(mean_squared_error(y_test, y_pred_dt))\n",
        "r2_dt = r2_score(y_test, y_pred_dt)\n",
        "\n",
        "print(\"Decision Tree RMSE:\", rmse_dt)\n",
        "print(\"Decision Tree R2:\", r2_dt)\n",
        "\n",
        "# Optional: Feature importances\n",
        "importances = dt_model.feature_importances_\n",
        "for f, imp in zip(X.columns, importances):\n",
        "    print(f\"{f}: {imp:.4f}\")"
      ],
      "metadata": {
        "colab": {
          "base_uri": "https://localhost:8080/"
        },
        "id": "bfB5z-oUF3sD",
        "outputId": "148c83e4-8d30-49e6-df56-86ee31e530cb"
      },
      "execution_count": null,
      "outputs": [
        {
          "output_type": "stream",
          "name": "stdout",
          "text": [
            "Decision Tree RMSE: 612928.6410331036\n",
            "Decision Tree R2: 0.8215352158475522\n",
            "car_name: 0.2604\n",
            "year: 0.2188\n",
            "horsepower: 0.0000\n",
            "mileage: 0.2651\n",
            "fuel_type: 0.0354\n",
            "transmission: 0.1975\n",
            "owner_type: 0.0228\n"
          ]
        }
      ]
    },
    {
      "cell_type": "markdown",
      "source": [
        "6.3 DT Model Evaluation\n",
        "\n",
        "Plot predicted vs actual prices:"
      ],
      "metadata": {
        "id": "QpLN3oUgG-f2"
      }
    },
    {
      "cell_type": "code",
      "source": [
        "plt.scatter(y_test, y_pred_dt)\n",
        "plt.xlabel(\"Actual Price\")\n",
        "plt.ylabel(\"Predicted Price\")\n",
        "plt.title(\"Decision Tree: Actual vs Predicted\")\n",
        "plt.show()"
      ],
      "metadata": {
        "colab": {
          "base_uri": "https://localhost:8080/",
          "height": 472
        },
        "id": "RRLEcvc_F3mC",
        "outputId": "3a4bbe86-09c1-40e4-fa99-400b93b46a32"
      },
      "execution_count": null,
      "outputs": [
        {
          "output_type": "display_data",
          "data": {
            "text/plain": [
              "<Figure size 640x480 with 1 Axes>"
            ],
            "image/png": "[encoded data removed]"
          },
          "metadata": {}
        }
      ]
    },
    {
      "cell_type": "markdown",
      "source": [
        "Step 7: Random Forest Model Building"
      ],
      "metadata": {
        "id": "wgZYrT2SHITa"
      }
    },
    {
      "cell_type": "code",
      "source": [
        "from sklearn.ensemble import RandomForestRegressor\n",
        "\n",
        "# Random Forest\n",
        "rf_model = RandomForestRegressor(n_estimators=100, random_state=42)\n",
        "rf_model.fit(X_train, y_train)\n",
        "\n",
        "# Predictions\n",
        "y_pred_rf = rf_model.predict(X_test)\n",
        "\n",
        "# Evaluation\n",
        "rmse_rf = np.sqrt(mean_squared_error(y_test, y_pred_rf))\n",
        "r2_rf = r2_score(y_test, y_pred_rf)\n",
        "\n",
        "print(\"Random Forest RMSE:\", rmse_rf)\n",
        "print(\"Random Forest R2:\", r2_rf)\n",
        "\n",
        "# Optional: Feature importance\n",
        "importances = rf_model.feature_importances_\n",
        "for f, imp in zip(X.columns, importances):\n",
        "    print(f\"{f}: {imp:.4f}\")"
      ],
      "metadata": {
        "colab": {
          "base_uri": "https://localhost:8080/"
        },
        "id": "y0QGjkl6F3jy",
        "outputId": "7438fafa-6cca-499f-f57e-c1646463e6cd"
      },
      "execution_count": null,
      "outputs": [
        {
          "output_type": "stream",
          "name": "stdout",
          "text": [
            "Random Forest RMSE: 441828.1095760381\n",
            "Random Forest R2: 0.9072659162725885\n",
            "car_name: 0.2690\n",
            "year: 0.2126\n",
            "horsepower: 0.0000\n",
            "mileage: 0.2722\n",
            "fuel_type: 0.0358\n",
            "transmission: 0.1992\n",
            "owner_type: 0.0112\n"
          ]
        }
      ]
    },
    {
      "cell_type": "markdown",
      "source": [
        "Step 8: KNN Model Building\n",
        "\n"
      ],
      "metadata": {
        "id": "EMBxr8vZHOLc"
      }
    },
    {
      "cell_type": "code",
      "source": [
        "from sklearn.neighbors import KNeighborsRegressor\n",
        "\n",
        "knn_model = KNeighborsRegressor(n_neighbors=5)\n",
        "knn_model.fit(X_train, y_train)\n",
        "\n",
        "y_pred_knn = knn_model.predict(X_test)\n",
        "\n",
        "rmse_knn = np.sqrt(mean_squared_error(y_test, y_pred_knn))\n",
        "r2_knn = r2_score(y_test, y_pred_knn)\n",
        "\n",
        "print(\"KNN RMSE:\", rmse_knn)\n",
        "print(\"KNN R2:\", r2_knn)\n"
      ],
      "metadata": {
        "colab": {
          "base_uri": "https://localhost:8080/"
        },
        "id": "siZvvjQLHGxO",
        "outputId": "8d8d9e3b-a018-4739-fda9-e7c6486aaf34"
      },
      "execution_count": null,
      "outputs": [
        {
          "output_type": "stream",
          "name": "stdout",
          "text": [
            "KNN RMSE: 962666.9898335212\n",
            "KNN R2: 0.5597647035313695\n"
          ]
        }
      ]
    },
    {
      "cell_type": "markdown",
      "source": [
        "Step 9: SVM Model Building\n",
        "\n"
      ],
      "metadata": {
        "id": "bZe-xd1VHRzg"
      }
    },
    {
      "cell_type": "code",
      "source": [
        "from sklearn.svm import SVR\n",
        "from sklearn.preprocessing import StandardScaler\n",
        "\n",
        "# Standardize features for SVM\n",
        "scaler = StandardScaler()\n",
        "X_train_scaled = scaler.fit_transform(X_train)\n",
        "X_test_scaled = scaler.transform(X_test)\n",
        "\n",
        "svm_model = SVR(kernel='rbf', C=100, gamma=0.1, epsilon=0.1)\n",
        "svm_model.fit(X_train_scaled, y_train)\n",
        "\n",
        "y_pred_svm = svm_model.predict(X_test_scaled)\n",
        "\n",
        "rmse_svm = np.sqrt(mean_squared_error(y_test, y_pred_svm))\n",
        "r2_svm = r2_score(y_test, y_pred_svm)\n",
        "\n",
        "print(\"SVM RMSE:\", rmse_svm)\n",
        "print(\"SVM R2:\", r2_svm)"
      ],
      "metadata": {
        "colab": {
          "base_uri": "https://localhost:8080/"
        },
        "id": "F9l6bMuIHGu3",
        "outputId": "a85b151c-6420-484c-8982-86d48bba83da"
      },
      "execution_count": null,
      "outputs": [
        {
          "output_type": "stream",
          "name": "stdout",
          "text": [
            "SVM RMSE: 1521093.7758206825\n",
            "SVM R2: -0.09911890616233898\n"
          ]
        }
      ]
    },
    {
      "cell_type": "code",
      "source": [
        "for f, imp in zip(X.columns, dt_model.feature_importances_):\n",
        "    print(f\"{f}: {imp:.4f}\")"
      ],
      "metadata": {
        "colab": {
          "base_uri": "https://localhost:8080/"
        },
        "id": "uBG3MEsIFcS1",
        "outputId": "ae4d08d2-fe12-4237-cf8d-4cf482ee7ec4"
      },
      "execution_count": null,
      "outputs": [
        {
          "output_type": "stream",
          "name": "stdout",
          "text": [
            "car_name: 0.2604\n",
            "year: 0.2188\n",
            "horsepower: 0.0000\n",
            "mileage: 0.2651\n",
            "fuel_type: 0.0354\n",
            "transmission: 0.1975\n",
            "owner_type: 0.0228\n"
          ]
        }
      ]
    },
    {
      "cell_type": "markdown",
      "source": [
        "Step 10: Conclusion\n",
        "\n"
      ],
      "metadata": {
        "id": "8BH-ErRwHbBF"
      }
    },
    {
      "cell_type": "code",
      "source": [
        "import joblib\n",
        "\n",
        "# Save Random Forest model\n",
        "joblib.dump(rf_model, 'car_price_model.pkl')"
      ],
      "metadata": {
        "colab": {
          "base_uri": "https://localhost:8080/"
        },
        "id": "4ajxZYQjHGsR",
        "outputId": "ba6743bc-44f9-46de-8ac4-aee4561be11b"
      },
      "execution_count": null,
      "outputs": [
        {
          "output_type": "execute_result",
          "data": {
            "text/plain": [
              "['car_price_model.pkl']"
            ]
          },
          "metadata": {},
          "execution_count": 93
        }
      ]
    },
    {
      "cell_type": "code",
      "source": [
        "# Save scaler\n",
        "joblib.dump(scaler, 'scaler.pkl')"
      ],
      "metadata": {
        "colab": {
          "base_uri": "https://localhost:8080/"
        },
        "id": "6l5BKR2mHGpN",
        "outputId": "184a1d07-82d4-4328-e347-694dee3e96b8"
      },
      "execution_count": null,
      "outputs": [
        {
          "output_type": "execute_result",
          "data": {
            "text/plain": [
              "['scaler.pkl']"
            ]
          },
          "metadata": {},
          "execution_count": 94
        }
      ]
    },
    {
      "cell_type": "code",
      "source": [
        "# Save label encoders dictionary\n",
        "joblib.dump(label_encoders, 'label_encoders.pkl')"
      ],
      "metadata": {
        "colab": {
          "base_uri": "https://localhost:8080/"
        },
        "id": "QfhnnIQpHe8L",
        "outputId": "1c3cd027-9de5-485a-94db-27e85aa0c570"
      },
      "execution_count": null,
      "outputs": [
        {
          "output_type": "execute_result",
          "data": {
            "text/plain": [
              "['label_encoders.pkl']"
            ]
          },
          "metadata": {},
          "execution_count": 95
        }
      ]
    },
    {
      "cell_type": "code",
      "source": [
        "# Check the feature columns the model was trained on\n",
        "print(\"Columns expected by model/scaler:\")\n",
        "print(scaler.feature_names_in_)  # If you used a StandardScaler fitted with feature names\n",
        "\n",
        "# Or just check your training DataFrame columns\n",
        "print(\"Columns from training data:\")\n",
        "print(X_train.columns.tolist())\n",
        "\n",
        "# Look at first few rows of training data\n",
        "print(\"Sample training data (first 5 rows):\")\n",
        "print(X_train.head())\n"
      ],
      "metadata": {
        "colab": {
          "base_uri": "https://localhost:8080/"
        },
        "id": "Tx9dY_QTFwI8",
        "outputId": "a6fb411c-ccfd-4f54-e335-2335dd231b6e"
      },
      "execution_count": null,
      "outputs": [
        {
          "output_type": "stream",
          "name": "stdout",
          "text": [
            "Columns expected by model/scaler:\n",
            "['car_name' 'year' 'horsepower' 'mileage' 'fuel_type' 'transmission'\n",
            " 'owner_type']\n",
            "Columns from training data:\n",
            "['car_name', 'year', 'horsepower', 'mileage', 'fuel_type', 'transmission', 'owner_type']\n",
            "Sample training data (first 5 rows):\n",
            "       car_name      year  horsepower   mileage  fuel_type  transmission  \\\n",
            "15589       731  1.773905   -0.202074 -0.122313          4             0   \n",
            "12532      1464 -1.430162   -0.202074  0.329675          4             1   \n",
            "987        2156 -0.095134   -0.983321 -0.705527          4             0   \n",
            "12151      2563 -0.896151   -0.202074  0.578190          4             0   \n",
            "1361       2437 -0.095134   -0.805973 -0.705681          4             1   \n",
            "\n",
            "       owner_type  \n",
            "15589           0  \n",
            "12532           2  \n",
            "987             0  \n",
            "12151           2  \n",
            "1361            0  \n"
          ]
        }
      ]
    },
    {
      "cell_type": "code",
      "source": [
        "for col, le in label_encoders.items():\n",
        "    print(f\"Column: {col}\")\n",
        "    print(\"Known classes:\", le.classes_)\n",
        "    print()\n"
      ],
      "metadata": {
        "colab": {
          "base_uri": "https://localhost:8080/"
        },
        "id": "Eegw74f_Fzoi",
        "outputId": "f0c946c0-0452-4ea0-8ce7-283b550b5af2"
      },
      "execution_count": null,
      "outputs": [
        {
          "output_type": "stream",
          "name": "stdout",
          "text": [
            "Column: fuel_type\n",
            "Known classes: ['0' '1' '2' '3' '4']\n",
            "\n",
            "Column: transmission\n",
            "Known classes: ['0' '1']\n",
            "\n",
            "Column: owner_type\n",
            "Known classes: ['0' '1' '2' '3']\n",
            "\n",
            "Column: car_name\n",
            "Known classes: ['0' '1' '10' ... '997' '998' '999']\n",
            "\n"
          ]
        }
      ]
    },
    {
      "cell_type": "code",
      "source": [
        "import joblib\n",
        "\n",
        "# Load the trained Random Forest model\n",
        "model = joblib.load('car_price_model.pkl')\n",
        "\n",
        "# Load the scaler for numeric columns\n",
        "scaler = joblib.load('scaler.pkl')\n",
        "\n",
        "# Load the label encoders\n",
        "label_encoders = joblib.load('label_encoders.pkl')\n"
      ],
      "metadata": {
        "id": "t7xMVPzOGgC0"
      },
      "execution_count": null,
      "outputs": []
    },
    {
      "cell_type": "code",
      "source": [
        "user_input = {\n",
        "    'car_name': 0,  # pick any known integer from car_name encoder\n",
        "    'year': 2021,\n",
        "    'horsepower': 130,\n",
        "    'mileage': 18,\n",
        "    'fuel_type': 0,  # known encoded value\n",
        "    'transmission': 0,  # known encoded value\n",
        "    'owner_type': 0  # known encoded value\n",
        "}\n",
        "\n",
        "# Convert to DataFrame\n",
        "input_df = pd.DataFrame([user_input])"
      ],
      "metadata": {
        "id": "uBMiN1bCGiM5"
      },
      "execution_count": null,
      "outputs": []
    },
    {
      "cell_type": "code",
      "source": [
        "categorical_cols = ['car_name', 'fuel_type', 'transmission', 'owner_type']\n",
        "\n",
        "for col in categorical_cols:\n",
        "    if input_df[col][0] not in label_encoders[col].classes_:\n",
        "        print(f\"Unknown {col}! Encoding it as default value.\")\n",
        "        # Replace with first known class (or most frequent class)\n",
        "        default_value = label_encoders[col].classes_[0]\n",
        "        input_df[col] = default_value\n",
        "\n",
        "    # Transform using LabelEncoder\n",
        "    input_df[col] = label_encoders[col].transform(input_df[col])\n"
      ],
      "metadata": {
        "colab": {
          "base_uri": "https://localhost:8080/"
        },
        "id": "W-G4uzCnGj9m",
        "outputId": "9321fad2-400e-4a6a-8367-1e85a0d17c8e"
      },
      "execution_count": null,
      "outputs": [
        {
          "output_type": "stream",
          "name": "stdout",
          "text": [
            "Unknown car_name! Encoding it as default value.\n",
            "Unknown fuel_type! Encoding it as default value.\n",
            "Unknown transmission! Encoding it as default value.\n",
            "Unknown owner_type! Encoding it as default value.\n"
          ]
        }
      ]
    },
    {
      "cell_type": "code",
      "source": [
        "# Ensure all columns are present and in the correct order before scaling\n",
        "all_cols = ['car_name', 'year', 'horsepower', 'mileage', 'fuel_type', 'transmission', 'owner_type']\n",
        "input_df = input_df[all_cols]\n",
        "# Apply the scaler to all feature columns\n",
        "input_df[all_cols] = scaler.transform(input_df[all_cols])"
      ],
      "metadata": {
        "id": "o7arpIlSGj7P"
      },
      "execution_count": null,
      "outputs": []
    },
    {
      "cell_type": "code",
      "source": [
        "prediction = model.predict(input_df)\n",
        "print(\"Predicted Price:\", prediction[0])\n"
      ],
      "metadata": {
        "colab": {
          "base_uri": "https://localhost:8080/"
        },
        "id": "boRmSzkMGj5J",
        "outputId": "0c876e3f-9046-4ecb-fba4-b1d319ed3237"
      },
      "execution_count": null,
      "outputs": [
        {
          "output_type": "stream",
          "name": "stdout",
          "text": [
            "Predicted Price: 2418490.0\n"
          ]
        }
      ]
    },
    {
      "cell_type": "code",
      "source": [
        "import pandas as pd\n",
        "from sklearn.preprocessing import LabelEncoder, StandardScaler\n",
        "import joblib\n",
        "import numpy as np\n",
        "\n",
        "# Load the trained Random Forest model\n",
        "model = joblib.load('car_price_model.pkl')\n",
        "\n",
        "# Load the scaler for numeric columns\n",
        "scaler = joblib.load('scaler.pkl')\n",
        "\n",
        "# Load the label encoders (these are the encoders fitted on the *encoded* data, we need to refit)\n",
        "# label_encoders = joblib.load('label_encoders.pkl') # We will refit them\n",
        "\n",
        "# Example: user input\n",
        "user_input = {\n",
        "    'car_name': 'maruti wagon r lxi cng',\n",
        "    'year': 2021,\n",
        "    'horsepower': 130,\n",
        "    'mileage': 18,\n",
        "    'fuel_type': 'petrol',\n",
        "    'transmission': 'manual',\n",
        "    'owner_type': 'second'\n",
        "}\n",
        "\n",
        "# Convert to DataFrame\n",
        "input_df = pd.DataFrame([user_input])\n",
        "\n",
        "# Define categorical columns\n",
        "categorical_cols = ['car_name', 'fuel_type', 'transmission', 'owner_type']\n",
        "\n",
        "# Refit encoders on original data to include all possible categories\n",
        "# Access the original unencoded data from the 'dfs' dictionary\n",
        "# Assuming 'dfs' dictionary is still available in the kernel\n",
        "original_dfs = dfs # Use the existing dfs dictionary\n",
        "original_master_df_unencoded = pd.concat([harmonize_car_dataset(df) for df in original_dfs.values()], ignore_index=True)\n",
        "original_master_df_unencoded.dropna(subset=['price', 'car_name'], inplace=True)\n",
        "original_master_df_unencoded.reset_index(drop=True, inplace=True)\n",
        "\n",
        "# Refit encoders on original string data for each categorical column\n",
        "label_encoders = {} # Initialize a new dictionary for refitted encoders\n",
        "for col in categorical_cols:\n",
        "    le = LabelEncoder()\n",
        "    # Fit on the original string values from the unencoded data\n",
        "    le.fit(original_master_df_unencoded[col].astype(str).str.lower()) # Convert to lower and fit\n",
        "    label_encoders[col] = le\n",
        "\n",
        "\n",
        "# Loop through each column and handle unseen values during transformation\n",
        "for col in categorical_cols:\n",
        "    # Convert input value to string and lowercase for robustness\n",
        "    input_val_str = str(input_df[col][0]).lower()\n",
        "\n",
        "    # Check if the input value is in the trained classes\n",
        "    if input_val_str not in label_encoders[col].classes_:\n",
        "        print(f\"Warning: Unknown {col} '{input_val_str}'. Encoding it as the first class.\")\n",
        "        # Replace with a known class (e.g., the first class in the encoder)\n",
        "        # A more sophisticated approach might use the most frequent class or a specific 'unknown' category if prepared\n",
        "        default_value = label_encoders[col].classes_[0]\n",
        "        input_df[col] = label_encoders[col].transform([default_value])[0] # Transform the default value\n",
        "    else:\n",
        "        # Transform the known value\n",
        "        input_df[col] = label_encoders[col].transform([input_val_str])[0]\n",
        "\n",
        "\n",
        "# Ensure all columns are present and in the correct order before scaling\n",
        "all_cols = ['car_name', 'year', 'horsepower', 'mileage', 'fuel_type', 'transmission', 'owner_type']\n",
        "# Convert year, horsepower, and mileage to numeric if they aren't already\n",
        "input_df['year'] = pd.to_numeric(input_df['year'], errors='coerce')\n",
        "input_df['horsepower'] = pd.to_numeric(input_df['horsepower'], errors='coerce')\n",
        "input_df['mileage'] = pd.to_numeric(input_df['mileage'], errors='coerce')\n",
        "\n",
        "# Impute missing numeric values with median from original training data if necessary\n",
        "# You'd need to load or have access to the original training median values\n",
        "# For this example, I'll use a placeholder median value. Replace with actual values if available.\n",
        "# It's better to use the medians from the data used to train the model and scaler\n",
        "median_year = scaler.mean_[all_cols.index('year')] # Use mean from scaler as approximation for median\n",
        "median_horsepower = scaler.mean_[all_cols.index('horsepower')]\n",
        "median_mileage = scaler.mean_[all_cols.index('mileage')]\n",
        "\n",
        "input_df['year'] = input_df['year'].fillna(median_year)\n",
        "input_df['horsepower'] = input_df['horsepower'].fillna(median_horsepower)\n",
        "input_df['mileage'] = input_df['mileage'].fillna(median_mileage)\n",
        "\n",
        "# Apply the scaler to all feature columns. Ensure column order matches the scaler's fit.\n",
        "input_df_scaled = scaler.transform(input_df[all_cols])\n",
        "\n",
        "\n",
        "# Make the prediction\n",
        "prediction = model.predict(input_df_scaled)\n",
        "print(\"Predicted Price:\", prediction[0])"
      ],
      "metadata": {
        "colab": {
          "base_uri": "https://localhost:8080/"
        },
        "id": "Q6EZn6VHIbk5",
        "outputId": "c43dfc72-b818-4a3b-d287-f5fc091f642f"
      },
      "execution_count": null,
      "outputs": [
        {
          "output_type": "stream",
          "name": "stdout",
          "text": [
            "Predicted Price: 1122450.0\n"
          ]
        },
        {
          "output_type": "stream",
          "name": "stderr",
          "text": [
            "/tmp/ipython-input-2216946900.py:36: FutureWarning: The behavior of DataFrame concatenation with empty or all-NA entries is deprecated. In a future version, this will no longer exclude empty or all-NA columns when determining the result dtypes. To retain the old behavior, exclude the relevant entries before the concat operation.\n",
            "  original_master_df_unencoded = pd.concat([harmonize_car_dataset(df) for df in original_dfs.values()], ignore_index=True)\n",
            "/usr/local/lib/python3.12/dist-packages/sklearn/utils/validation.py:2739: UserWarning: X does not have valid feature names, but RandomForestRegressor was fitted with feature names\n",
            "  warnings.warn(\n"
          ]
        }
      ]
    },
    {
      "cell_type": "code",
      "metadata": {
        "colab": {
          "base_uri": "https://localhost:8080/"
        },
        "id": "6bf16cd8",
        "outputId": "b0c00d33-62c3-43a3-8c87-24182550505e"
      },
      "source": [
        "import matplotlib.pyplot as plt\n",
        "import seaborn as sns\n",
        "\n",
        "numeric_cols = ['year', 'horsepower', 'mileage', 'price']\n",
        "\n",
        "for col in numeric_cols:\n",
        "    plt.figure(figsize=(8,4))\n",
        "    sns.histplot(plot_df[col], kde=True, bins=30, color='purple')\n",
        "    plt.title(f'Distribution of {col}')\n",
        "    plt.xlabel(col)\n",
        "    plt.ylabel('Count')\n",
        "    plt.savefig(f'{col}_distribution.png') # Save histogram as PNG\n",
        "    plt.close() # Close the figure to prevent it from displaying\n",
        "\n",
        "    plt.figure(figsize=(8,4))\n",
        "    sns.boxplot(x=plot_df[col], color='lightpink')\n",
        "    plt.title(f'Boxplot of {col}')\n",
        "    plt.savefig(f'{col}_boxplot.png') # Save boxplot as PNG\n",
        "    plt.close() # Close the figure\n",
        "\n",
        "print(\"Numeric column plots saved as PNGs.\")"
      ],
      "execution_count": null,
      "outputs": [
        {
          "output_type": "stream",
          "name": "stdout",
          "text": [
            "Numeric column plots saved as PNGs.\n"
          ]
        }
      ]
    },
    {
      "cell_type": "code",
      "metadata": {
        "colab": {
          "base_uri": "https://localhost:8080/"
        },
        "id": "2917f6fc",
        "outputId": "d592f0a8-5203-4f1a-85bf-eca7f5dbbba5"
      },
      "source": [
        "import matplotlib.pyplot as plt\n",
        "import seaborn as sns\n",
        "\n",
        "categorical_cols = ['fuel_type', 'transmission', 'owner_type']\n",
        "\n",
        "for col in categorical_cols:\n",
        "    plt.figure(figsize=(6,4))\n",
        "    sns.countplot(x=plot_df[col], color='lightpink')\n",
        "    plt.title(f'Count of {col}')\n",
        "    plt.xlabel(col)\n",
        "    plt.ylabel('Count')\n",
        "    plt.savefig(f'{col}_count.png') # Save countplot as PNG\n",
        "    plt.close() # Close the figure\n",
        "\n",
        "print(\"Categorical column count plots saved as PNGs.\")"
      ],
      "execution_count": null,
      "outputs": [
        {
          "output_type": "stream",
          "name": "stdout",
          "text": [
            "Categorical column count plots saved as PNGs.\n"
          ]
        }
      ]
    },
    {
      "cell_type": "code",
      "metadata": {
        "colab": {
          "base_uri": "https://localhost:8080/"
        },
        "id": "c4d85a40",
        "outputId": "4c77b78e-8c95-4e21-da31-7d2bbcdd5ab7"
      },
      "source": [
        "import matplotlib.pyplot as plt\n",
        "import seaborn as sns\n",
        "\n",
        "for col in ['year', 'horsepower', 'mileage']:\n",
        "    plt.figure(figsize=(8,4))\n",
        "    sns.scatterplot(x=plot_df[col], y=plot_df['price'], hue=plot_df['fuel_type'], palette='coolwarm')\n",
        "    plt.title(f'{col} vs Price')\n",
        "    plt.xlabel(col)\n",
        "    plt.ylabel('Price')\n",
        "    plt.savefig(f'{col}_vs_price_scatterplot.png') # Save scatterplot as PNG\n",
        "    plt.close() # Close the figure\n",
        "\n",
        "print(\"Numeric feature vs Price scatter plots saved as PNGs.\")"
      ],
      "execution_count": null,
      "outputs": [
        {
          "output_type": "stream",
          "name": "stdout",
          "text": [
            "Numeric feature vs Price scatter plots saved as PNGs.\n"
          ]
        }
      ]
    },
    {
      "cell_type": "code",
      "metadata": {
        "colab": {
          "base_uri": "https://localhost:8080/"
        },
        "id": "469f409c",
        "outputId": "cf0dd33b-c37f-46d4-f572-eb3a61802c65"
      },
      "source": [
        "import matplotlib.pyplot as plt\n",
        "import seaborn as sns\n",
        "\n",
        "for col in ['fuel_type', 'transmission', 'owner_type']:\n",
        "    plt.figure(figsize=(6,4))\n",
        "    sns.boxplot(x=plot_df[col], y=plot_df['price'])\n",
        "    plt.title(f'{col} vs Price')\n",
        "    plt.xlabel(col)\n",
        "    plt.ylabel('Price')\n",
        "    plt.savefig(f'{col}_vs_price_boxplot.png') # Save boxplot as PNG\n",
        "    plt.close() # Close the figure\n",
        "\n",
        "print(\"Categorical feature vs Price box plots saved as PNGs.\")"
      ],
      "execution_count": null,
      "outputs": [
        {
          "output_type": "stream",
          "name": "stdout",
          "text": [
            "Categorical feature vs Price box plots saved as PNGs.\n"
          ]
        }
      ]
    },
    {
      "cell_type": "code",
      "metadata": {
        "colab": {
          "base_uri": "https://localhost:8080/"
        },
        "id": "1ac95cad",
        "outputId": "eebf6059-287e-4965-bc66-00a910211389"
      },
      "source": [
        "import matplotlib.pyplot as plt\n",
        "import seaborn as sns\n",
        "\n",
        "# Select only numeric columns\n",
        "numeric_cols = plot_df.select_dtypes(include='number')\n",
        "\n",
        "plt.figure(figsize=(6,5))\n",
        "sns.heatmap(numeric_cols.corr(), annot=True, cmap='coolwarm', fmt=\".2f\")\n",
        "plt.title('Correlation Heatmap')\n",
        "plt.savefig('correlation_heatmap.png') # Save heatmap as PNG\n",
        "plt.close() # Close the figure\n",
        "\n",
        "print(\"Correlation heatmap saved as PNG.\")"
      ],
      "execution_count": null,
      "outputs": [
        {
          "output_type": "stream",
          "name": "stdout",
          "text": [
            "Correlation heatmap saved as PNG.\n"
          ]
        }
      ]
    },
    {
      "cell_type": "code",
      "metadata": {
        "id": "a4d57e9c"
      },
      "source": [
        "import os\n",
        "import joblib\n",
        "import pandas as pd\n",
        "from flask import Flask, render_template, request, redirect, url_for\n",
        "import numpy as np\n",
        "from sklearn.preprocessing import LabelEncoder # Import LabelEncoder\n",
        "from sklearn.preprocessing import StandardScaler # Ensure StandardScaler is imported\n",
        "\n",
        "app = Flask(__name__)\n",
        "\n",
        "# Define the base directory for saved files (models, scaler)\n",
        "# We will refit encoders on the fly\n",
        "base_dir = os.path.dirname(os.path.abspath(__file__)) # Assumes app.py is in the same directory as the pkl files\n",
        "\n",
        "# Define paths to the saved files\n",
        "model_path = os.path.join(base_dir, 'car_price_model.pkl')\n",
        "scaler_path = os.path.join(base_dir, 'scaler.pkl')\n",
        "# We won't load label_encoders.pkl directly, we will refit\n",
        "\n",
        "# Path to the CSV file containing original string values\n",
        "# IMPORTANT: YOU MUST PLACE a master_df.csv file saved from the notebook\n",
        "# *before* final numerical encoding, containing ORIGINAL STRING VALUES,\n",
        "# in the same directory as app.py\n",
        "original_data_path = os.path.join(base_dir, 'master_df.csv')\n",
        "\n",
        "# Initialize all_feature_cols_expected_by_model here to ensure it's always defined\n",
        "# Provide a default fallback list that matches the columns used during training\n",
        "all_feature_cols_expected_by_model = ['car_name', 'year', 'horsepower', 'mileage', 'fuel_type', 'transmission', 'owner_type']\n",
        "\n",
        "\n",
        "# Load the model and scaler\n",
        "try:\n",
        "    model = joblib.load(model_path)\n",
        "    scaler = joblib.load(scaler_path)\n",
        "    print(\"Model and Scaler loaded successfully.\")\n",
        "    # If scaler has feature names, update the global variable\n",
        "    if hasattr(scaler, 'feature_names_in_'):\n",
        "        all_feature_cols_expected_by_model = list(scaler.feature_names_in_)\n",
        "        print(f\"Scaler feature names found: {all_feature_cols_expected_by_model}\")\n",
        "\n",
        "\n",
        "except FileNotFoundError as e:\n",
        "    print(f\"Error loading model or scaler: {e}\")\n",
        "    print(\"Please ensure 'car_price_model.pkl' and 'scaler.pkl' are in the same directory as app.py\")\n",
        "    model = None\n",
        "    scaler = None\n",
        "    # all_feature_cols_expected_by_model will retain its default value\n",
        "\n",
        "# Refit label encoders on original string data\n",
        "label_encoders = {}\n",
        "# Define all categorical columns expected by your model for encoding\n",
        "# IMPORTANT: These names must exactly match the column names in your ORIGINAL unencoded data\n",
        "# AND must be a subset of all_feature_cols_expected_by_model\n",
        "categorical_cols_for_refitting = ['car_name', 'fuel_type', 'transmission', 'owner_type'] # Add other original categorical cols if they exist and are needed for dropdowns\n",
        "\n",
        "try:\n",
        "    # Load the CSV that contains original string values for refitting encoders\n",
        "    # Make sure this file is saved from the notebook *before* encoding\n",
        "    original_df_unencoded = pd.read_csv(original_data_path)\n",
        "    print(f\"Original data loaded successfully from {original_data_path}.\")\n",
        "\n",
        "    # Ensure columns used for fitting exist in the loaded data\n",
        "    missing_cols_in_csv = [col for col in categorical_cols_for_refitting if col not in original_df_unencoded.columns]\n",
        "    if missing_cols_in_csv:\n",
        "        print(f\"Warning: Missing categorical columns in {original_data_path}: {missing_cols_in_csv}. Cannot refit encoders for these.\")\n",
        "\n",
        "    for col in categorical_cols_for_refitting:\n",
        "        if col in original_df_unencoded.columns:\n",
        "            le = LabelEncoder()\n",
        "            # Fit on the original string values from the loaded CSV\n",
        "            # Convert to string to handle potential NaNs and ensure correct dtype\n",
        "            le.fit(original_df_unencoded[col].astype(str).dropna()) # Fit on non-null string values\n",
        "            label_encoders[col] = le\n",
        "            print(f\"Encoder refitted for '{col}' with {len(le.classes_)} classes.\")\n",
        "        else:\n",
        "             # If column was missing, skip refitting\n",
        "             print(f\"Skipping encoder refitting for '{col}' as it's not in the loaded data.\")\n",
        "             pass # Encoder won't be in label_encoders dict\n",
        "\n",
        "\n",
        "    print(\"Label encoders refitted successfully.\")\n",
        "\n",
        "except FileNotFoundError:\n",
        "    print(f\"Error: Original data file not found at {original_data_path}. Cannot refit label encoders.\")\n",
        "    print(\"Please ensure 'master_df.csv' (saved from notebook *before* final numerical encoding) is in the same directory as app.py\")\n",
        "    # If original data is not found, label_encoders will remain empty or incomplete\n",
        "    label_encoders = {} # Initialize as empty dict on error\n",
        "\n",
        "\n",
        "# Define numeric limits for input validation (example values, adjust as needed)\n",
        "# These values should ideally be based on the min/max or reasonable ranges from your training data\n",
        "numeric_limits = {\n",
        "    'year': (1990, 2025),\n",
        "    'mileage': (0, 500000),\n",
        "    'horsepower': (30, 1000)\n",
        "}\n",
        "\n",
        "# Define the list of graph filenames saved earlier - REMOVED 'graphs/' prefix\n",
        "# Ensure these filenames exactly match the files you placed directly in the 'static' folder\n",
        "graph_filenames = [\n",
        "    'year_distribution.png',\n",
        "    'year_boxplot.png',\n",
        "    'horsepower_distribution.png',\n",
        "    'horsepower_boxplot.png',\n",
        "    'mileage_distribution.png',\n",
        "    'mileage_boxplot.png',\n",
        "    'price_distribution.png',\n",
        "    'price_boxplot.png',\n",
        "    'fuel_type_count.png',\n",
        "    'transmission_count.png',\n",
        "    'owner_type_count.png',\n",
        "    'year_vs_price_scatterplot.png',\n",
        "    'horsepower_vs_price_scatterplot.png',\n",
        "    'mileage_vs_price_scatterplot.png',\n",
        "    'fuel_type_vs_price_boxplot.png',\n",
        "    'transmission_vs_price_boxplot.png',\n",
        "    'owner_type_vs_price_boxplot.png',\n",
        "    'correlation_heatmap.png'\n",
        "]\n",
        "\n",
        "\n",
        "@app.route('/')\n",
        "def home():\n",
        "    \"\"\"Renders the home page with the prediction form.\"\"\"\n",
        "    if model is None or scaler is None:\n",
        "         return \"Error: Model or Scaler could not be loaded. Check logs for details.\", 500\n",
        "    if not label_encoders: # Check if label_encoders dict is empty\n",
        "        return \"Error: Label encoders could not be loaded/refitted. Ensure original data CSV is correct and present.\", 500\n",
        "\n",
        "\n",
        "    # Prepare data for dropdowns in the HTML form - Pass the original string classes\n",
        "    # Only include dropdown data for columns where encoders were successfully refitted\n",
        "    dropdown_data = {key: list(enc.classes_) for key, enc in label_encoders.items() if key in label_encoders}\n",
        "\n",
        "\n",
        "    # all_feature_cols_expected_by_model is a global variable\n",
        "\n",
        "\n",
        "    return render_template('index.html',\n",
        "                           dropdown_data=dropdown_data,\n",
        "                           numeric_limits=numeric_limits,\n",
        "                           # Pass the expected feature order if available\n",
        "                           feature_columns_order=all_feature_cols_expected_by_model\n",
        "                          )\n",
        "\n",
        "@app.route('/predict', methods=['POST'])\n",
        "def predict():\n",
        "    \"\"\"Handles the prediction request from the form.\"\"\"\n",
        "    # Access the global variable\n",
        "    global all_feature_cols_expected_by_model\n",
        "\n",
        "    if model is None or scaler is None or not label_encoders:\n",
        "        return \"Model components not loaded correctly. Cannot make prediction.\", 500\n",
        "\n",
        "    try:\n",
        "        # Get data from the form\n",
        "        # Use request.form.get() to handle potential missing keys gracefully (returns None if key not found)\n",
        "        user_input_raw = {\n",
        "            'car_name': request.form.get('car_name'),\n",
        "            'year': request.form.get('year'),\n",
        "            'horsepower': request.form.get('horsepower'),\n",
        "            'mileage': request.form.get('mileage'),\n",
        "            'fuel_type': request.form.get('fuel_type'),\n",
        "            'transmission': request.form.get('transmission'),\n",
        "            'owner_type': request.form.get('owner_type')\n",
        "            # Add other fields from your HTML form here if applicable\n",
        "        }\n",
        "\n",
        "\n",
        "        # Prepare data for DataFrame, ensuring all expected columns are present\n",
        "        # Use the global variable for expected order\n",
        "        input_data_processed = {}\n",
        "        for col in all_feature_cols_expected_by_model:\n",
        "             input_data_processed[col] = user_input_raw.get(col, None) # Use .get with default None if form field is missing\n",
        "\n",
        "        input_df = pd.DataFrame([input_data_processed]) # Create DataFrame with one row\n",
        "\n",
        "\n",
        "        # Preprocess the input data - Categorical Encoding\n",
        "        categorical_cols_to_encode = list(label_encoders.keys()) # Get columns for which we have encoders\n",
        "\n",
        "        for col in categorical_cols_to_encode:\n",
        "             # Ensure the column exists in input_df and the encoder exists for this column\n",
        "             if col in input_df.columns and col in label_encoders:\n",
        "                # Get the value, handle None/NaN from raw input\n",
        "                input_val = input_df[col].iloc[0]\n",
        "                # Convert to string, handle potential NaN/None from raw input and empty strings from form\n",
        "                input_val_str = str(input_val).lower() if pd.notna(input_val) and input_val != '' else label_encoders[col].classes_[0]\n",
        "\n",
        "\n",
        "                # Handle unseen values during transformation\n",
        "                if input_val_str not in label_encoders[col].classes_:\n",
        "                    print(f\"Warning: Unknown {col} '{input_val_str}'. Encoding it as the first class.\")\n",
        "                    default_value = label_encoders[col].classes_[0]\n",
        "                    input_df[col] = label_encoders[col].transform([default_value])[0] # Transform the default value\n",
        "                else:\n",
        "                    # Transform the known value\n",
        "                    input_df[col] = label_encoders[col].transform([input_val_str])[0]\n",
        "             else:\n",
        "                 # If column or encoder is missing, set to a default encoded value or handle as error\n",
        "                 print(f\"Error: Encoder for '{col}' not available or column missing in input_df. Cannot encode input.\")\n",
        "                 # Set to a default encoded value (e.g., 0) or handle as an error\n",
        "                 # Assuming 0 is a safe default for encoded categorical features that model can handle\n",
        "                 input_df[col] = 0\n",
        "\n",
        "\n",
        "        # Convert numeric columns - Handle potential empty strings or None from request.form.get\n",
        "        # Use the global all_feature_cols_expected_by_model to determine numeric columns\n",
        "        numeric_cols_to_convert = [col for col in all_feature_cols_expected_by_model if col not in categorical_cols_to_encode]\n",
        "\n",
        "\n",
        "        for col in numeric_cols_to_convert:\n",
        "            if col in input_df.columns and input_df[col].iloc[0] is not None and input_df[col].iloc[0] != '':\n",
        "                 # Use pd.to_numeric to handle conversion, errors='coerce' will turn invalid values into NaN\n",
        "                 input_df[col] = pd.to_numeric(input_df[col].iloc[0], errors='coerce')\n",
        "            else:\n",
        "                 input_df[col] = np.nan # Set to NaN if empty or None\n",
        "\n",
        "\n",
        "        # Impute missing numeric values using scaler's mean (approximation of training data median)\n",
        "        numeric_cols_for_imputation = numeric_cols_to_convert # Impute the same columns we tried to convert\n",
        "        for col in numeric_cols_for_imputation:\n",
        "             if col in input_df.columns and pd.isna(input_df[col].iloc[0]):\n",
        "                 # Find the index of the column in the scaler's feature_names_in_\n",
        "                 try:\n",
        "                     # Ensure scaler.feature_names_in_ is available and check column names\n",
        "                     if hasattr(scaler, 'feature_names_in_') and col in scaler.feature_names_in_:\n",
        "                         col_index_in_scaler = list(scaler.feature_names_in_).index(col)\n",
        "                         input_df[col] = scaler.mean_[col_index_in_scaler] # Impute with the mean from scaler\n",
        "                     else:\n",
        "                         print(f\"Warning: Scaler feature names not available or column '{col}' not found. Cannot impute using scaler mean.\")\n",
        "                         input_df[col] = 0 # Fallback: Impute with 0 if scaler info is missing\n",
        "                 except Exception as e:\n",
        "                     print(f\"Error during imputation for column '{col}': {e}\")\n",
        "                     input_df[col] = 0 # Fallback on error\n",
        "\n",
        "\n",
        "        # Ensure input_df has the correct column order and names matching scaler.feature_names_in_\n",
        "        # This is critical for scaler.transform and model.predict\n",
        "        # Use the global variable for expected order\n",
        "        try:\n",
        "             # Reindex the input_df to ensure correct column order and presence\n",
        "             # This is a safer way to ensure the input DataFrame matches the expected structure\n",
        "             input_df_processed_final = input_df.reindex(columns=all_feature_cols_expected_by_model)\n",
        "\n",
        "\n",
        "             # Need to handle potential dtypes after reindex, esp. for encoded categorical columns\n",
        "             # and imputed numeric columns. Ensure all are numeric before scaling.\n",
        "             # Convert all columns to numeric, coercing errors to NaN (should have been handled by imputation)\n",
        "             for col in input_df_processed_final.columns:\n",
        "                  input_df_processed_final[col] = pd.to_numeric(input_df_processed_final[col], errors='coerce')\n",
        "                  # Re-impute if pd.to_numeric created new NaNs (unlikely if previous steps were robust)\n",
        "                  if pd.isna(input_df_processed_final[col].iloc[0]):\n",
        "                       print(f\"Warning: NaN created after numeric conversion for '{col}'. Imputing again.\")\n",
        "                       if col in numeric_cols_for_imputation:\n",
        "                           # Impute missing numeric column with scaler mean (or fallback)\n",
        "                           try:\n",
        "                                if hasattr(scaler, 'feature_names_in_') and col in scaler.feature_names_in_:\n",
        "                                    col_index_in_scaler = list(scaler.feature_names_in_).index(col)\n",
        "                                    input_df_processed_final[col] = scaler.mean_[col_index_in_scaler]\n",
        "                                else:\n",
        "                                     input_df_processed_final[col] = 0 # Fallback\n",
        "                           except:\n",
        "                                input_df_processed_final[col] = 0 # Fallback\n",
        "                       elif col in categorical_cols_to_encode:\n",
        "                            # Impute missing categorical column with a default encoded value (e_g_ 0)\n",
        "                            input_df_processed_final[col] = 0 # Assuming 0 is a safe default\n",
        "                       else:\n",
        "                           # For any other unexpected missing column, set to 0 or NaN\n",
        "                           input_df_processed_final[col] = 0 # Defaulting to 0\n",
        "\n",
        "\n",
        "             # Apply the scaler to the prepared and ordered input data\n",
        "             # Pass the DataFrame directly to scaler.transform and model.predict\n",
        "             input_scaled_df = scaler.transform(input_df_processed_final) # scaler.transform returns a numpy array by default\n",
        "\n",
        "        except Exception as e:\n",
        "             print(f\"Error preparing or scaling input data: {e}\")\n",
        "             # Handle preparation/scaling error - return an error message to the user\n",
        "             return f\"Error processing input data for prediction: {e}\", 500\n",
        "\n",
        "\n",
        "        # Make the prediction\n",
        "        # Ensure the model is expecting the scaled data shape and format\n",
        "        # Convert scaled numpy array back to DataFrame with feature names before prediction\n",
        "        input_scaled_df_with_names = pd.DataFrame(input_scaled_df, columns=all_feature_cols_expected_by_model)\n",
        "\n",
        "        prediction = model.predict(input_scaled_df_with_names)\n",
        "        predicted_price = prediction[0]\n",
        "\n",
        "        # Format the predicted price (e.g., to two decimal places, add currency symbol)\n",
        "        formatted_price = f\"Predicted Price: ₹{predicted_price:,.2f}\" # Example formatting for Rupees\n",
        "\n",
        "        # To display the prediction result back on the index.html,\n",
        "        # we render the template again, passing the prediction result\n",
        "        # along with the dropdown and numeric limits data\n",
        "        dropdown_data_for_template = {key: list(enc.classes_) for key, enc in label_encoders.items() if key in label_encoders}\n",
        "\n",
        "        # Re-render index.html with prediction result and potentially submitted form data to keep form populated\n",
        "        # To repopulate the form, you need to pass the submitted values back to the template\n",
        "        # and modify index.html to set the 'value' attribute of inputs and make options selected\n",
        "        # Let's add submitted_form_data to the context\n",
        "        return render_template('index.html',\n",
        "                               dropdown_data=dropdown_data_for_template,\n",
        "                               numeric_limits=numeric_limits,\n",
        "                               prediction_result=formatted_price,\n",
        "                               submitted_form_data=user_input_raw # Pass raw input back to repopulate form\n",
        "                              )\n",
        "\n",
        "\n",
        "    except Exception as e:\n",
        "        # Catch any other unexpected errors during the predict route\n",
        "        print(f\"An unexpected error occurred in /predict route: {e}\")\n",
        "        # Provide a more informative error message to the user if possible\n",
        "        # In debug mode, traceback will be visible, in production, log the full traceback\n",
        "        import traceback\n",
        "        traceback.print_exc() # Print traceback to the console/logs\n",
        "        return f\"An unexpected error occurred during prediction: {e}\", 500\n",
        "\n",
        "\n",
        "@app.route('/graphs')\n",
        "def graphs():\n",
        "    \"\"\"Renders the graphs page.\"\"\"\n",
        "    # Pass the list of graph filenames to the template\n",
        "    return render_template('graphs.html', graph_filenames=graph_filenames)\n",
        "\n",
        "@app.route('/about')\n",
        "def about():\n",
        "    \"\"\"Renders the about page.\"\"\"\n",
        "    return render_template('about.html')\n",
        "\n",
        "if __name__ == '__main__':\n",
        "    # This is for running locally. For deployment, a production server like Gunicorn or uWSGI is recommended.\n",
        "    # To make the app accessible externally (e.g., on a local network), you can use host='0.0.0.0'\n",
        "    # app.run(debug=True, host='0.0.0.0')\n",
        "    app.run(debug=True) # Set debug=False in production"
      ],
      "execution_count": null,
      "outputs": []
    },
    {
      "cell_type": "code",
      "metadata": {
        "id": "25daa209"
      },
      "source": [
        "<!DOCTYPE html>\n",
        "<html lang=\"en\">\n",
        "\n",
        "<head>\n",
        "  <meta charset=\"UTF-8\" />\n",
        "  <meta name=\"viewport\" content=\"width=device-width, initial-scale=1\" />\n",
        "  <title>About Car Price Predictor</title>\n",
        "  <style>\n",
        "    /* Dark warm background with embedded light star pattern */\n",
        "    body {\n",
        "      margin: 0;\n",
        "      padding: 0;\n",
        "      font-family: 'Georgia', serif;\n",
        "      color: #f0e6d2;\n",
        "      background:\n",
        "        radial-gradient(2px 2px at 10% 25%, #f0e6d2cc, transparent),\n",
        "        radial-gradient(1.5px 1.5px at 25% 80%, #f0e6d233, transparent),\n",
        "        radial-gradient(2.5px 2.5px at 40% 60%, #f0e6d277, transparent),\n",
        "        radial-gradient(1.5px 1.5px at 55% 10%, #f0e6d240, transparent),\n",
        "        radial-gradient(2px 2px at 75% 25%, #f0e6d299, transparent),\n",
        "        radial-gradient(1.8px 1.8px at 85% 80%, #6b462271, transparent),\n",
        "        #2f1e0e;\n",
        "      background-repeat: repeat;\n",
        "      background-size: 150px 150px;\n",
        "    }\n",
        "\n",
        "    header {\n",
        "      background-color: #6b4c3b;\n",
        "      color: #f0e6d2;\n",
        "      padding: 1.25rem 2.5rem;\n",
        "      box-shadow: 0 3px 15px rgba(107, 76, 59, 0.75);\n",
        "      position: relative;\n",
        "    }\n",
        "\n",
        "    header h1 {\n",
        "      margin: 0;\n",
        "      font-size: 2.4rem;\n",
        "      letter-spacing: 2px;\n",
        "    }\n",
        "\n",
        "    nav ul {\n",
        "      list-style: none;\n",
        "      margin: 0;\n",
        "      padding: 0;\n",
        "      display: flex;\n",
        "    }\n",
        "\n",
        "    nav li {\n",
        "      position: relative;\n",
        "      margin-right: 2rem;\n",
        "    }\n",
        "\n",
        "    nav li a {\n",
        "      color: #f0e6d2;\n",
        "      text-decoration: none;\n",
        "      font-weight: 600;\n",
        "      font-size: 1.15rem;\n",
        "      padding: 0.5rem 0.8rem;\n",
        "      display: inline-block;\n",
        "    }\n",
        "\n",
        "    nav li:hover>a {\n",
        "      color: #deb887;\n",
        "      text-decoration: underline;\n",
        "    }\n",
        "\n",
        "    /* Warm brown styled back button */\n",
        "    .back-button {\n",
        "      display: inline-block;\n",
        "      background: linear-gradient(135deg, #a67c52, #6b4c3b);\n",
        "      color: #f0e6d2;\n",
        "      padding: 0.6rem 1.5rem;\n",
        "      font-weight: 700;\n",
        "      font-size: 1rem;\n",
        "      border: 2px solid #6b4c3b;\n",
        "      border-radius: 12px;\n",
        "      cursor: pointer;\n",
        "      margin-bottom: 2rem;\n",
        "      font-family: 'Georgia', serif;\n",
        "      box-shadow:\n",
        "        0 0 12px #a67c5299,\n",
        "        inset 0 0 10px #6b4c3b88;\n",
        "      transition: background 0.4s ease, transform 0.2s ease;\n",
        "      text-decoration: none;\n",
        "      user-select: none;\n",
        "    }\n",
        "\n",
        "    .back-button:hover {\n",
        "      background: linear-gradient(135deg, #6b4c3b, #a67c52);\n",
        "      transform: scale(1.05);\n",
        "      box-shadow:\n",
        "        0 0 18px #a67c55cc,\n",
        "        inset 0 0 13px #6b4c3be0;\n",
        "    }\n",
        "\n",
        "    .back-button:active {\n",
        "      transform: scale(0.95);\n",
        "    }\n",
        "\n",
        "    main {\n",
        "      max-width: 900px;\n",
        "      margin: 5rem auto 6rem auto;\n",
        "      background: #3f2e19;\n",
        "      padding: 3rem 3.5rem;\n",
        "      border-radius: 15px;\n",
        "      box-shadow: 0 10px 35px rgba(107, 76, 59, 0.8);\n",
        "      display: flex;\n",
        "      flex-wrap: wrap;\n",
        "      gap: 2rem;\n",
        "      align-items: center;\n",
        "    }\n",
        "\n",
        "    .content {\n",
        "      flex: 1 1 500px;\n",
        "      color: #f0e6d2;\n",
        "    }\n",
        "\n",
        "    h2 {\n",
        "      color: #deb887;\n",
        "      margin-bottom: 1.5rem;\n",
        "      font-size: 2rem;\n",
        "    }\n",
        "\n",
        "    p {\n",
        "      font-size: 1.15rem;\n",
        "      line-height: 1.6;\n",
        "      margin-bottom: 1rem;\n",
        "    }\n",
        "\n",
        "    .contact {\n",
        "      margin-top: 2rem;\n",
        "      font-size: 1.1rem;\n",
        "    }\n",
        "\n",
        "    .contact a {\n",
        "      color: #deb887;\n",
        "      text-decoration: none;\n",
        "      font-weight: 600;\n",
        "    }\n",
        "\n",
        "    .contact a:hover {\n",
        "      text-decoration: underline;\n",
        "    }\n",
        "\n",
        "    .car-image {\n",
        "      flex: 1 1 320px;\n",
        "      max-width: 320px;\n",
        "      border-radius: 15px;\n",
        "      box-shadow: 0 6px 25px rgba(166, 124, 82, 0.4);\n",
        "    }\n",
        "\n",
        "    /* Responsive */\n",
        "    @media (max-width: 700px) {\n",
        "      main {\n",
        "        flex-direction: column;\n",
        "        padding: 2rem;\n",
        "      }\n",
        "\n",
        "      .car-image,\n",
        "      .content {\n",
        "        max-width: 100%;\n",
        "        flex: unset;\n",
        "      }\n",
        "    }\n",
        "  </style>\n",
        "</head>\n",
        "\n",
        "<body>\n",
        "  <header>\n",
        "    <h1>About Car Price Predictor</h1>\n",
        "    <nav>\n",
        "      <ul>\n",
        "        <li><a href=\"{{ url_for('home') }}\">Home</a></li>\n",
        "        <li><a href=\"{{ url_for('graphs') }}\">Graphs</a></li>\n",
        "        <li><a href=\"{{ url_for('about') }}\" style=\"text-decoration: underline;\">About</a></li>\n",
        "      </ul>\n",
        "    </nav>\n",
        "  </header>\n",
        "\n",
        "  <main>\n",
        "\n",
        "    <!-- Back Button -->\n",
        "    <a href=\"{{ url_for('home') }}\" class=\"back-button\">&#8592; Back to Home</a>\n",
        "\n",
        "    <div class=\"content\">\n",
        "      <h2>Welcome!</h2>\n",
        "\n",
        "      <p>This web application helps you estimate used car prices based on various features like make, model, year, mileage, and more. It uses machine learning models trained on extensive data to provide accurate price predictions.</p>\n",
        "\n",
        "      <p>In addition to price prediction, you can explore detailed data visualizations and insights about car data, offering a comprehensive understanding of market trends and patterns.</p>\n",
        "\n",
        "      <p>The Car Price Predictor is an intelligent machine learning–powered web application that helps users estimate the resale value (selling price) of a car based on its specifications and features.</p>\n",
        "\n",
        "      <p>This project leverages data preprocessing, feature engineering, and predictive modeling to build accurate price prediction models using algorithms like Decision Trees and Support Vector Machines (SVM).</p>\n",
        "\n",
        "      <p>Thank you for visiting! If you have any feedback or questions, please feel free to reach out.</p>\n",
        "\n",
        "      <div class=\"contact\">\n",
        "        <p><strong>Vaibhavi Dhankhar</strong></p>\n",
        "        <p>Email: <a href=\"mailto:bhavi7677@gmail.com\">bhavi7677@gmail.com</a></p>\n",
        "        <p>GitHub: <a href=\"https://github.com/Vaibhavidhankhar/CodeAlpha_CarPricePrediction.git\" target=\"_blank\" rel=\"noopener noreferrer\">github.com/Vaibhavidhankhar/CodeAlpha_CarPricePrediction</a></p>\n",
        "        <p>LinkedIn: <a href=\"https://www.linkedin.com/in/vaibhavi-dhankhar-946b0a32b\" target=\"_blank\" rel=\"noopener noreferrer\">linkedin.com/in/vaibhavi-dhankhar-946b0a32b</a></p>\n",
        "      </div>\n",
        "    </div>\n",
        "\n",
        "    <img class=\"car-image\"\n",
        "      src=\"https://i0.wp.com/motogazer.com/wp-content/uploads/2025/02/MotoGazer_Car_Price_2025.jpg?fit=1080%2C540&ssl=1\"\n",
        "      alt=\"Decorative Car Image Matching Theme\" />\n",
        "  </main>\n",
        "</body>\n",
        "\n",
        "</html>"
      ],
      "execution_count": null,
      "outputs": []
    },
    {
      "cell_type": "code",
      "metadata": {
        "id": "7074c62e"
      },
      "source": [
        "<!DOCTYPE html>\n",
        "<html lang=\"en\">\n",
        "\n",
        "<head>\n",
        "  <meta charset=\"UTF-8\" />\n",
        "  <meta name=\"viewport\" content=\"width=device-width, initial-scale=1\" />\n",
        "  <title>Car Price Visualizations</title>\n",
        "  <style>\n",
        "    /* Body with light warm background and soft star pattern */\n",
        "    body {\n",
        "      margin: 0;\n",
        "      padding: 0;\n",
        "      font-family: 'Georgia', serif;\n",
        "      color: #4b2e05;\n",
        "      background:\n",
        "        radial-gradient(2px 2px at 10% 25%, #5a3f2499, transparent),\n",
        "        radial-gradient(1.5px 1.5px at 25% 80%, #a67c5233, transparent),\n",
        "        radial-gradient(2.5px 2.5px at 40% 60%, #a67c5277, transparent),\n",
        "        radial-gradient(1.5px 1.5px at 55% 10%, #a67c5240, transparent),\n",
        "        radial-gradient(2px 2px at 75% 25%, #2a1f1399, transparent),\n",
        "        radial-gradient(1.8px 1.8px at 85% 80%, #6b462271, transparent),\n",
        "        #eedac1;\n",
        "      background-repeat: repeat;\n",
        "      background-size: 150px 150px;\n",
        "    }\n",
        "\n",
        "    /* Header styling */\n",
        "    header {\n",
        "      background-color: #a67c52;\n",
        "      color: #f0e6d2;\n",
        "      padding: 1.25rem 2.5rem;\n",
        "      box-shadow: 0 3px 15px rgba(166, 124, 82, 0.75);\n",
        "      position: relative;\n",
        "    }\n",
        "\n",
        "    header h1 {\n",
        "      margin: 0;\n",
        "      font-size: 2.4rem;\n",
        "      letter-spacing: 2px;\n",
        "    }\n",
        "\n",
        "    nav ul {\n",
        "      list-style: none;\n",
        "      margin: 0;\n",
        "      padding: 0;\n",
        "      display: flex;\n",
        "    }\n",
        "\n",
        "    nav li {\n",
        "      position: relative;\n",
        "      margin-right: 2rem;\n",
        "    }\n",
        "\n",
        "    nav li a {\n",
        "      color: #f0e6d2;\n",
        "      text-decoration: none;\n",
        "      font-weight: 600;\n",
        "      font-size: 1.15rem;\n",
        "      padding: 0.5rem 0.8rem;\n",
        "      display: inline-block;\n",
        "    }\n",
        "\n",
        "    nav li:hover>a {\n",
        "      color: #4b2e05;\n",
        "      text-decoration: underline;\n",
        "    }\n",
        "\n",
        "    /* Back button styled as warm brown wavy box */\n",
        "    .back-button {\n",
        "      display: inline-block;\n",
        "      background: linear-gradient(135deg, #a67c52, #6b4c3b);\n",
        "      color: #f0e6d2;\n",
        "      padding: 0.6rem 1.5rem;\n",
        "      font-weight: 700;\n",
        "      font-size: 1rem;\n",
        "      border: 2px solid #6b4c3b;\n",
        "      border-radius: 12px;\n",
        "      cursor: pointer;\n",
        "      margin-bottom: 2rem;\n",
        "      font-family: 'Georgia', serif;\n",
        "      box-shadow:\n",
        "        0 0 12px #a67c5299,\n",
        "        inset 0 0 10px #6b4c3b88;\n",
        "      transition: background 0.4s ease, transform 0.2s ease;\n",
        "      text-decoration: none;\n",
        "      user-select: none;\n",
        "    }\n",
        "\n",
        "    .back-button:hover {\n",
        "      background: linear-gradient(135deg, #6b4c3b, #a67c52);\n",
        "      transform: scale(1.05);\n",
        "      box-shadow:\n",
        "        0 0 18px #a67c55cc,\n",
        "        inset 0 0 13px #6b4c3be0;\n",
        "    }\n",
        "\n",
        "    .back-button:active {\n",
        "      transform: scale(0.95);\n",
        "    }\n",
        "\n",
        "    /* Main container styling */\n",
        "    main {\n",
        "      max-width: 850px;\n",
        "      margin: 5rem auto 6rem auto;\n",
        "      background: #fff7e3;\n",
        "      padding: 3rem 3.5rem;\n",
        "      border-radius: 15px;\n",
        "      box-shadow: 0 10px 35px rgba(166, 124, 82, 0.3);\n",
        "    }\n",
        "\n",
        "    label {\n",
        "      display: block;\n",
        "      font-weight: bold;\n",
        "      margin-bottom: 0.75rem;\n",
        "      color: #6b4c3b;\n",
        "      font-size: 1.1rem;\n",
        "    }\n",
        "\n",
        "    select {\n",
        "      width: 100%;\n",
        "      padding: 0.8rem 1rem;\n",
        "      margin-bottom: 1.8rem;\n",
        "      border: 2px solid #a67c52;\n",
        "      border-radius: 8px;\n",
        "      font-size: 1.15rem;\n",
        "      color: #4b2e05;\n",
        "      background: #fffbf0;\n",
        "      cursor: pointer;\n",
        "      transition: all 0.3s ease;\n",
        "      font-family: 'Georgia', serif;\n",
        "    }\n",
        "\n",
        "    select:hover {\n",
        "      border-color: #6b4c3b;\n",
        "      box-shadow: 0 0 8px #a67c52;\n",
        "    }\n",
        "\n",
        "    select:focus {\n",
        "      outline: none;\n",
        "      border-color: #6b4c3b;\n",
        "      background: #fff8d6;\n",
        "    }\n",
        "\n",
        "    input[type=submit] {\n",
        "      cursor: pointer;\n",
        "      background-color: #a67c52;\n",
        "      color: #f0e6d2;\n",
        "      border: none;\n",
        "      font-weight: 700;\n",
        "      font-size: 1.25rem;\n",
        "      padding: 1rem 2rem;\n",
        "      border-radius: 10px;\n",
        "      letter-spacing: 1.3px;\n",
        "      width: 100%;\n",
        "      transition: background-color 0.4s;\n",
        "    }\n",
        "\n",
        "    input[type=submit]:hover {\n",
        "      background-color: #6b4c3b;\n",
        "    }\n",
        "\n",
        "    /* Graph display styles */\n",
        "    h3 {\n",
        "      color: #6b4c3b;\n",
        "      margin-top: 2.5rem;\n",
        "      text-align: center;\n",
        "      font-size: 1.6rem;\n",
        "    }\n",
        "\n",
        "    .graph-img,\n",
        "    .graph-html {\n",
        "      margin-top: 1.5rem;\n",
        "      max-width: 100%;\n",
        "      border-radius: 15px;\n",
        "      box-shadow: 0 6px 25px rgba(166, 124, 82, 0.3);\n",
        "      display: block;\n",
        "      margin-left: auto;\n",
        "      margin-right: auto;\n",
        "    }\n",
        "\n",
        "    /* Responsive */\n",
        "    @media (max-width: 600px) {\n",
        "      main {\n",
        "        margin: 3rem 1rem 4rem 1rem;\n",
        "        padding: 2rem;\n",
        "      }\n",
        "    }\n",
        "  </style>\n",
        "</head>\n",
        "\n",
        "<body>\n",
        "  <header>\n",
        "    <h1>Car Price Visualizations</h1>\n",
        "    <nav>\n",
        "      <ul>\n",
        "        <li><a href=\"{{ url_for('home') }}\">Home</a></li>\n",
        "        <li><a href=\"{{ url_for('graphs') }}\" style=\"text-decoration: underline;\">Graphs</a></li>\n",
        "        <li><a href=\"{{ url_for('about') }}\">About</a></li>\n",
        "      </ul>\n",
        "    </nav>\n",
        "  </header>\n",
        "  <main>\n",
        "    <!-- Back to Home Button -->\n",
        "    <a href=\"{{ url_for('home') }}\" class=\"back-button\">&#8592; Back to Home</a>\n",
        "\n",
        "    <div>\n",
        "      <label for=\"graph-select\">Select a Graph to View:</label>\n",
        "      <select id=\"graph-select\" onchange=\"displayGraph()\">\n",
        "        <option value=\"\" disabled selected>-- Choose a graph --</option>\n",
        "        {% for filename in graph_filenames %}\n",
        "        <option value=\"{{ url_for('static', filename=filename) }}\">{{ filename }}</option> {# Removed 'graphs/' #}\n",
        "        {% endfor %}\n",
        "      </select>\n",
        "    </div>\n",
        "\n",
        "    <div id=\"graph-container\">\n",
        "      <!-- The selected graph will be displayed here -->\n",
        "      <img id=\"displayed-graph\" src=\"\" alt=\"Selected Graph\" style=\"max-width: 100%; height: auto;\">\n",
        "    </div>\n",
        "\n",
        "    <script>\n",
        "      function displayGraph() {\n",
        "        const selectElement = document.getElementById('graph-select');\n",
        "        const selectedValue = selectElement.value;\n",
        "        const imgElement = document.getElementById('displayed-graph');\n",
        "\n",
        "        if (selectedValue) {\n",
        "          // Assuming your static files are served from a 'static' folder\n",
        "          // and your graphs are directly within 'static' (no 'graphs' subfolder)\n",
        "          imgElement.src = selectedValue;\n",
        "        } else {\n",
        "          imgElement.src = \"\"; // Clear the image if no option is selected\n",
        "        }\n",
        "      }\n",
        "    </script>\n",
        "  </main>\n",
        "</body>\n",
        "\n",
        "</html>"
      ],
      "execution_count": null,
      "outputs": []
    },
    {
      "cell_type": "code",
      "source": [
        "<!DOCTYPE html>\n",
        "<html lang=\"en\">\n",
        "<head>\n",
        "<meta charset=\"UTF-8\" />\n",
        "<meta name=\"viewport\" content=\"width=device-width, initial-scale=1\" />\n",
        "<title>Car Price Predictor</title>\n",
        "\n",
        "<style>\n",
        "  /* Dark background with warm color scheme */\n",
        "  body {\n",
        "    margin: 0; padding: 0;\n",
        "    font-family: 'Georgia', serif;\n",
        "    color: #f0e6d2;\n",
        "    background: #2f1e0e;\n",
        "    overflow-x: hidden;\n",
        "  }\n",
        "\n",
        "  /* Bubbles container */\n",
        "  .bubbles {\n",
        "    position: fixed;\n",
        "    width: 100%;\n",
        "    height: 100%;\n",
        "    top: 0; left: 0;\n",
        "    pointer-events: none;\n",
        "    overflow: hidden;\n",
        "    z-index: 0;\n",
        "  }\n",
        "\n",
        "  /* Each bubble */\n",
        "  .bubble {\n",
        "    position: absolute;\n",
        "    bottom: -100px;\n",
        "    background: rgba(240, 230, 210, 0.7);\n",
        "    border-radius: 50%;\n",
        "    opacity: 0.6;\n",
        "    animation: rise 8s linear infinite;\n",
        "  }\n",
        "\n",
        "  /* Different sizes and horizontal start positions */\n",
        "  .bubble:nth-child(1) {\n",
        "    width: 15px; height: 15px;\n",
        "    left: 10%;\n",
        "    animation-delay: 0s;\n",
        "    animation-duration: 7s;\n",
        "  }\n",
        "  .bubble:nth-child(2) {\n",
        "    width: 25px; height: 25px;\n",
        "    left: 25%;\n",
        "    animation-delay: 2s;\n",
        "    animation-duration: 8s;\n",
        "  }\n",
        "  .bubble:nth-child(3) {\n",
        "    width: 10px; height: 10px;\n",
        "    left: 40%;\n",
        "    animation-delay: 4s;\n",
        "    animation-duration: 6s;\n",
        "  }\n",
        "  .bubble:nth-child(4) {\n",
        "    width: 20px; height: 20px;\n",
        "    left: 55%;\n",
        "    animation-delay: 1s;\n",
        "    animation-duration: 9s;\n",
        "  }\n",
        "  .bubble:nth-child(5) {\n",
        "    width: 18px; height: 18px;\n",
        "    left: 70%;\n",
        "    animation-delay: 3s;\n",
        "    animation-duration: 7s;\n",
        "  }\n",
        "  .bubble:nth-child(6) {\n",
        "    width: 12px; height: 12px;\n",
        "    left: 85%;\n",
        "    animation-delay: 5s;\n",
        "    animation-duration: 8s;\n",
        "  }\n",
        "  .bubble:nth-child(7) {\n",
        "  width: 14px; height: 14px;\n",
        "  left: 15%;\n",
        "  animation-delay: 1.5s;\n",
        "  animation-duration: 7.5s;\n",
        "}\n",
        ".bubble:nth-child(8) {\n",
        "  width: 22px; height: 22px;\n",
        "  left: 33%;\n",
        "  animation-delay: 2.7s;\n",
        "  animation-duration: 8.2s;\n",
        "}\n",
        ".bubble:nth-child(9) {\n",
        "  width: 12px; height: 12px;\n",
        "  left: 60%;\n",
        "  animation-delay: 0.7s;\n",
        "  animation-duration: 6.8s;\n",
        "}\n",
        ".bubble:nth-child(10) {\n",
        "  width: 18px; height: 18px;\n",
        "  left: 90%;\n",
        "  animation-delay: 3.3s;\n",
        "  animation-duration: 7.7s;\n",
        "}\n",
        ".bubble:nth-child(11) {\n",
        "    width: 20px; height: 20px;\n",
        "    left: 55%;\n",
        "    animation-delay: 1s;\n",
        "    animation-duration: 9s;\n",
        "  }\n",
        "  .bubble:nth-child(12) {\n",
        "    width: 18px; height: 18px;\n",
        "    left: 70%;\n",
        "    animation-delay: 3s;\n",
        "    animation-duration: 7s;\n",
        "  }\n",
        "  .bubble:nth-child(13) {\n",
        "    width: 12px; height: 12px;\n",
        "    left: 85%;\n",
        "    animation-delay: 5s;\n",
        "    animation-duration: 8s;\n",
        "  }\n",
        "  .bubble:nth-child(14) {\n",
        "  width: 14px; height: 14px;\n",
        "  left: 15%;\n",
        "  animation-delay: 1.5s;\n",
        "  animation-duration: 7.5s;\n",
        "}\n",
        ".bubble:nth-child(15) {\n",
        "    width: 15px; height: 15px;\n",
        "    left: 10%;\n",
        "    animation-delay: 0s;\n",
        "    animation-duration: 7s;\n",
        "  }\n",
        "  .bubble:nth-child(16) {\n",
        "    width: 25px; height: 25px;\n",
        "    left: 25%;\n",
        "    animation-delay: 2s;\n",
        "    animation-duration: 8s;\n",
        "  }\n",
        "  .bubble:nth-child(17) {\n",
        "    width: 10px; height: 10px;\n",
        "    left: 40%;\n",
        "    animation-delay: 4s;\n",
        "    animation-duration: 6s;\n",
        "  }\n",
        "\n",
        "/* Animation for bubbles: rise and fade */\n",
        "@keyframes rise {\n",
        "  0% {\n",
        "    transform: translateY(0) scale(1);\n",
        "    opacity: 0.6;\n",
        "  }\n",
        "  50% {\n",
        "    opacity: 0.8;\n",
        "  }\n",
        "  100% {\n",
        "    transform: translateY(-110vh) scale(1.3);\n",
        "    opacity: 0;\n",
        "  }\n",
        "}\n",
        "\n",
        "header {\n",
        "  position: relative;\n",
        "  background-color: #6b4c3b;\n",
        "  color: #f0e6d2;\n",
        "  padding: 1rem 2rem;\n",
        "  box-shadow: 0 3px 15px rgba(107,76,59,0.7);\n",
        "  z-index: 10;\n",
        "}\n",
        "header h1 {\n",
        "  margin: 0;\n",
        "  font-size: 2.4rem;\n",
        "  letter-spacing: 2px;\n",
        "}\n",
        "nav ul {\n",
        "  list-style: none;\n",
        "  margin: 0; padding: 0;\n",
        "  display: flex;\n",
        "}\n",
        "nav li {\n",
        "  position: relative;\n",
        "  margin-right: 2rem;\n",
        "}\n",
        "nav li a {\n",
        "  color: #f0e6d2;\n",
        "  text-decoration: none;\n",
        "  font-weight: 600;\n",
        "  font-size: 1.15rem;\n",
        "  padding: 0.5rem 0.75rem;\n",
        "  display: inline-block;\n",
        "}\n",
        "nav li:hover > ul {\n",
        "  display: block;\n",
        "}\n",
        "nav ul ul {\n",
        "  display: none;\n",
        "  position: absolute;\n",
        "  background: #deb887;\n",
        "  border-radius: 6px;\n",
        "  box-shadow: 0 6px 15px rgba(107,76,59,0.75);\n",
        "  padding: 0.5rem 0;\n",
        "  min-width: 180px;\n",
        "  z-index: 20;\n",
        "}\n",
        "nav ul ul li {\n",
        "  margin: 0;\n",
        "}\n",
        "nav ul ul a {\n",
        "  color: #4b2e05;\n",
        "  padding: 0.5rem 1rem;\n",
        "  display: block;\n",
        "  font-weight: normal;\n",
        "}\n",
        "nav ul ul a:hover {\n",
        "  background: #bf8a5f;\n",
        "  color: white;\n",
        "}\n",
        "main {\n",
        "  position: relative;\n",
        "  max-width: 600px;\n",
        "  margin: 4rem auto 6rem auto;\n",
        "  background: rgba(240, 230, 210, 0.95);\n",
        "  padding: 2.5rem 3rem;\n",
        "  border-radius: 12px;\n",
        "  box-shadow: 0 10px 40px rgba(107,76,59,0.3);\n",
        "  z-index: 10;\n",
        "}\n",
        "label {\n",
        "  display: block;\n",
        "  font-weight: bold;\n",
        "  margin-bottom: 0.5rem;\n",
        "  color: #4b2e05;\n",
        "}\n",
        "select, input[type=number] {\n",
        "  width: 100%;\n",
        "  padding: 0.55rem 0.75rem;\n",
        "  margin-bottom: 1.3rem;\n",
        "  border: 2px solid #a07b45;\n",
        "  border-radius: 6px;\n",
        "  font-size: 1.05rem;\n",
        "  color: #4b2e05;\n",
        "  background: #fff7e6;\n",
        "  transition: border-color 0.3s, box-shadow 0.3s;\n",
        "}\n",
        "select:hover, input[type=number]:hover {\n",
        "  border-color: #7e5a23;\n",
        "  box-shadow: 0 0 5px #a07b45;\n",
        "}\n",
        "select:focus, input[type=number]:focus {\n",
        "  outline: none;\n",
        "  border-color: #4b2e05;\n",
        "  background: white;\n",
        "}\n",
        "input[type=submit] {\n",
        "  cursor: pointer;\n",
        "  background-color: #6b4c3b;\n",
        "  color: #f0e6d2;\n",
        "  border: none;\n",
        "  font-weight: 700;\n",
        "  font-size: 1.25rem;\n",
        "  padding: 0.95rem 1.8rem;\n",
        "  border-radius: 10px;\n",
        "  letter-spacing: 1.3px;\n",
        "  transition: background-color 0.4s ease;\n",
        "}\n",
        "input[type=submit]:hover {\n",
        "  background-color: #513824;\n",
        "}\n",
        ".hint {\n",
        "  font-size: 0.9rem;\n",
        "  color: #855e42;\n",
        "  margin-top: -1rem;\n",
        "  margin-bottom: 1rem;\n",
        "  font-style: italic;\n",
        "}\n",
        "hr {\n",
        "  margin: 2.5rem 0;\n",
        "  border: none;\n",
        "  border-bottom: 2px solid #a07b45;\n",
        "}\n",
        "main h2 {\n",
        "  color: #4b2e05;\n",
        "}\n",
        "\n",
        "</style>\n",
        "</head>\n",
        "<body>\n",
        "  <div class=\"bubbles\">\n",
        "    <div class=\"bubble\"></div>\n",
        "    <div class=\"bubble\"></div>\n",
        "    <div class=\"bubble\"></div>\n",
        "    <div class=\"bubble\"></div>\n",
        "    <div class=\"bubble\"></div>\n",
        "    <div class=\"bubble\"></div>\n",
        "    <div class=\"bubble\"></div>\n",
        "    <div class=\"bubble\"></div>\n",
        "    <div class=\"bubble\"></div>\n",
        "    <div class=\"bubble\"></div>\n",
        "    <div class=\"bubble\"></div>\n",
        "    <div class=\"bubble\"></div>\n",
        "    <div class=\"bubble\"></div>\n",
        "    <div class=\"bubble\"></div>\n",
        "    <div class=\"bubble\"></div>\n",
        "    <div class=\"bubble\"></div>\n",
        "    <div class=\"bubble\"></div>\n",
        "    <div class=\"bubble\"></div>\n",
        "  </div>\n",
        "<header>\n",
        "  <h1>Car Price Predictor</h1>\n",
        "  <nav>\n",
        "    <ul>\n",
        "      <li><a href=\"/\">Home</a></li>\n",
        "      <li><a href=\"/graphs\">Graphs</a></li>\n",
        "      <li><a href=\"/about\">About</a></li>\n",
        "    </ul>\n",
        "  </nav>\n",
        "</header>\n",
        "<main>\n",
        "  <form action=\"/predict\" method=\"post\" novalidate>\n",
        "    <label for=\"car_name\">Car Name:</label>\n",
        "    <select name=\"car_name\" id=\"car_name\" required>\n",
        "      {% for option in dropdown_data['car_name'] %}\n",
        "        <option value=\"{{ option }}\">{{ option }}</option>\n",
        "      {% endfor %}\n",
        "    </select>\n",
        "\n",
        "    <label for=\"fuel_type\">Fuel Type:</label>\n",
        "    <select name=\"fuel_type\" id=\"fuel_type\" required>\n",
        "      {% for option in dropdown_data['fuel_type'] %}\n",
        "        <option value=\"{{ option }}\">{{ option }}</option>\n",
        "      {% endfor %}\n",
        "    </select>\n",
        "\n",
        "    <label for=\"transmission\">Transmission:</label>\n",
        "    <select name=\"transmission\" id=\"transmission\" required>\n",
        "      {% for option in dropdown_data['transmission'] %}\n",
        "        <option value=\"{{ option }}\">{{ option }}</option>\n",
        "      {% endfor %}\n",
        "    </select>\n",
        "\n",
        "    <label for=\"horsepower\">Horsepower:</label>\n",
        "    <input type=\"number\" id=\"horsepower\" name=\"horsepower\" min=\"{{ numeric_limits['horsepower'][0] }}\" max=\"{{ numeric_limits['horsepower'][1] }}\" required>\n",
        "    <div class=\"hint\">Enter horsepower between {{ numeric_limits['horsepower'][0] }} and {{ numeric_limits['horsepower'][1] }}</div>\n",
        "\n",
        "    <label for=\"owner_type\">Owner Type:</label>\n",
        "    <select name=\"owner_type\" id=\"owner_type\" required>\n",
        "      {% for option in dropdown_data['owner_type'] %}\n",
        "        <option value=\"{{ option }}\">{{ option }}</option>\n",
        "      {% endfor %}\n",
        "    </select>\n",
        "\n",
        "    <label for=\"year\">Year:</label>\n",
        "    <input type=\"number\" id=\"year\" name=\"year\" min=\"{{ numeric_limits['year'][0] }}\" max=\"{{ numeric_limits['year'][1] }}\" required>\n",
        "    <div class=\"hint\">Enter year between {{ numeric_limits['year'][0] }} and {{ numeric_limits['year'][1] }}</div>\n",
        "\n",
        "    <label for=\"mileage\">Mileage (kmpl):</label>\n",
        "    <input type=\"number\" id=\"mileage\" name=\"mileage\" step=\"0.1\" min=\"{{ numeric_limits['mileage'][0] }}\" max=\"{{ numeric_limits['mileage'][1] }}\" required>\n",
        "    <div class=\"hint\">Enter mileage between {{ numeric_limits['mileage'][0] }} and {{ numeric_limits['mileage'][1] }} kmpl</div>\n",
        "\n",
        "\n",
        "    <input type=\"submit\" value=\"Predict Price\">\n",
        "  </form>\n",
        "{% if prediction_result %}\n",
        "    <h2>{{ prediction_result }}</h2>\n",
        "{% endif %}\n",
        "</main>\n",
        "</body>\n",
        "</html>\n"
      ],
      "metadata": {
        "id": "DdV84QlR5JEB"
      },
      "execution_count": null,
      "outputs": []
    }
  ]
}